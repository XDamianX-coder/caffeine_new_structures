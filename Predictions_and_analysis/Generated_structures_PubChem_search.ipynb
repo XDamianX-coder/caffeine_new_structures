{
 "cells": [
  {
   "cell_type": "code",
   "execution_count": 1,
   "id": "023acbac",
   "metadata": {},
   "outputs": [],
   "source": [
    "import pubchempy as pcp\n",
    "import pandas as pd\n",
    "import math"
   ]
  },
  {
   "cell_type": "code",
   "execution_count": 2,
   "id": "9aaa9213",
   "metadata": {},
   "outputs": [],
   "source": [
    "data_ = pd.read_excel('../Data/Molecules_generated_tensor_scaling_0_2.xlsx')"
   ]
  },
  {
   "cell_type": "code",
   "execution_count": 3,
   "id": "1782f2f8",
   "metadata": {},
   "outputs": [],
   "source": [
    "data__ = pd.read_excel('../Data/Molecules_generated_tensor_scaling_0_1.xlsx')"
   ]
  },
  {
   "cell_type": "code",
   "execution_count": 4,
   "id": "c442f59b",
   "metadata": {},
   "outputs": [],
   "source": [
    "data = pd.concat([data_, data__], ignore_index=True)"
   ]
  },
  {
   "cell_type": "code",
   "execution_count": 5,
   "id": "97f944a0",
   "metadata": {},
   "outputs": [
    {
     "data": {
      "text/plain": [
       "653"
      ]
     },
     "execution_count": 5,
     "metadata": {},
     "output_type": "execute_result"
    }
   ],
   "source": [
    "len(data['SMILES_From_Tensor_rotation'])"
   ]
  },
  {
   "cell_type": "code",
   "execution_count": 6,
   "id": "87d3c916",
   "metadata": {},
   "outputs": [
    {
     "data": {
      "text/plain": [
       "498"
      ]
     },
     "execution_count": 6,
     "metadata": {},
     "output_type": "execute_result"
    }
   ],
   "source": [
    "data = data.drop_duplicates(subset=['SMILES_From_Tensor_rotation'])\n",
    "#list(set(data['SMILES_From_Tensor_rotation'])) #old approach\n",
    "len(data)"
   ]
  },
  {
   "cell_type": "code",
   "execution_count": 7,
   "id": "bf24f29d",
   "metadata": {},
   "outputs": [
    {
     "data": {
      "text/html": [
       "<div>\n",
       "<style scoped>\n",
       "    .dataframe tbody tr th:only-of-type {\n",
       "        vertical-align: middle;\n",
       "    }\n",
       "\n",
       "    .dataframe tbody tr th {\n",
       "        vertical-align: top;\n",
       "    }\n",
       "\n",
       "    .dataframe thead th {\n",
       "        text-align: right;\n",
       "    }\n",
       "</style>\n",
       "<table border=\"1\" class=\"dataframe\">\n",
       "  <thead>\n",
       "    <tr style=\"text-align: right;\">\n",
       "      <th></th>\n",
       "      <th>SMILES_From_Tensor_rotation</th>\n",
       "    </tr>\n",
       "  </thead>\n",
       "  <tbody>\n",
       "    <tr>\n",
       "      <th>0</th>\n",
       "      <td>CN(C=1SC2=CC=CC=C2)N=1</td>\n",
       "    </tr>\n",
       "    <tr>\n",
       "      <th>1</th>\n",
       "      <td>CN(CCCCCCNC1)NC2=C(C(N(C)C(N2C)=O)=O)N1</td>\n",
       "    </tr>\n",
       "    <tr>\n",
       "      <th>2</th>\n",
       "      <td>CN(CCCC1CCNC)NC2=C(C(N(C)C(N2C)=O)=O)N1</td>\n",
       "    </tr>\n",
       "    <tr>\n",
       "      <th>3</th>\n",
       "      <td>CN(CCC=1CCNC=N)C2=C(C(N(C)C(=O)N2C)=O)N=1</td>\n",
       "    </tr>\n",
       "    <tr>\n",
       "      <th>4</th>\n",
       "      <td>C1N(CCCCCCNC)NC2=C1CN(C)C(N2C)=O</td>\n",
       "    </tr>\n",
       "  </tbody>\n",
       "</table>\n",
       "</div>"
      ],
      "text/plain": [
       "                 SMILES_From_Tensor_rotation\n",
       "0                     CN(C=1SC2=CC=CC=C2)N=1\n",
       "1    CN(CCCCCCNC1)NC2=C(C(N(C)C(N2C)=O)=O)N1\n",
       "2    CN(CCCC1CCNC)NC2=C(C(N(C)C(N2C)=O)=O)N1\n",
       "3  CN(CCC=1CCNC=N)C2=C(C(N(C)C(=O)N2C)=O)N=1\n",
       "4           C1N(CCCCCCNC)NC2=C1CN(C)C(N2C)=O"
      ]
     },
     "execution_count": 7,
     "metadata": {},
     "output_type": "execute_result"
    }
   ],
   "source": [
    "data = data.drop(columns=['Unnamed: 0'])\n",
    "data.head()"
   ]
  },
  {
   "cell_type": "code",
   "execution_count": 8,
   "id": "c73a1970",
   "metadata": {},
   "outputs": [],
   "source": [
    "zeros = [0 for i in range(len(data))]"
   ]
  },
  {
   "cell_type": "code",
   "execution_count": 9,
   "id": "c676086d",
   "metadata": {},
   "outputs": [],
   "source": [
    "data['CID'] = zeros\n",
    "data['PUBCHEM_SMILES'] = zeros"
   ]
  },
  {
   "cell_type": "code",
   "execution_count": 10,
   "id": "4186789f",
   "metadata": {},
   "outputs": [
    {
     "name": "stderr",
     "output_type": "stream",
     "text": [
      "C:\\Users\\aleks\\AppData\\Local\\Temp\\ipykernel_25276\\3164115185.py:5: SettingWithCopyWarning: \n",
      "A value is trying to be set on a copy of a slice from a DataFrame\n",
      "\n",
      "See the caveats in the documentation: https://pandas.pydata.org/pandas-docs/stable/user_guide/indexing.html#returning-a-view-versus-a-copy\n",
      "  data['CID'][i] = compound[0].cid\n",
      "C:\\Users\\aleks\\AppData\\Local\\Temp\\ipykernel_25276\\3164115185.py:6: SettingWithCopyWarning: \n",
      "A value is trying to be set on a copy of a slice from a DataFrame\n",
      "\n",
      "See the caveats in the documentation: https://pandas.pydata.org/pandas-docs/stable/user_guide/indexing.html#returning-a-view-versus-a-copy\n",
      "  data['PUBCHEM_SMILES'][i] = compound[0].canonical_smiles\n"
     ]
    },
    {
     "name": "stdout",
     "output_type": "stream",
     "text": [
      "PUGREST.BadRequest: error:  C1=2N(C3C1C=2CN(C)C(=O)N3C)OSC(N4CCCC4)=SC\n",
      "PUGREST.BadRequest: error:  C#1N(CC=CC#1)C=SN(C)C(N)C=O\n",
      "PUGREST.BadRequest: error:  C#1N(CC=CC#1)C=SN(C)C(N)C(=O)NC=O\n",
      "PUGREST.BadRequest: error:  C1NCC=CC1=SNC2NC=CC(=O)N(C)C2=O\n",
      "PUGREST.BadRequest: error:  C#1N(CC=CC#1)C=SN(C)C(NC)=O\n",
      "PUGREST.BadRequest: error:  C#1N(CC2=CC#1)C=SN(C)C(=O)N(C)C2N(C)CC\n",
      "PUGREST.BadRequest: error:  C#1N(CC=CC#1)NCNCCCN(C)C(=O)N(C)C\n"
     ]
    },
    {
     "name": "stderr",
     "output_type": "stream",
     "text": [
      "C:\\Users\\aleks\\AppData\\Local\\Temp\\ipykernel_25276\\3164115185.py:5: SettingWithCopyWarning: \n",
      "A value is trying to be set on a copy of a slice from a DataFrame\n",
      "\n",
      "See the caveats in the documentation: https://pandas.pydata.org/pandas-docs/stable/user_guide/indexing.html#returning-a-view-versus-a-copy\n",
      "  data['CID'][i] = compound[0].cid\n",
      "C:\\Users\\aleks\\AppData\\Local\\Temp\\ipykernel_25276\\3164115185.py:6: SettingWithCopyWarning: \n",
      "A value is trying to be set on a copy of a slice from a DataFrame\n",
      "\n",
      "See the caveats in the documentation: https://pandas.pydata.org/pandas-docs/stable/user_guide/indexing.html#returning-a-view-versus-a-copy\n",
      "  data['PUBCHEM_SMILES'][i] = compound[0].canonical_smiles\n"
     ]
    },
    {
     "name": "stdout",
     "output_type": "stream",
     "text": [
      "PUGREST.BadRequest: error:  CN(C=1CCCCCNC)NC2=C(N(C(=O)N(C)C2=O)C)N=1\n"
     ]
    },
    {
     "name": "stderr",
     "output_type": "stream",
     "text": [
      "C:\\Users\\aleks\\AppData\\Local\\Temp\\ipykernel_25276\\3164115185.py:5: SettingWithCopyWarning: \n",
      "A value is trying to be set on a copy of a slice from a DataFrame\n",
      "\n",
      "See the caveats in the documentation: https://pandas.pydata.org/pandas-docs/stable/user_guide/indexing.html#returning-a-view-versus-a-copy\n",
      "  data['CID'][i] = compound[0].cid\n",
      "C:\\Users\\aleks\\AppData\\Local\\Temp\\ipykernel_25276\\3164115185.py:6: SettingWithCopyWarning: \n",
      "A value is trying to be set on a copy of a slice from a DataFrame\n",
      "\n",
      "See the caveats in the documentation: https://pandas.pydata.org/pandas-docs/stable/user_guide/indexing.html#returning-a-view-versus-a-copy\n",
      "  data['PUBCHEM_SMILES'][i] = compound[0].canonical_smiles\n"
     ]
    },
    {
     "name": "stdout",
     "output_type": "stream",
     "text": [
      "PUGREST.BadRequest: error:  C1N(C1SC2=NC=CN2C)N(C)C(=O)NC=O\n"
     ]
    },
    {
     "name": "stderr",
     "output_type": "stream",
     "text": [
      "C:\\Users\\aleks\\AppData\\Local\\Temp\\ipykernel_25276\\3164115185.py:5: SettingWithCopyWarning: \n",
      "A value is trying to be set on a copy of a slice from a DataFrame\n",
      "\n",
      "See the caveats in the documentation: https://pandas.pydata.org/pandas-docs/stable/user_guide/indexing.html#returning-a-view-versus-a-copy\n",
      "  data['CID'][i] = compound[0].cid\n",
      "C:\\Users\\aleks\\AppData\\Local\\Temp\\ipykernel_25276\\3164115185.py:6: SettingWithCopyWarning: \n",
      "A value is trying to be set on a copy of a slice from a DataFrame\n",
      "\n",
      "See the caveats in the documentation: https://pandas.pydata.org/pandas-docs/stable/user_guide/indexing.html#returning-a-view-versus-a-copy\n",
      "  data['PUBCHEM_SMILES'][i] = compound[0].canonical_smiles\n",
      "C:\\Users\\aleks\\AppData\\Local\\Temp\\ipykernel_25276\\3164115185.py:8: SettingWithCopyWarning: \n",
      "A value is trying to be set on a copy of a slice from a DataFrame\n",
      "\n",
      "See the caveats in the documentation: https://pandas.pydata.org/pandas-docs/stable/user_guide/indexing.html#returning-a-view-versus-a-copy\n",
      "  data['CID'][i] = 0\n",
      "C:\\Users\\aleks\\AppData\\Local\\Temp\\ipykernel_25276\\3164115185.py:9: SettingWithCopyWarning: \n",
      "A value is trying to be set on a copy of a slice from a DataFrame\n",
      "\n",
      "See the caveats in the documentation: https://pandas.pydata.org/pandas-docs/stable/user_guide/indexing.html#returning-a-view-versus-a-copy\n",
      "  data['PUBCHEM_SMILES'][i] = 0\n",
      "C:\\Users\\aleks\\AppData\\Local\\Temp\\ipykernel_25276\\3164115185.py:6: SettingWithCopyWarning: \n",
      "A value is trying to be set on a copy of a slice from a DataFrame\n",
      "\n",
      "See the caveats in the documentation: https://pandas.pydata.org/pandas-docs/stable/user_guide/indexing.html#returning-a-view-versus-a-copy\n",
      "  data['PUBCHEM_SMILES'][i] = compound[0].canonical_smiles\n"
     ]
    },
    {
     "name": "stdout",
     "output_type": "stream",
     "text": [
      "PUGREST.BadRequest: error:  C=1N(CN2C(=O)C=1NC(N2C)SC=CC=CC)CSC\n"
     ]
    },
    {
     "name": "stderr",
     "output_type": "stream",
     "text": [
      "C:\\Users\\aleks\\AppData\\Local\\Temp\\ipykernel_25276\\3164115185.py:5: SettingWithCopyWarning: \n",
      "A value is trying to be set on a copy of a slice from a DataFrame\n",
      "\n",
      "See the caveats in the documentation: https://pandas.pydata.org/pandas-docs/stable/user_guide/indexing.html#returning-a-view-versus-a-copy\n",
      "  data['CID'][i] = compound[0].cid\n",
      "C:\\Users\\aleks\\AppData\\Local\\Temp\\ipykernel_25276\\3164115185.py:6: SettingWithCopyWarning: \n",
      "A value is trying to be set on a copy of a slice from a DataFrame\n",
      "\n",
      "See the caveats in the documentation: https://pandas.pydata.org/pandas-docs/stable/user_guide/indexing.html#returning-a-view-versus-a-copy\n",
      "  data['PUBCHEM_SMILES'][i] = compound[0].canonical_smiles\n"
     ]
    },
    {
     "name": "stdout",
     "output_type": "stream",
     "text": [
      "PUGREST.BadRequest: error:  CN(CC=1CCCCNC)NC2=C(N(C(N(C)C2=O)=O)C)N=1\n"
     ]
    },
    {
     "name": "stderr",
     "output_type": "stream",
     "text": [
      "C:\\Users\\aleks\\AppData\\Local\\Temp\\ipykernel_25276\\3164115185.py:5: SettingWithCopyWarning: \n",
      "A value is trying to be set on a copy of a slice from a DataFrame\n",
      "\n",
      "See the caveats in the documentation: https://pandas.pydata.org/pandas-docs/stable/user_guide/indexing.html#returning-a-view-versus-a-copy\n",
      "  data['CID'][i] = compound[0].cid\n",
      "C:\\Users\\aleks\\AppData\\Local\\Temp\\ipykernel_25276\\3164115185.py:6: SettingWithCopyWarning: \n",
      "A value is trying to be set on a copy of a slice from a DataFrame\n",
      "\n",
      "See the caveats in the documentation: https://pandas.pydata.org/pandas-docs/stable/user_guide/indexing.html#returning-a-view-versus-a-copy\n",
      "  data['PUBCHEM_SMILES'][i] = compound[0].canonical_smiles\n"
     ]
    },
    {
     "name": "stdout",
     "output_type": "stream",
     "text": [
      "PUGREST.BadRequest: error:  C1N(C1SC2=NC3=CN2C)C(=O)N(C)C(=O)N3C\n"
     ]
    },
    {
     "name": "stderr",
     "output_type": "stream",
     "text": [
      "C:\\Users\\aleks\\AppData\\Local\\Temp\\ipykernel_25276\\3164115185.py:5: SettingWithCopyWarning: \n",
      "A value is trying to be set on a copy of a slice from a DataFrame\n",
      "\n",
      "See the caveats in the documentation: https://pandas.pydata.org/pandas-docs/stable/user_guide/indexing.html#returning-a-view-versus-a-copy\n",
      "  data['CID'][i] = compound[0].cid\n",
      "C:\\Users\\aleks\\AppData\\Local\\Temp\\ipykernel_25276\\3164115185.py:6: SettingWithCopyWarning: \n",
      "A value is trying to be set on a copy of a slice from a DataFrame\n",
      "\n",
      "See the caveats in the documentation: https://pandas.pydata.org/pandas-docs/stable/user_guide/indexing.html#returning-a-view-versus-a-copy\n",
      "  data['PUBCHEM_SMILES'][i] = compound[0].canonical_smiles\n"
     ]
    },
    {
     "name": "stdout",
     "output_type": "stream",
     "text": [
      "PUGREST.BadRequest: error:  CN(C)CCNC1=NC2=C(N1C)N(C)C(N(C)C2=O)=O\n"
     ]
    },
    {
     "name": "stderr",
     "output_type": "stream",
     "text": [
      "C:\\Users\\aleks\\AppData\\Local\\Temp\\ipykernel_25276\\3164115185.py:5: SettingWithCopyWarning: \n",
      "A value is trying to be set on a copy of a slice from a DataFrame\n",
      "\n",
      "See the caveats in the documentation: https://pandas.pydata.org/pandas-docs/stable/user_guide/indexing.html#returning-a-view-versus-a-copy\n",
      "  data['CID'][i] = compound[0].cid\n",
      "C:\\Users\\aleks\\AppData\\Local\\Temp\\ipykernel_25276\\3164115185.py:6: SettingWithCopyWarning: \n",
      "A value is trying to be set on a copy of a slice from a DataFrame\n",
      "\n",
      "See the caveats in the documentation: https://pandas.pydata.org/pandas-docs/stable/user_guide/indexing.html#returning-a-view-versus-a-copy\n",
      "  data['PUBCHEM_SMILES'][i] = compound[0].canonical_smiles\n"
     ]
    },
    {
     "name": "stdout",
     "output_type": "stream",
     "text": [
      "PUGREST.BadRequest: error:  CN(CCN(C)C=CC1=C(NNC1=O)C=O)NCC\n"
     ]
    },
    {
     "name": "stderr",
     "output_type": "stream",
     "text": [
      "C:\\Users\\aleks\\AppData\\Local\\Temp\\ipykernel_25276\\3164115185.py:5: SettingWithCopyWarning: \n",
      "A value is trying to be set on a copy of a slice from a DataFrame\n",
      "\n",
      "See the caveats in the documentation: https://pandas.pydata.org/pandas-docs/stable/user_guide/indexing.html#returning-a-view-versus-a-copy\n",
      "  data['CID'][i] = compound[0].cid\n",
      "C:\\Users\\aleks\\AppData\\Local\\Temp\\ipykernel_25276\\3164115185.py:6: SettingWithCopyWarning: \n",
      "A value is trying to be set on a copy of a slice from a DataFrame\n",
      "\n",
      "See the caveats in the documentation: https://pandas.pydata.org/pandas-docs/stable/user_guide/indexing.html#returning-a-view-versus-a-copy\n",
      "  data['PUBCHEM_SMILES'][i] = compound[0].canonical_smiles\n",
      "C:\\Users\\aleks\\AppData\\Local\\Temp\\ipykernel_25276\\3164115185.py:8: SettingWithCopyWarning: \n",
      "A value is trying to be set on a copy of a slice from a DataFrame\n",
      "\n",
      "See the caveats in the documentation: https://pandas.pydata.org/pandas-docs/stable/user_guide/indexing.html#returning-a-view-versus-a-copy\n",
      "  data['CID'][i] = 0\n",
      "C:\\Users\\aleks\\AppData\\Local\\Temp\\ipykernel_25276\\3164115185.py:9: SettingWithCopyWarning: \n",
      "A value is trying to be set on a copy of a slice from a DataFrame\n",
      "\n",
      "See the caveats in the documentation: https://pandas.pydata.org/pandas-docs/stable/user_guide/indexing.html#returning-a-view-versus-a-copy\n",
      "  data['PUBCHEM_SMILES'][i] = 0\n",
      "C:\\Users\\aleks\\AppData\\Local\\Temp\\ipykernel_25276\\3164115185.py:6: SettingWithCopyWarning: \n",
      "A value is trying to be set on a copy of a slice from a DataFrame\n",
      "\n",
      "See the caveats in the documentation: https://pandas.pydata.org/pandas-docs/stable/user_guide/indexing.html#returning-a-view-versus-a-copy\n",
      "  data['PUBCHEM_SMILES'][i] = compound[0].canonical_smiles\n"
     ]
    },
    {
     "name": "stdout",
     "output_type": "stream",
     "text": [
      "PUGREST.BadRequest: error:  C=1N(C=C(N=1)ONC(=O)N(C)C=O)C\n"
     ]
    },
    {
     "name": "stderr",
     "output_type": "stream",
     "text": [
      "C:\\Users\\aleks\\AppData\\Local\\Temp\\ipykernel_25276\\3164115185.py:5: SettingWithCopyWarning: \n",
      "A value is trying to be set on a copy of a slice from a DataFrame\n",
      "\n",
      "See the caveats in the documentation: https://pandas.pydata.org/pandas-docs/stable/user_guide/indexing.html#returning-a-view-versus-a-copy\n",
      "  data['CID'][i] = compound[0].cid\n",
      "C:\\Users\\aleks\\AppData\\Local\\Temp\\ipykernel_25276\\3164115185.py:6: SettingWithCopyWarning: \n",
      "A value is trying to be set on a copy of a slice from a DataFrame\n",
      "\n",
      "See the caveats in the documentation: https://pandas.pydata.org/pandas-docs/stable/user_guide/indexing.html#returning-a-view-versus-a-copy\n",
      "  data['PUBCHEM_SMILES'][i] = compound[0].canonical_smiles\n"
     ]
    },
    {
     "name": "stdout",
     "output_type": "stream",
     "text": [
      "PUGREST.BadRequest: error:  C1N(CCCCCCNC)N2C=C1N(C)C(N2C)=O\n"
     ]
    },
    {
     "name": "stderr",
     "output_type": "stream",
     "text": [
      "C:\\Users\\aleks\\AppData\\Local\\Temp\\ipykernel_25276\\3164115185.py:5: SettingWithCopyWarning: \n",
      "A value is trying to be set on a copy of a slice from a DataFrame\n",
      "\n",
      "See the caveats in the documentation: https://pandas.pydata.org/pandas-docs/stable/user_guide/indexing.html#returning-a-view-versus-a-copy\n",
      "  data['CID'][i] = compound[0].cid\n",
      "C:\\Users\\aleks\\AppData\\Local\\Temp\\ipykernel_25276\\3164115185.py:6: SettingWithCopyWarning: \n",
      "A value is trying to be set on a copy of a slice from a DataFrame\n",
      "\n",
      "See the caveats in the documentation: https://pandas.pydata.org/pandas-docs/stable/user_guide/indexing.html#returning-a-view-versus-a-copy\n",
      "  data['PUBCHEM_SMILES'][i] = compound[0].canonical_smiles\n"
     ]
    },
    {
     "name": "stdout",
     "output_type": "stream",
     "text": [
      "PUGREST.BadRequest: error:  CN(CCCCCN1C=N)C2=C(C(N(C)C(N2C)=O)=O)C1\n"
     ]
    },
    {
     "name": "stderr",
     "output_type": "stream",
     "text": [
      "C:\\Users\\aleks\\AppData\\Local\\Temp\\ipykernel_25276\\3164115185.py:5: SettingWithCopyWarning: \n",
      "A value is trying to be set on a copy of a slice from a DataFrame\n",
      "\n",
      "See the caveats in the documentation: https://pandas.pydata.org/pandas-docs/stable/user_guide/indexing.html#returning-a-view-versus-a-copy\n",
      "  data['CID'][i] = compound[0].cid\n",
      "C:\\Users\\aleks\\AppData\\Local\\Temp\\ipykernel_25276\\3164115185.py:6: SettingWithCopyWarning: \n",
      "A value is trying to be set on a copy of a slice from a DataFrame\n",
      "\n",
      "See the caveats in the documentation: https://pandas.pydata.org/pandas-docs/stable/user_guide/indexing.html#returning-a-view-versus-a-copy\n",
      "  data['PUBCHEM_SMILES'][i] = compound[0].canonical_smiles\n"
     ]
    },
    {
     "name": "stdout",
     "output_type": "stream",
     "text": [
      "PUGREST.BadRequest: error:  CN(C1CCCC2CNN)CCC=C2N(C)C(N1C)=O\n"
     ]
    },
    {
     "name": "stderr",
     "output_type": "stream",
     "text": [
      "C:\\Users\\aleks\\AppData\\Local\\Temp\\ipykernel_25276\\3164115185.py:5: SettingWithCopyWarning: \n",
      "A value is trying to be set on a copy of a slice from a DataFrame\n",
      "\n",
      "See the caveats in the documentation: https://pandas.pydata.org/pandas-docs/stable/user_guide/indexing.html#returning-a-view-versus-a-copy\n",
      "  data['CID'][i] = compound[0].cid\n",
      "C:\\Users\\aleks\\AppData\\Local\\Temp\\ipykernel_25276\\3164115185.py:6: SettingWithCopyWarning: \n",
      "A value is trying to be set on a copy of a slice from a DataFrame\n",
      "\n",
      "See the caveats in the documentation: https://pandas.pydata.org/pandas-docs/stable/user_guide/indexing.html#returning-a-view-versus-a-copy\n",
      "  data['PUBCHEM_SMILES'][i] = compound[0].canonical_smiles\n"
     ]
    },
    {
     "name": "stdout",
     "output_type": "stream",
     "text": [
      "PUGREST.BadRequest: error:  CN(CC=1CCCCNC)NC2=C(C(N(C)C(=O)N2C)=O)N=1\n"
     ]
    },
    {
     "name": "stderr",
     "output_type": "stream",
     "text": [
      "C:\\Users\\aleks\\AppData\\Local\\Temp\\ipykernel_25276\\3164115185.py:5: SettingWithCopyWarning: \n",
      "A value is trying to be set on a copy of a slice from a DataFrame\n",
      "\n",
      "See the caveats in the documentation: https://pandas.pydata.org/pandas-docs/stable/user_guide/indexing.html#returning-a-view-versus-a-copy\n",
      "  data['CID'][i] = compound[0].cid\n",
      "C:\\Users\\aleks\\AppData\\Local\\Temp\\ipykernel_25276\\3164115185.py:6: SettingWithCopyWarning: \n",
      "A value is trying to be set on a copy of a slice from a DataFrame\n",
      "\n",
      "See the caveats in the documentation: https://pandas.pydata.org/pandas-docs/stable/user_guide/indexing.html#returning-a-view-versus-a-copy\n",
      "  data['PUBCHEM_SMILES'][i] = compound[0].canonical_smiles\n"
     ]
    },
    {
     "name": "stdout",
     "output_type": "stream",
     "text": [
      "PUGREST.BadRequest: error:  CN(CCCC1CCNC)NC2=C(C(N(C)C(=O)N2C)=O)N1\n"
     ]
    },
    {
     "name": "stderr",
     "output_type": "stream",
     "text": [
      "C:\\Users\\aleks\\AppData\\Local\\Temp\\ipykernel_25276\\3164115185.py:5: SettingWithCopyWarning: \n",
      "A value is trying to be set on a copy of a slice from a DataFrame\n",
      "\n",
      "See the caveats in the documentation: https://pandas.pydata.org/pandas-docs/stable/user_guide/indexing.html#returning-a-view-versus-a-copy\n",
      "  data['CID'][i] = compound[0].cid\n",
      "C:\\Users\\aleks\\AppData\\Local\\Temp\\ipykernel_25276\\3164115185.py:6: SettingWithCopyWarning: \n",
      "A value is trying to be set on a copy of a slice from a DataFrame\n",
      "\n",
      "See the caveats in the documentation: https://pandas.pydata.org/pandas-docs/stable/user_guide/indexing.html#returning-a-view-versus-a-copy\n",
      "  data['PUBCHEM_SMILES'][i] = compound[0].canonical_smiles\n"
     ]
    },
    {
     "name": "stdout",
     "output_type": "stream",
     "text": [
      "PUGREST.BadRequest: error:  C1N(CC2=CCN(C2=O)C)CCN(C)C(N1C)=O\n"
     ]
    },
    {
     "name": "stderr",
     "output_type": "stream",
     "text": [
      "C:\\Users\\aleks\\AppData\\Local\\Temp\\ipykernel_25276\\3164115185.py:5: SettingWithCopyWarning: \n",
      "A value is trying to be set on a copy of a slice from a DataFrame\n",
      "\n",
      "See the caveats in the documentation: https://pandas.pydata.org/pandas-docs/stable/user_guide/indexing.html#returning-a-view-versus-a-copy\n",
      "  data['CID'][i] = compound[0].cid\n",
      "C:\\Users\\aleks\\AppData\\Local\\Temp\\ipykernel_25276\\3164115185.py:6: SettingWithCopyWarning: \n",
      "A value is trying to be set on a copy of a slice from a DataFrame\n",
      "\n",
      "See the caveats in the documentation: https://pandas.pydata.org/pandas-docs/stable/user_guide/indexing.html#returning-a-view-versus-a-copy\n",
      "  data['PUBCHEM_SMILES'][i] = compound[0].canonical_smiles\n"
     ]
    },
    {
     "name": "stdout",
     "output_type": "stream",
     "text": [
      "PUGREST.BadRequest: error:  C1N(CCCCCN2C=N)C=C1C(=O)N(C)C(N2)C\n"
     ]
    },
    {
     "name": "stderr",
     "output_type": "stream",
     "text": [
      "C:\\Users\\aleks\\AppData\\Local\\Temp\\ipykernel_25276\\3164115185.py:5: SettingWithCopyWarning: \n",
      "A value is trying to be set on a copy of a slice from a DataFrame\n",
      "\n",
      "See the caveats in the documentation: https://pandas.pydata.org/pandas-docs/stable/user_guide/indexing.html#returning-a-view-versus-a-copy\n",
      "  data['CID'][i] = compound[0].cid\n",
      "C:\\Users\\aleks\\AppData\\Local\\Temp\\ipykernel_25276\\3164115185.py:6: SettingWithCopyWarning: \n",
      "A value is trying to be set on a copy of a slice from a DataFrame\n",
      "\n",
      "See the caveats in the documentation: https://pandas.pydata.org/pandas-docs/stable/user_guide/indexing.html#returning-a-view-versus-a-copy\n",
      "  data['PUBCHEM_SMILES'][i] = compound[0].canonical_smiles\n"
     ]
    },
    {
     "name": "stdout",
     "output_type": "stream",
     "text": [
      "PUGREST.BadRequest: error:  CN(C=1CCCCCCCN)C=NC=2C(=O)NC(N(C)C=2N=1)=O\n"
     ]
    },
    {
     "name": "stderr",
     "output_type": "stream",
     "text": [
      "C:\\Users\\aleks\\AppData\\Local\\Temp\\ipykernel_25276\\3164115185.py:5: SettingWithCopyWarning: \n",
      "A value is trying to be set on a copy of a slice from a DataFrame\n",
      "\n",
      "See the caveats in the documentation: https://pandas.pydata.org/pandas-docs/stable/user_guide/indexing.html#returning-a-view-versus-a-copy\n",
      "  data['CID'][i] = compound[0].cid\n",
      "C:\\Users\\aleks\\AppData\\Local\\Temp\\ipykernel_25276\\3164115185.py:6: SettingWithCopyWarning: \n",
      "A value is trying to be set on a copy of a slice from a DataFrame\n",
      "\n",
      "See the caveats in the documentation: https://pandas.pydata.org/pandas-docs/stable/user_guide/indexing.html#returning-a-view-versus-a-copy\n",
      "  data['PUBCHEM_SMILES'][i] = compound[0].canonical_smiles\n",
      "C:\\Users\\aleks\\AppData\\Local\\Temp\\ipykernel_25276\\3164115185.py:8: SettingWithCopyWarning: \n",
      "A value is trying to be set on a copy of a slice from a DataFrame\n",
      "\n",
      "See the caveats in the documentation: https://pandas.pydata.org/pandas-docs/stable/user_guide/indexing.html#returning-a-view-versus-a-copy\n",
      "  data['CID'][i] = 0\n",
      "C:\\Users\\aleks\\AppData\\Local\\Temp\\ipykernel_25276\\3164115185.py:9: SettingWithCopyWarning: \n",
      "A value is trying to be set on a copy of a slice from a DataFrame\n",
      "\n",
      "See the caveats in the documentation: https://pandas.pydata.org/pandas-docs/stable/user_guide/indexing.html#returning-a-view-versus-a-copy\n",
      "  data['PUBCHEM_SMILES'][i] = 0\n",
      "C:\\Users\\aleks\\AppData\\Local\\Temp\\ipykernel_25276\\3164115185.py:6: SettingWithCopyWarning: \n",
      "A value is trying to be set on a copy of a slice from a DataFrame\n",
      "\n",
      "See the caveats in the documentation: https://pandas.pydata.org/pandas-docs/stable/user_guide/indexing.html#returning-a-view-versus-a-copy\n",
      "  data['PUBCHEM_SMILES'][i] = compound[0].canonical_smiles\n"
     ]
    },
    {
     "name": "stdout",
     "output_type": "stream",
     "text": [
      "PUGREST.BadRequest: error:  C1=2N(CC1C=2CC=3)N=NN(CCCCCN=[N+1]=[N-1])C=3CC(=O)NC=O\n"
     ]
    },
    {
     "name": "stderr",
     "output_type": "stream",
     "text": [
      "C:\\Users\\aleks\\AppData\\Local\\Temp\\ipykernel_25276\\3164115185.py:5: SettingWithCopyWarning: \n",
      "A value is trying to be set on a copy of a slice from a DataFrame\n",
      "\n",
      "See the caveats in the documentation: https://pandas.pydata.org/pandas-docs/stable/user_guide/indexing.html#returning-a-view-versus-a-copy\n",
      "  data['CID'][i] = compound[0].cid\n",
      "C:\\Users\\aleks\\AppData\\Local\\Temp\\ipykernel_25276\\3164115185.py:6: SettingWithCopyWarning: \n",
      "A value is trying to be set on a copy of a slice from a DataFrame\n",
      "\n",
      "See the caveats in the documentation: https://pandas.pydata.org/pandas-docs/stable/user_guide/indexing.html#returning-a-view-versus-a-copy\n",
      "  data['PUBCHEM_SMILES'][i] = compound[0].canonical_smiles\n",
      "C:\\Users\\aleks\\AppData\\Local\\Temp\\ipykernel_25276\\3164115185.py:8: SettingWithCopyWarning: \n",
      "A value is trying to be set on a copy of a slice from a DataFrame\n",
      "\n",
      "See the caveats in the documentation: https://pandas.pydata.org/pandas-docs/stable/user_guide/indexing.html#returning-a-view-versus-a-copy\n",
      "  data['CID'][i] = 0\n",
      "C:\\Users\\aleks\\AppData\\Local\\Temp\\ipykernel_25276\\3164115185.py:9: SettingWithCopyWarning: \n",
      "A value is trying to be set on a copy of a slice from a DataFrame\n",
      "\n",
      "See the caveats in the documentation: https://pandas.pydata.org/pandas-docs/stable/user_guide/indexing.html#returning-a-view-versus-a-copy\n",
      "  data['PUBCHEM_SMILES'][i] = 0\n",
      "C:\\Users\\aleks\\AppData\\Local\\Temp\\ipykernel_25276\\3164115185.py:6: SettingWithCopyWarning: \n",
      "A value is trying to be set on a copy of a slice from a DataFrame\n",
      "\n",
      "See the caveats in the documentation: https://pandas.pydata.org/pandas-docs/stable/user_guide/indexing.html#returning-a-view-versus-a-copy\n",
      "  data['PUBCHEM_SMILES'][i] = compound[0].canonical_smiles\n"
     ]
    },
    {
     "name": "stdout",
     "output_type": "stream",
     "text": [
      "PUGREST.BadRequest: error:  C1=2N(CC1C=2CC=3)N=NN(CCCN=[N+1]=[N-1])C=3SC4=NC5=CC=CC=C5[NH1]4\n"
     ]
    },
    {
     "name": "stderr",
     "output_type": "stream",
     "text": [
      "C:\\Users\\aleks\\AppData\\Local\\Temp\\ipykernel_25276\\3164115185.py:5: SettingWithCopyWarning: \n",
      "A value is trying to be set on a copy of a slice from a DataFrame\n",
      "\n",
      "See the caveats in the documentation: https://pandas.pydata.org/pandas-docs/stable/user_guide/indexing.html#returning-a-view-versus-a-copy\n",
      "  data['CID'][i] = compound[0].cid\n",
      "C:\\Users\\aleks\\AppData\\Local\\Temp\\ipykernel_25276\\3164115185.py:6: SettingWithCopyWarning: \n",
      "A value is trying to be set on a copy of a slice from a DataFrame\n",
      "\n",
      "See the caveats in the documentation: https://pandas.pydata.org/pandas-docs/stable/user_guide/indexing.html#returning-a-view-versus-a-copy\n",
      "  data['PUBCHEM_SMILES'][i] = compound[0].canonical_smiles\n",
      "C:\\Users\\aleks\\AppData\\Local\\Temp\\ipykernel_25276\\3164115185.py:8: SettingWithCopyWarning: \n",
      "A value is trying to be set on a copy of a slice from a DataFrame\n",
      "\n",
      "See the caveats in the documentation: https://pandas.pydata.org/pandas-docs/stable/user_guide/indexing.html#returning-a-view-versus-a-copy\n",
      "  data['CID'][i] = 0\n",
      "C:\\Users\\aleks\\AppData\\Local\\Temp\\ipykernel_25276\\3164115185.py:9: SettingWithCopyWarning: \n",
      "A value is trying to be set on a copy of a slice from a DataFrame\n",
      "\n",
      "See the caveats in the documentation: https://pandas.pydata.org/pandas-docs/stable/user_guide/indexing.html#returning-a-view-versus-a-copy\n",
      "  data['PUBCHEM_SMILES'][i] = 0\n",
      "C:\\Users\\aleks\\AppData\\Local\\Temp\\ipykernel_25276\\3164115185.py:6: SettingWithCopyWarning: \n",
      "A value is trying to be set on a copy of a slice from a DataFrame\n",
      "\n",
      "See the caveats in the documentation: https://pandas.pydata.org/pandas-docs/stable/user_guide/indexing.html#returning-a-view-versus-a-copy\n",
      "  data['PUBCHEM_SMILES'][i] = compound[0].canonical_smiles\n"
     ]
    },
    {
     "name": "stdout",
     "output_type": "stream",
     "text": [
      "PUGREST.BadRequest: error:  C1(CNC)N=NN(C1C)NN(C)CSC\n"
     ]
    },
    {
     "name": "stderr",
     "output_type": "stream",
     "text": [
      "C:\\Users\\aleks\\AppData\\Local\\Temp\\ipykernel_25276\\3164115185.py:5: SettingWithCopyWarning: \n",
      "A value is trying to be set on a copy of a slice from a DataFrame\n",
      "\n",
      "See the caveats in the documentation: https://pandas.pydata.org/pandas-docs/stable/user_guide/indexing.html#returning-a-view-versus-a-copy\n",
      "  data['CID'][i] = compound[0].cid\n",
      "C:\\Users\\aleks\\AppData\\Local\\Temp\\ipykernel_25276\\3164115185.py:6: SettingWithCopyWarning: \n",
      "A value is trying to be set on a copy of a slice from a DataFrame\n",
      "\n",
      "See the caveats in the documentation: https://pandas.pydata.org/pandas-docs/stable/user_guide/indexing.html#returning-a-view-versus-a-copy\n",
      "  data['PUBCHEM_SMILES'][i] = compound[0].canonical_smiles\n"
     ]
    },
    {
     "name": "stdout",
     "output_type": "stream",
     "text": [
      "PUGREST.BadRequest: error:  CN(CCCCCNC=N)C1=C(C(=O)N(C)C(C1=O)=O)NC\n"
     ]
    },
    {
     "name": "stderr",
     "output_type": "stream",
     "text": [
      "C:\\Users\\aleks\\AppData\\Local\\Temp\\ipykernel_25276\\3164115185.py:5: SettingWithCopyWarning: \n",
      "A value is trying to be set on a copy of a slice from a DataFrame\n",
      "\n",
      "See the caveats in the documentation: https://pandas.pydata.org/pandas-docs/stable/user_guide/indexing.html#returning-a-view-versus-a-copy\n",
      "  data['CID'][i] = compound[0].cid\n",
      "C:\\Users\\aleks\\AppData\\Local\\Temp\\ipykernel_25276\\3164115185.py:6: SettingWithCopyWarning: \n",
      "A value is trying to be set on a copy of a slice from a DataFrame\n",
      "\n",
      "See the caveats in the documentation: https://pandas.pydata.org/pandas-docs/stable/user_guide/indexing.html#returning-a-view-versus-a-copy\n",
      "  data['PUBCHEM_SMILES'][i] = compound[0].canonical_smiles\n"
     ]
    },
    {
     "name": "stdout",
     "output_type": "stream",
     "text": [
      "PUGREST.BadRequest: error:  CN(C1CCCCNC=N)C2=C(C(=O)N(C)C(C2=O)=O)N1\n"
     ]
    },
    {
     "name": "stderr",
     "output_type": "stream",
     "text": [
      "C:\\Users\\aleks\\AppData\\Local\\Temp\\ipykernel_25276\\3164115185.py:5: SettingWithCopyWarning: \n",
      "A value is trying to be set on a copy of a slice from a DataFrame\n",
      "\n",
      "See the caveats in the documentation: https://pandas.pydata.org/pandas-docs/stable/user_guide/indexing.html#returning-a-view-versus-a-copy\n",
      "  data['CID'][i] = compound[0].cid\n",
      "C:\\Users\\aleks\\AppData\\Local\\Temp\\ipykernel_25276\\3164115185.py:6: SettingWithCopyWarning: \n",
      "A value is trying to be set on a copy of a slice from a DataFrame\n",
      "\n",
      "See the caveats in the documentation: https://pandas.pydata.org/pandas-docs/stable/user_guide/indexing.html#returning-a-view-versus-a-copy\n",
      "  data['PUBCHEM_SMILES'][i] = compound[0].canonical_smiles\n"
     ]
    },
    {
     "name": "stdout",
     "output_type": "stream",
     "text": [
      "PUGREST.BadRequest: error:  C1N(CCCCCNC2=N)C=C1C(NC)C2=S\n"
     ]
    },
    {
     "name": "stderr",
     "output_type": "stream",
     "text": [
      "C:\\Users\\aleks\\AppData\\Local\\Temp\\ipykernel_25276\\3164115185.py:5: SettingWithCopyWarning: \n",
      "A value is trying to be set on a copy of a slice from a DataFrame\n",
      "\n",
      "See the caveats in the documentation: https://pandas.pydata.org/pandas-docs/stable/user_guide/indexing.html#returning-a-view-versus-a-copy\n",
      "  data['CID'][i] = compound[0].cid\n",
      "C:\\Users\\aleks\\AppData\\Local\\Temp\\ipykernel_25276\\3164115185.py:6: SettingWithCopyWarning: \n",
      "A value is trying to be set on a copy of a slice from a DataFrame\n",
      "\n",
      "See the caveats in the documentation: https://pandas.pydata.org/pandas-docs/stable/user_guide/indexing.html#returning-a-view-versus-a-copy\n",
      "  data['PUBCHEM_SMILES'][i] = compound[0].canonical_smiles\n",
      "C:\\Users\\aleks\\AppData\\Local\\Temp\\ipykernel_25276\\3164115185.py:8: SettingWithCopyWarning: \n",
      "A value is trying to be set on a copy of a slice from a DataFrame\n",
      "\n",
      "See the caveats in the documentation: https://pandas.pydata.org/pandas-docs/stable/user_guide/indexing.html#returning-a-view-versus-a-copy\n",
      "  data['CID'][i] = 0\n",
      "C:\\Users\\aleks\\AppData\\Local\\Temp\\ipykernel_25276\\3164115185.py:9: SettingWithCopyWarning: \n",
      "A value is trying to be set on a copy of a slice from a DataFrame\n",
      "\n",
      "See the caveats in the documentation: https://pandas.pydata.org/pandas-docs/stable/user_guide/indexing.html#returning-a-view-versus-a-copy\n",
      "  data['PUBCHEM_SMILES'][i] = 0\n",
      "C:\\Users\\aleks\\AppData\\Local\\Temp\\ipykernel_25276\\3164115185.py:6: SettingWithCopyWarning: \n",
      "A value is trying to be set on a copy of a slice from a DataFrame\n",
      "\n",
      "See the caveats in the documentation: https://pandas.pydata.org/pandas-docs/stable/user_guide/indexing.html#returning-a-view-versus-a-copy\n",
      "  data['PUBCHEM_SMILES'][i] = compound[0].canonical_smiles\n"
     ]
    },
    {
     "name": "stdout",
     "output_type": "stream",
     "text": [
      "PUGREST.BadRequest: error:  C1N(CCCCCNC=N)C=C1N(C)C=CC=CC\n"
     ]
    },
    {
     "name": "stderr",
     "output_type": "stream",
     "text": [
      "C:\\Users\\aleks\\AppData\\Local\\Temp\\ipykernel_25276\\3164115185.py:5: SettingWithCopyWarning: \n",
      "A value is trying to be set on a copy of a slice from a DataFrame\n",
      "\n",
      "See the caveats in the documentation: https://pandas.pydata.org/pandas-docs/stable/user_guide/indexing.html#returning-a-view-versus-a-copy\n",
      "  data['CID'][i] = compound[0].cid\n",
      "C:\\Users\\aleks\\AppData\\Local\\Temp\\ipykernel_25276\\3164115185.py:6: SettingWithCopyWarning: \n",
      "A value is trying to be set on a copy of a slice from a DataFrame\n",
      "\n",
      "See the caveats in the documentation: https://pandas.pydata.org/pandas-docs/stable/user_guide/indexing.html#returning-a-view-versus-a-copy\n",
      "  data['PUBCHEM_SMILES'][i] = compound[0].canonical_smiles\n",
      "C:\\Users\\aleks\\AppData\\Local\\Temp\\ipykernel_25276\\3164115185.py:8: SettingWithCopyWarning: \n",
      "A value is trying to be set on a copy of a slice from a DataFrame\n",
      "\n",
      "See the caveats in the documentation: https://pandas.pydata.org/pandas-docs/stable/user_guide/indexing.html#returning-a-view-versus-a-copy\n",
      "  data['CID'][i] = 0\n",
      "C:\\Users\\aleks\\AppData\\Local\\Temp\\ipykernel_25276\\3164115185.py:9: SettingWithCopyWarning: \n",
      "A value is trying to be set on a copy of a slice from a DataFrame\n",
      "\n",
      "See the caveats in the documentation: https://pandas.pydata.org/pandas-docs/stable/user_guide/indexing.html#returning-a-view-versus-a-copy\n",
      "  data['PUBCHEM_SMILES'][i] = 0\n",
      "C:\\Users\\aleks\\AppData\\Local\\Temp\\ipykernel_25276\\3164115185.py:6: SettingWithCopyWarning: \n",
      "A value is trying to be set on a copy of a slice from a DataFrame\n",
      "\n",
      "See the caveats in the documentation: https://pandas.pydata.org/pandas-docs/stable/user_guide/indexing.html#returning-a-view-versus-a-copy\n",
      "  data['PUBCHEM_SMILES'][i] = compound[0].canonical_smiles\n"
     ]
    },
    {
     "name": "stdout",
     "output_type": "stream",
     "text": [
      "PUGREST.BadRequest: error:  CN(CC1=CC=CC=C1)CC=2N(C)C3=C(N(C)C(=O)N(C)C3=O)N=2\n"
     ]
    },
    {
     "name": "stderr",
     "output_type": "stream",
     "text": [
      "C:\\Users\\aleks\\AppData\\Local\\Temp\\ipykernel_25276\\3164115185.py:5: SettingWithCopyWarning: \n",
      "A value is trying to be set on a copy of a slice from a DataFrame\n",
      "\n",
      "See the caveats in the documentation: https://pandas.pydata.org/pandas-docs/stable/user_guide/indexing.html#returning-a-view-versus-a-copy\n",
      "  data['CID'][i] = compound[0].cid\n",
      "C:\\Users\\aleks\\AppData\\Local\\Temp\\ipykernel_25276\\3164115185.py:6: SettingWithCopyWarning: \n",
      "A value is trying to be set on a copy of a slice from a DataFrame\n",
      "\n",
      "See the caveats in the documentation: https://pandas.pydata.org/pandas-docs/stable/user_guide/indexing.html#returning-a-view-versus-a-copy\n",
      "  data['PUBCHEM_SMILES'][i] = compound[0].canonical_smiles\n"
     ]
    },
    {
     "name": "stdout",
     "output_type": "stream",
     "text": [
      "PUGREST.BadRequest: error:  C=1N(CC=CC=O)N(C)C2=C(C(=O)N(C)C(=O)N2C)N=1\n"
     ]
    },
    {
     "name": "stderr",
     "output_type": "stream",
     "text": [
      "C:\\Users\\aleks\\AppData\\Local\\Temp\\ipykernel_25276\\3164115185.py:5: SettingWithCopyWarning: \n",
      "A value is trying to be set on a copy of a slice from a DataFrame\n",
      "\n",
      "See the caveats in the documentation: https://pandas.pydata.org/pandas-docs/stable/user_guide/indexing.html#returning-a-view-versus-a-copy\n",
      "  data['CID'][i] = compound[0].cid\n",
      "C:\\Users\\aleks\\AppData\\Local\\Temp\\ipykernel_25276\\3164115185.py:6: SettingWithCopyWarning: \n",
      "A value is trying to be set on a copy of a slice from a DataFrame\n",
      "\n",
      "See the caveats in the documentation: https://pandas.pydata.org/pandas-docs/stable/user_guide/indexing.html#returning-a-view-versus-a-copy\n",
      "  data['PUBCHEM_SMILES'][i] = compound[0].canonical_smiles\n"
     ]
    },
    {
     "name": "stdout",
     "output_type": "stream",
     "text": [
      "PUGREST.BadRequest: error:  C=12N(CC=CCCNC(N3CCCC3)=NC=1)N(C)C2=O\n"
     ]
    },
    {
     "name": "stderr",
     "output_type": "stream",
     "text": [
      "C:\\Users\\aleks\\AppData\\Local\\Temp\\ipykernel_25276\\3164115185.py:5: SettingWithCopyWarning: \n",
      "A value is trying to be set on a copy of a slice from a DataFrame\n",
      "\n",
      "See the caveats in the documentation: https://pandas.pydata.org/pandas-docs/stable/user_guide/indexing.html#returning-a-view-versus-a-copy\n",
      "  data['CID'][i] = compound[0].cid\n",
      "C:\\Users\\aleks\\AppData\\Local\\Temp\\ipykernel_25276\\3164115185.py:6: SettingWithCopyWarning: \n",
      "A value is trying to be set on a copy of a slice from a DataFrame\n",
      "\n",
      "See the caveats in the documentation: https://pandas.pydata.org/pandas-docs/stable/user_guide/indexing.html#returning-a-view-versus-a-copy\n",
      "  data['PUBCHEM_SMILES'][i] = compound[0].canonical_smiles\n"
     ]
    },
    {
     "name": "stdout",
     "output_type": "stream",
     "text": [
      "PUGREST.BadRequest: error:  C1N(CC=CCCNC(C=O)=CNC)C(N1C)=O\n"
     ]
    },
    {
     "name": "stderr",
     "output_type": "stream",
     "text": [
      "C:\\Users\\aleks\\AppData\\Local\\Temp\\ipykernel_25276\\3164115185.py:5: SettingWithCopyWarning: \n",
      "A value is trying to be set on a copy of a slice from a DataFrame\n",
      "\n",
      "See the caveats in the documentation: https://pandas.pydata.org/pandas-docs/stable/user_guide/indexing.html#returning-a-view-versus-a-copy\n",
      "  data['CID'][i] = compound[0].cid\n",
      "C:\\Users\\aleks\\AppData\\Local\\Temp\\ipykernel_25276\\3164115185.py:6: SettingWithCopyWarning: \n",
      "A value is trying to be set on a copy of a slice from a DataFrame\n",
      "\n",
      "See the caveats in the documentation: https://pandas.pydata.org/pandas-docs/stable/user_guide/indexing.html#returning-a-view-versus-a-copy\n",
      "  data['PUBCHEM_SMILES'][i] = compound[0].canonical_smiles\n"
     ]
    },
    {
     "name": "stdout",
     "output_type": "stream",
     "text": [
      "PUGREST.BadRequest: error:  CN(CC1=CCCNC)C2=C1N(C(N(C)C2=O)=O)C\n"
     ]
    },
    {
     "name": "stderr",
     "output_type": "stream",
     "text": [
      "C:\\Users\\aleks\\AppData\\Local\\Temp\\ipykernel_25276\\3164115185.py:5: SettingWithCopyWarning: \n",
      "A value is trying to be set on a copy of a slice from a DataFrame\n",
      "\n",
      "See the caveats in the documentation: https://pandas.pydata.org/pandas-docs/stable/user_guide/indexing.html#returning-a-view-versus-a-copy\n",
      "  data['CID'][i] = compound[0].cid\n",
      "C:\\Users\\aleks\\AppData\\Local\\Temp\\ipykernel_25276\\3164115185.py:6: SettingWithCopyWarning: \n",
      "A value is trying to be set on a copy of a slice from a DataFrame\n",
      "\n",
      "See the caveats in the documentation: https://pandas.pydata.org/pandas-docs/stable/user_guide/indexing.html#returning-a-view-versus-a-copy\n",
      "  data['PUBCHEM_SMILES'][i] = compound[0].canonical_smiles\n",
      "C:\\Users\\aleks\\AppData\\Local\\Temp\\ipykernel_25276\\3164115185.py:8: SettingWithCopyWarning: \n",
      "A value is trying to be set on a copy of a slice from a DataFrame\n",
      "\n",
      "See the caveats in the documentation: https://pandas.pydata.org/pandas-docs/stable/user_guide/indexing.html#returning-a-view-versus-a-copy\n",
      "  data['CID'][i] = 0\n",
      "C:\\Users\\aleks\\AppData\\Local\\Temp\\ipykernel_25276\\3164115185.py:9: SettingWithCopyWarning: \n",
      "A value is trying to be set on a copy of a slice from a DataFrame\n",
      "\n",
      "See the caveats in the documentation: https://pandas.pydata.org/pandas-docs/stable/user_guide/indexing.html#returning-a-view-versus-a-copy\n",
      "  data['PUBCHEM_SMILES'][i] = 0\n",
      "C:\\Users\\aleks\\AppData\\Local\\Temp\\ipykernel_25276\\3164115185.py:6: SettingWithCopyWarning: \n",
      "A value is trying to be set on a copy of a slice from a DataFrame\n",
      "\n",
      "See the caveats in the documentation: https://pandas.pydata.org/pandas-docs/stable/user_guide/indexing.html#returning-a-view-versus-a-copy\n",
      "  data['PUBCHEM_SMILES'][i] = compound[0].canonical_smiles\n"
     ]
    },
    {
     "name": "stdout",
     "output_type": "stream",
     "text": [
      "PUGREST.BadRequest: error:  C1N(CCC2CNCNC)C=C2N(C)CN1\n"
     ]
    },
    {
     "name": "stderr",
     "output_type": "stream",
     "text": [
      "C:\\Users\\aleks\\AppData\\Local\\Temp\\ipykernel_25276\\3164115185.py:5: SettingWithCopyWarning: \n",
      "A value is trying to be set on a copy of a slice from a DataFrame\n",
      "\n",
      "See the caveats in the documentation: https://pandas.pydata.org/pandas-docs/stable/user_guide/indexing.html#returning-a-view-versus-a-copy\n",
      "  data['CID'][i] = compound[0].cid\n",
      "C:\\Users\\aleks\\AppData\\Local\\Temp\\ipykernel_25276\\3164115185.py:6: SettingWithCopyWarning: \n",
      "A value is trying to be set on a copy of a slice from a DataFrame\n",
      "\n",
      "See the caveats in the documentation: https://pandas.pydata.org/pandas-docs/stable/user_guide/indexing.html#returning-a-view-versus-a-copy\n",
      "  data['PUBCHEM_SMILES'][i] = compound[0].canonical_smiles\n"
     ]
    },
    {
     "name": "stdout",
     "output_type": "stream",
     "text": [
      "PUGREST.BadRequest: error:  C(N1CCCCCN)=NC2=C(C(=O)N(C)C(N2C)=O)N1\n"
     ]
    },
    {
     "name": "stderr",
     "output_type": "stream",
     "text": [
      "C:\\Users\\aleks\\AppData\\Local\\Temp\\ipykernel_25276\\3164115185.py:5: SettingWithCopyWarning: \n",
      "A value is trying to be set on a copy of a slice from a DataFrame\n",
      "\n",
      "See the caveats in the documentation: https://pandas.pydata.org/pandas-docs/stable/user_guide/indexing.html#returning-a-view-versus-a-copy\n",
      "  data['CID'][i] = compound[0].cid\n",
      "C:\\Users\\aleks\\AppData\\Local\\Temp\\ipykernel_25276\\3164115185.py:6: SettingWithCopyWarning: \n",
      "A value is trying to be set on a copy of a slice from a DataFrame\n",
      "\n",
      "See the caveats in the documentation: https://pandas.pydata.org/pandas-docs/stable/user_guide/indexing.html#returning-a-view-versus-a-copy\n",
      "  data['PUBCHEM_SMILES'][i] = compound[0].canonical_smiles\n",
      "C:\\Users\\aleks\\AppData\\Local\\Temp\\ipykernel_25276\\3164115185.py:8: SettingWithCopyWarning: \n",
      "A value is trying to be set on a copy of a slice from a DataFrame\n",
      "\n",
      "See the caveats in the documentation: https://pandas.pydata.org/pandas-docs/stable/user_guide/indexing.html#returning-a-view-versus-a-copy\n",
      "  data['CID'][i] = 0\n",
      "C:\\Users\\aleks\\AppData\\Local\\Temp\\ipykernel_25276\\3164115185.py:9: SettingWithCopyWarning: \n",
      "A value is trying to be set on a copy of a slice from a DataFrame\n",
      "\n",
      "See the caveats in the documentation: https://pandas.pydata.org/pandas-docs/stable/user_guide/indexing.html#returning-a-view-versus-a-copy\n",
      "  data['PUBCHEM_SMILES'][i] = 0\n",
      "C:\\Users\\aleks\\AppData\\Local\\Temp\\ipykernel_25276\\3164115185.py:6: SettingWithCopyWarning: \n",
      "A value is trying to be set on a copy of a slice from a DataFrame\n",
      "\n",
      "See the caveats in the documentation: https://pandas.pydata.org/pandas-docs/stable/user_guide/indexing.html#returning-a-view-versus-a-copy\n",
      "  data['PUBCHEM_SMILES'][i] = compound[0].canonical_smiles\n"
     ]
    },
    {
     "name": "stdout",
     "output_type": "stream",
     "text": [
      "PUGREST.BadRequest: error:  CN(N(C(N(C)CCN(C)C(=N)SC)C)C)OO\n"
     ]
    },
    {
     "name": "stderr",
     "output_type": "stream",
     "text": [
      "C:\\Users\\aleks\\AppData\\Local\\Temp\\ipykernel_25276\\3164115185.py:5: SettingWithCopyWarning: \n",
      "A value is trying to be set on a copy of a slice from a DataFrame\n",
      "\n",
      "See the caveats in the documentation: https://pandas.pydata.org/pandas-docs/stable/user_guide/indexing.html#returning-a-view-versus-a-copy\n",
      "  data['CID'][i] = compound[0].cid\n",
      "C:\\Users\\aleks\\AppData\\Local\\Temp\\ipykernel_25276\\3164115185.py:6: SettingWithCopyWarning: \n",
      "A value is trying to be set on a copy of a slice from a DataFrame\n",
      "\n",
      "See the caveats in the documentation: https://pandas.pydata.org/pandas-docs/stable/user_guide/indexing.html#returning-a-view-versus-a-copy\n",
      "  data['PUBCHEM_SMILES'][i] = compound[0].canonical_smiles\n"
     ]
    },
    {
     "name": "stdout",
     "output_type": "stream",
     "text": [
      "PUGREST.BadRequest: error:  CN(N(C(N(C)CCN(C)C(=N)NC)C)C)N=O\n"
     ]
    },
    {
     "name": "stderr",
     "output_type": "stream",
     "text": [
      "C:\\Users\\aleks\\AppData\\Local\\Temp\\ipykernel_25276\\3164115185.py:5: SettingWithCopyWarning: \n",
      "A value is trying to be set on a copy of a slice from a DataFrame\n",
      "\n",
      "See the caveats in the documentation: https://pandas.pydata.org/pandas-docs/stable/user_guide/indexing.html#returning-a-view-versus-a-copy\n",
      "  data['CID'][i] = compound[0].cid\n",
      "C:\\Users\\aleks\\AppData\\Local\\Temp\\ipykernel_25276\\3164115185.py:6: SettingWithCopyWarning: \n",
      "A value is trying to be set on a copy of a slice from a DataFrame\n",
      "\n",
      "See the caveats in the documentation: https://pandas.pydata.org/pandas-docs/stable/user_guide/indexing.html#returning-a-view-versus-a-copy\n",
      "  data['PUBCHEM_SMILES'][i] = compound[0].canonical_smiles\n"
     ]
    },
    {
     "name": "stdout",
     "output_type": "stream",
     "text": [
      "PUGREST.BadRequest: error:  CN1CCNC(=S)N(C)C(=O)N1CNCCC=O\n"
     ]
    },
    {
     "name": "stderr",
     "output_type": "stream",
     "text": [
      "C:\\Users\\aleks\\AppData\\Local\\Temp\\ipykernel_25276\\3164115185.py:5: SettingWithCopyWarning: \n",
      "A value is trying to be set on a copy of a slice from a DataFrame\n",
      "\n",
      "See the caveats in the documentation: https://pandas.pydata.org/pandas-docs/stable/user_guide/indexing.html#returning-a-view-versus-a-copy\n",
      "  data['CID'][i] = compound[0].cid\n",
      "C:\\Users\\aleks\\AppData\\Local\\Temp\\ipykernel_25276\\3164115185.py:6: SettingWithCopyWarning: \n",
      "A value is trying to be set on a copy of a slice from a DataFrame\n",
      "\n",
      "See the caveats in the documentation: https://pandas.pydata.org/pandas-docs/stable/user_guide/indexing.html#returning-a-view-versus-a-copy\n",
      "  data['PUBCHEM_SMILES'][i] = compound[0].canonical_smiles\n"
     ]
    },
    {
     "name": "stdout",
     "output_type": "stream",
     "text": [
      "PUGREST.BadRequest: error:  C1NCCN(C(=O)CCC(N1C)=O)C\n"
     ]
    },
    {
     "name": "stderr",
     "output_type": "stream",
     "text": [
      "C:\\Users\\aleks\\AppData\\Local\\Temp\\ipykernel_25276\\3164115185.py:5: SettingWithCopyWarning: \n",
      "A value is trying to be set on a copy of a slice from a DataFrame\n",
      "\n",
      "See the caveats in the documentation: https://pandas.pydata.org/pandas-docs/stable/user_guide/indexing.html#returning-a-view-versus-a-copy\n",
      "  data['CID'][i] = compound[0].cid\n",
      "C:\\Users\\aleks\\AppData\\Local\\Temp\\ipykernel_25276\\3164115185.py:6: SettingWithCopyWarning: \n",
      "A value is trying to be set on a copy of a slice from a DataFrame\n",
      "\n",
      "See the caveats in the documentation: https://pandas.pydata.org/pandas-docs/stable/user_guide/indexing.html#returning-a-view-versus-a-copy\n",
      "  data['PUBCHEM_SMILES'][i] = compound[0].canonical_smiles\n"
     ]
    },
    {
     "name": "stdout",
     "output_type": "stream",
     "text": [
      "PUGREST.BadRequest: error:  C1NC(C=2N(C)C(=NC=2N1C)NCCCNCCCN)=O\n"
     ]
    },
    {
     "name": "stderr",
     "output_type": "stream",
     "text": [
      "C:\\Users\\aleks\\AppData\\Local\\Temp\\ipykernel_25276\\3164115185.py:5: SettingWithCopyWarning: \n",
      "A value is trying to be set on a copy of a slice from a DataFrame\n",
      "\n",
      "See the caveats in the documentation: https://pandas.pydata.org/pandas-docs/stable/user_guide/indexing.html#returning-a-view-versus-a-copy\n",
      "  data['CID'][i] = compound[0].cid\n",
      "C:\\Users\\aleks\\AppData\\Local\\Temp\\ipykernel_25276\\3164115185.py:6: SettingWithCopyWarning: \n",
      "A value is trying to be set on a copy of a slice from a DataFrame\n",
      "\n",
      "See the caveats in the documentation: https://pandas.pydata.org/pandas-docs/stable/user_guide/indexing.html#returning-a-view-versus-a-copy\n",
      "  data['PUBCHEM_SMILES'][i] = compound[0].canonical_smiles\n"
     ]
    },
    {
     "name": "stdout",
     "output_type": "stream",
     "text": [
      "PUGREST.BadRequest: error:  C1N(C(C=2N(C)C(=NC=2N1C)NCCCNCCCN)=O)C\n"
     ]
    },
    {
     "name": "stderr",
     "output_type": "stream",
     "text": [
      "C:\\Users\\aleks\\AppData\\Local\\Temp\\ipykernel_25276\\3164115185.py:5: SettingWithCopyWarning: \n",
      "A value is trying to be set on a copy of a slice from a DataFrame\n",
      "\n",
      "See the caveats in the documentation: https://pandas.pydata.org/pandas-docs/stable/user_guide/indexing.html#returning-a-view-versus-a-copy\n",
      "  data['CID'][i] = compound[0].cid\n",
      "C:\\Users\\aleks\\AppData\\Local\\Temp\\ipykernel_25276\\3164115185.py:6: SettingWithCopyWarning: \n",
      "A value is trying to be set on a copy of a slice from a DataFrame\n",
      "\n",
      "See the caveats in the documentation: https://pandas.pydata.org/pandas-docs/stable/user_guide/indexing.html#returning-a-view-versus-a-copy\n",
      "  data['PUBCHEM_SMILES'][i] = compound[0].canonical_smiles\n"
     ]
    },
    {
     "name": "stdout",
     "output_type": "stream",
     "text": [
      "PUGREST.BadRequest: error:  CNC1CN(C(=O)N(C)C(N(C)CN)=C1SCC)C\n"
     ]
    },
    {
     "name": "stderr",
     "output_type": "stream",
     "text": [
      "C:\\Users\\aleks\\AppData\\Local\\Temp\\ipykernel_25276\\3164115185.py:5: SettingWithCopyWarning: \n",
      "A value is trying to be set on a copy of a slice from a DataFrame\n",
      "\n",
      "See the caveats in the documentation: https://pandas.pydata.org/pandas-docs/stable/user_guide/indexing.html#returning-a-view-versus-a-copy\n",
      "  data['CID'][i] = compound[0].cid\n",
      "C:\\Users\\aleks\\AppData\\Local\\Temp\\ipykernel_25276\\3164115185.py:6: SettingWithCopyWarning: \n",
      "A value is trying to be set on a copy of a slice from a DataFrame\n",
      "\n",
      "See the caveats in the documentation: https://pandas.pydata.org/pandas-docs/stable/user_guide/indexing.html#returning-a-view-versus-a-copy\n",
      "  data['PUBCHEM_SMILES'][i] = compound[0].canonical_smiles\n"
     ]
    },
    {
     "name": "stdout",
     "output_type": "stream",
     "text": [
      "PUGREST.BadRequest: error:  CNC1CN(C(=O)N(C)C(N(C)CN)=C1SC)C=O\n"
     ]
    },
    {
     "name": "stderr",
     "output_type": "stream",
     "text": [
      "C:\\Users\\aleks\\AppData\\Local\\Temp\\ipykernel_25276\\3164115185.py:5: SettingWithCopyWarning: \n",
      "A value is trying to be set on a copy of a slice from a DataFrame\n",
      "\n",
      "See the caveats in the documentation: https://pandas.pydata.org/pandas-docs/stable/user_guide/indexing.html#returning-a-view-versus-a-copy\n",
      "  data['CID'][i] = compound[0].cid\n",
      "C:\\Users\\aleks\\AppData\\Local\\Temp\\ipykernel_25276\\3164115185.py:6: SettingWithCopyWarning: \n",
      "A value is trying to be set on a copy of a slice from a DataFrame\n",
      "\n",
      "See the caveats in the documentation: https://pandas.pydata.org/pandas-docs/stable/user_guide/indexing.html#returning-a-view-versus-a-copy\n",
      "  data['PUBCHEM_SMILES'][i] = compound[0].canonical_smiles\n",
      "C:\\Users\\aleks\\AppData\\Local\\Temp\\ipykernel_25276\\3164115185.py:8: SettingWithCopyWarning: \n",
      "A value is trying to be set on a copy of a slice from a DataFrame\n",
      "\n",
      "See the caveats in the documentation: https://pandas.pydata.org/pandas-docs/stable/user_guide/indexing.html#returning-a-view-versus-a-copy\n",
      "  data['CID'][i] = 0\n",
      "C:\\Users\\aleks\\AppData\\Local\\Temp\\ipykernel_25276\\3164115185.py:9: SettingWithCopyWarning: \n",
      "A value is trying to be set on a copy of a slice from a DataFrame\n",
      "\n",
      "See the caveats in the documentation: https://pandas.pydata.org/pandas-docs/stable/user_guide/indexing.html#returning-a-view-versus-a-copy\n",
      "  data['PUBCHEM_SMILES'][i] = 0\n",
      "C:\\Users\\aleks\\AppData\\Local\\Temp\\ipykernel_25276\\3164115185.py:6: SettingWithCopyWarning: \n",
      "A value is trying to be set on a copy of a slice from a DataFrame\n",
      "\n",
      "See the caveats in the documentation: https://pandas.pydata.org/pandas-docs/stable/user_guide/indexing.html#returning-a-view-versus-a-copy\n",
      "  data['PUBCHEM_SMILES'][i] = compound[0].canonical_smiles\n"
     ]
    },
    {
     "name": "stdout",
     "output_type": "stream",
     "text": [
      "PUGREST.BadRequest: error:  CN(CC=CC=O)N(C)C=1C(=O)NC(=O)N(C)C=1N\n"
     ]
    },
    {
     "name": "stderr",
     "output_type": "stream",
     "text": [
      "C:\\Users\\aleks\\AppData\\Local\\Temp\\ipykernel_25276\\3164115185.py:5: SettingWithCopyWarning: \n",
      "A value is trying to be set on a copy of a slice from a DataFrame\n",
      "\n",
      "See the caveats in the documentation: https://pandas.pydata.org/pandas-docs/stable/user_guide/indexing.html#returning-a-view-versus-a-copy\n",
      "  data['CID'][i] = compound[0].cid\n",
      "C:\\Users\\aleks\\AppData\\Local\\Temp\\ipykernel_25276\\3164115185.py:6: SettingWithCopyWarning: \n",
      "A value is trying to be set on a copy of a slice from a DataFrame\n",
      "\n",
      "See the caveats in the documentation: https://pandas.pydata.org/pandas-docs/stable/user_guide/indexing.html#returning-a-view-versus-a-copy\n",
      "  data['PUBCHEM_SMILES'][i] = compound[0].canonical_smiles\n"
     ]
    },
    {
     "name": "stdout",
     "output_type": "stream",
     "text": [
      "PUGREST.BadRequest: error:  C1N(C2C13N=NC4=C3)C=CC=C4N(CCSCCNC2=O)CC\n"
     ]
    },
    {
     "name": "stderr",
     "output_type": "stream",
     "text": [
      "C:\\Users\\aleks\\AppData\\Local\\Temp\\ipykernel_25276\\3164115185.py:5: SettingWithCopyWarning: \n",
      "A value is trying to be set on a copy of a slice from a DataFrame\n",
      "\n",
      "See the caveats in the documentation: https://pandas.pydata.org/pandas-docs/stable/user_guide/indexing.html#returning-a-view-versus-a-copy\n",
      "  data['CID'][i] = compound[0].cid\n",
      "C:\\Users\\aleks\\AppData\\Local\\Temp\\ipykernel_25276\\3164115185.py:6: SettingWithCopyWarning: \n",
      "A value is trying to be set on a copy of a slice from a DataFrame\n",
      "\n",
      "See the caveats in the documentation: https://pandas.pydata.org/pandas-docs/stable/user_guide/indexing.html#returning-a-view-versus-a-copy\n",
      "  data['PUBCHEM_SMILES'][i] = compound[0].canonical_smiles\n"
     ]
    },
    {
     "name": "stdout",
     "output_type": "stream",
     "text": [
      "PUGREST.BadRequest: error:  C12N(CC13N=NC4=C3)C=CC=C4N(CC=CC=CC=C)OC(N2C)C\n"
     ]
    },
    {
     "name": "stderr",
     "output_type": "stream",
     "text": [
      "C:\\Users\\aleks\\AppData\\Local\\Temp\\ipykernel_25276\\3164115185.py:5: SettingWithCopyWarning: \n",
      "A value is trying to be set on a copy of a slice from a DataFrame\n",
      "\n",
      "See the caveats in the documentation: https://pandas.pydata.org/pandas-docs/stable/user_guide/indexing.html#returning-a-view-versus-a-copy\n",
      "  data['CID'][i] = compound[0].cid\n",
      "C:\\Users\\aleks\\AppData\\Local\\Temp\\ipykernel_25276\\3164115185.py:6: SettingWithCopyWarning: \n",
      "A value is trying to be set on a copy of a slice from a DataFrame\n",
      "\n",
      "See the caveats in the documentation: https://pandas.pydata.org/pandas-docs/stable/user_guide/indexing.html#returning-a-view-versus-a-copy\n",
      "  data['PUBCHEM_SMILES'][i] = compound[0].canonical_smiles\n"
     ]
    },
    {
     "name": "stdout",
     "output_type": "stream",
     "text": [
      "PUGREST.BadRequest: error:  C123N(CC1N(C)C=4)C(=O)N(C)C(CN(C)C=42)NC3\n"
     ]
    },
    {
     "name": "stderr",
     "output_type": "stream",
     "text": [
      "C:\\Users\\aleks\\AppData\\Local\\Temp\\ipykernel_25276\\3164115185.py:5: SettingWithCopyWarning: \n",
      "A value is trying to be set on a copy of a slice from a DataFrame\n",
      "\n",
      "See the caveats in the documentation: https://pandas.pydata.org/pandas-docs/stable/user_guide/indexing.html#returning-a-view-versus-a-copy\n",
      "  data['CID'][i] = compound[0].cid\n",
      "C:\\Users\\aleks\\AppData\\Local\\Temp\\ipykernel_25276\\3164115185.py:6: SettingWithCopyWarning: \n",
      "A value is trying to be set on a copy of a slice from a DataFrame\n",
      "\n",
      "See the caveats in the documentation: https://pandas.pydata.org/pandas-docs/stable/user_guide/indexing.html#returning-a-view-versus-a-copy\n",
      "  data['PUBCHEM_SMILES'][i] = compound[0].canonical_smiles\n"
     ]
    },
    {
     "name": "stdout",
     "output_type": "stream",
     "text": [
      "PUGREST.BadRequest: error:  CN(CCC=1CCCCCN)CC=NC2=C(C(=O)N(C)C(=O)N2C)N=1\n"
     ]
    },
    {
     "name": "stderr",
     "output_type": "stream",
     "text": [
      "C:\\Users\\aleks\\AppData\\Local\\Temp\\ipykernel_25276\\3164115185.py:5: SettingWithCopyWarning: \n",
      "A value is trying to be set on a copy of a slice from a DataFrame\n",
      "\n",
      "See the caveats in the documentation: https://pandas.pydata.org/pandas-docs/stable/user_guide/indexing.html#returning-a-view-versus-a-copy\n",
      "  data['CID'][i] = compound[0].cid\n",
      "C:\\Users\\aleks\\AppData\\Local\\Temp\\ipykernel_25276\\3164115185.py:6: SettingWithCopyWarning: \n",
      "A value is trying to be set on a copy of a slice from a DataFrame\n",
      "\n",
      "See the caveats in the documentation: https://pandas.pydata.org/pandas-docs/stable/user_guide/indexing.html#returning-a-view-versus-a-copy\n",
      "  data['PUBCHEM_SMILES'][i] = compound[0].canonical_smiles\n"
     ]
    },
    {
     "name": "stdout",
     "output_type": "stream",
     "text": [
      "PUGREST.BadRequest: error:  C1N(CC12N=NC3=C2)C(=O)N(C(=O)N3C)CC(=O)CNC=O\n"
     ]
    },
    {
     "name": "stderr",
     "output_type": "stream",
     "text": [
      "C:\\Users\\aleks\\AppData\\Local\\Temp\\ipykernel_25276\\3164115185.py:5: SettingWithCopyWarning: \n",
      "A value is trying to be set on a copy of a slice from a DataFrame\n",
      "\n",
      "See the caveats in the documentation: https://pandas.pydata.org/pandas-docs/stable/user_guide/indexing.html#returning-a-view-versus-a-copy\n",
      "  data['CID'][i] = compound[0].cid\n",
      "C:\\Users\\aleks\\AppData\\Local\\Temp\\ipykernel_25276\\3164115185.py:6: SettingWithCopyWarning: \n",
      "A value is trying to be set on a copy of a slice from a DataFrame\n",
      "\n",
      "See the caveats in the documentation: https://pandas.pydata.org/pandas-docs/stable/user_guide/indexing.html#returning-a-view-versus-a-copy\n",
      "  data['PUBCHEM_SMILES'][i] = compound[0].canonical_smiles\n",
      "C:\\Users\\aleks\\AppData\\Local\\Temp\\ipykernel_25276\\3164115185.py:8: SettingWithCopyWarning: \n",
      "A value is trying to be set on a copy of a slice from a DataFrame\n",
      "\n",
      "See the caveats in the documentation: https://pandas.pydata.org/pandas-docs/stable/user_guide/indexing.html#returning-a-view-versus-a-copy\n",
      "  data['CID'][i] = 0\n",
      "C:\\Users\\aleks\\AppData\\Local\\Temp\\ipykernel_25276\\3164115185.py:9: SettingWithCopyWarning: \n",
      "A value is trying to be set on a copy of a slice from a DataFrame\n",
      "\n",
      "See the caveats in the documentation: https://pandas.pydata.org/pandas-docs/stable/user_guide/indexing.html#returning-a-view-versus-a-copy\n",
      "  data['PUBCHEM_SMILES'][i] = 0\n",
      "C:\\Users\\aleks\\AppData\\Local\\Temp\\ipykernel_25276\\3164115185.py:6: SettingWithCopyWarning: \n",
      "A value is trying to be set on a copy of a slice from a DataFrame\n",
      "\n",
      "See the caveats in the documentation: https://pandas.pydata.org/pandas-docs/stable/user_guide/indexing.html#returning-a-view-versus-a-copy\n",
      "  data['PUBCHEM_SMILES'][i] = compound[0].canonical_smiles\n"
     ]
    },
    {
     "name": "stdout",
     "output_type": "stream",
     "text": [
      "PUGREST.BadRequest: error:  CN(CCCCCCCCC)NC1=NC2=C(C(N(C)C(=O)N2C)=O)N1C\n"
     ]
    },
    {
     "name": "stderr",
     "output_type": "stream",
     "text": [
      "C:\\Users\\aleks\\AppData\\Local\\Temp\\ipykernel_25276\\3164115185.py:5: SettingWithCopyWarning: \n",
      "A value is trying to be set on a copy of a slice from a DataFrame\n",
      "\n",
      "See the caveats in the documentation: https://pandas.pydata.org/pandas-docs/stable/user_guide/indexing.html#returning-a-view-versus-a-copy\n",
      "  data['CID'][i] = compound[0].cid\n",
      "C:\\Users\\aleks\\AppData\\Local\\Temp\\ipykernel_25276\\3164115185.py:6: SettingWithCopyWarning: \n",
      "A value is trying to be set on a copy of a slice from a DataFrame\n",
      "\n",
      "See the caveats in the documentation: https://pandas.pydata.org/pandas-docs/stable/user_guide/indexing.html#returning-a-view-versus-a-copy\n",
      "  data['PUBCHEM_SMILES'][i] = compound[0].canonical_smiles\n",
      "C:\\Users\\aleks\\AppData\\Local\\Temp\\ipykernel_25276\\3164115185.py:8: SettingWithCopyWarning: \n",
      "A value is trying to be set on a copy of a slice from a DataFrame\n",
      "\n",
      "See the caveats in the documentation: https://pandas.pydata.org/pandas-docs/stable/user_guide/indexing.html#returning-a-view-versus-a-copy\n",
      "  data['CID'][i] = 0\n",
      "C:\\Users\\aleks\\AppData\\Local\\Temp\\ipykernel_25276\\3164115185.py:9: SettingWithCopyWarning: \n",
      "A value is trying to be set on a copy of a slice from a DataFrame\n",
      "\n",
      "See the caveats in the documentation: https://pandas.pydata.org/pandas-docs/stable/user_guide/indexing.html#returning-a-view-versus-a-copy\n",
      "  data['PUBCHEM_SMILES'][i] = 0\n",
      "C:\\Users\\aleks\\AppData\\Local\\Temp\\ipykernel_25276\\3164115185.py:6: SettingWithCopyWarning: \n",
      "A value is trying to be set on a copy of a slice from a DataFrame\n",
      "\n",
      "See the caveats in the documentation: https://pandas.pydata.org/pandas-docs/stable/user_guide/indexing.html#returning-a-view-versus-a-copy\n",
      "  data['PUBCHEM_SMILES'][i] = compound[0].canonical_smiles\n"
     ]
    },
    {
     "name": "stdout",
     "output_type": "stream",
     "text": [
      "PUGREST.BadRequest: error:  CN(CC1=CC=CC=C1)C=NC=2N(C)CN(C(=O)C=2N)C\n"
     ]
    },
    {
     "name": "stderr",
     "output_type": "stream",
     "text": [
      "C:\\Users\\aleks\\AppData\\Local\\Temp\\ipykernel_25276\\3164115185.py:5: SettingWithCopyWarning: \n",
      "A value is trying to be set on a copy of a slice from a DataFrame\n",
      "\n",
      "See the caveats in the documentation: https://pandas.pydata.org/pandas-docs/stable/user_guide/indexing.html#returning-a-view-versus-a-copy\n",
      "  data['CID'][i] = compound[0].cid\n",
      "C:\\Users\\aleks\\AppData\\Local\\Temp\\ipykernel_25276\\3164115185.py:6: SettingWithCopyWarning: \n",
      "A value is trying to be set on a copy of a slice from a DataFrame\n",
      "\n",
      "See the caveats in the documentation: https://pandas.pydata.org/pandas-docs/stable/user_guide/indexing.html#returning-a-view-versus-a-copy\n",
      "  data['PUBCHEM_SMILES'][i] = compound[0].canonical_smiles\n"
     ]
    },
    {
     "name": "stdout",
     "output_type": "stream",
     "text": [
      "PUGREST.BadRequest: error:  C1N(CC2=CC[NH1]C2C)NC=3N(C)C(=O)NC(=O)C1=3\n"
     ]
    },
    {
     "name": "stderr",
     "output_type": "stream",
     "text": [
      "C:\\Users\\aleks\\AppData\\Local\\Temp\\ipykernel_25276\\3164115185.py:5: SettingWithCopyWarning: \n",
      "A value is trying to be set on a copy of a slice from a DataFrame\n",
      "\n",
      "See the caveats in the documentation: https://pandas.pydata.org/pandas-docs/stable/user_guide/indexing.html#returning-a-view-versus-a-copy\n",
      "  data['CID'][i] = compound[0].cid\n",
      "C:\\Users\\aleks\\AppData\\Local\\Temp\\ipykernel_25276\\3164115185.py:6: SettingWithCopyWarning: \n",
      "A value is trying to be set on a copy of a slice from a DataFrame\n",
      "\n",
      "See the caveats in the documentation: https://pandas.pydata.org/pandas-docs/stable/user_guide/indexing.html#returning-a-view-versus-a-copy\n",
      "  data['PUBCHEM_SMILES'][i] = compound[0].canonical_smiles\n"
     ]
    },
    {
     "name": "stdout",
     "output_type": "stream",
     "text": [
      "PUGREST.BadRequest: error:  C1N(CCN(C)C=CC2=C(NNC2=O)C=O)N1C\n"
     ]
    },
    {
     "name": "stderr",
     "output_type": "stream",
     "text": [
      "C:\\Users\\aleks\\AppData\\Local\\Temp\\ipykernel_25276\\3164115185.py:5: SettingWithCopyWarning: \n",
      "A value is trying to be set on a copy of a slice from a DataFrame\n",
      "\n",
      "See the caveats in the documentation: https://pandas.pydata.org/pandas-docs/stable/user_guide/indexing.html#returning-a-view-versus-a-copy\n",
      "  data['CID'][i] = compound[0].cid\n",
      "C:\\Users\\aleks\\AppData\\Local\\Temp\\ipykernel_25276\\3164115185.py:6: SettingWithCopyWarning: \n",
      "A value is trying to be set on a copy of a slice from a DataFrame\n",
      "\n",
      "See the caveats in the documentation: https://pandas.pydata.org/pandas-docs/stable/user_guide/indexing.html#returning-a-view-versus-a-copy\n",
      "  data['PUBCHEM_SMILES'][i] = compound[0].canonical_smiles\n"
     ]
    },
    {
     "name": "stdout",
     "output_type": "stream",
     "text": [
      "PUGREST.BadRequest: error:  C1N(CC1N(C)C)CN(C)CC=2N=NN(C=2)C(=O)N(C)C(NC)=O\n"
     ]
    },
    {
     "name": "stderr",
     "output_type": "stream",
     "text": [
      "C:\\Users\\aleks\\AppData\\Local\\Temp\\ipykernel_25276\\3164115185.py:5: SettingWithCopyWarning: \n",
      "A value is trying to be set on a copy of a slice from a DataFrame\n",
      "\n",
      "See the caveats in the documentation: https://pandas.pydata.org/pandas-docs/stable/user_guide/indexing.html#returning-a-view-versus-a-copy\n",
      "  data['CID'][i] = compound[0].cid\n",
      "C:\\Users\\aleks\\AppData\\Local\\Temp\\ipykernel_25276\\3164115185.py:6: SettingWithCopyWarning: \n",
      "A value is trying to be set on a copy of a slice from a DataFrame\n",
      "\n",
      "See the caveats in the documentation: https://pandas.pydata.org/pandas-docs/stable/user_guide/indexing.html#returning-a-view-versus-a-copy\n",
      "  data['PUBCHEM_SMILES'][i] = compound[0].canonical_smiles\n"
     ]
    },
    {
     "name": "stdout",
     "output_type": "stream",
     "text": [
      "PUGREST.BadRequest: error:  C1N(CC1CC)N(C)C=2N(C)C(=O)N(C)C(C=2N)=O\n"
     ]
    },
    {
     "name": "stderr",
     "output_type": "stream",
     "text": [
      "C:\\Users\\aleks\\AppData\\Local\\Temp\\ipykernel_25276\\3164115185.py:5: SettingWithCopyWarning: \n",
      "A value is trying to be set on a copy of a slice from a DataFrame\n",
      "\n",
      "See the caveats in the documentation: https://pandas.pydata.org/pandas-docs/stable/user_guide/indexing.html#returning-a-view-versus-a-copy\n",
      "  data['CID'][i] = compound[0].cid\n",
      "C:\\Users\\aleks\\AppData\\Local\\Temp\\ipykernel_25276\\3164115185.py:6: SettingWithCopyWarning: \n",
      "A value is trying to be set on a copy of a slice from a DataFrame\n",
      "\n",
      "See the caveats in the documentation: https://pandas.pydata.org/pandas-docs/stable/user_guide/indexing.html#returning-a-view-versus-a-copy\n",
      "  data['PUBCHEM_SMILES'][i] = compound[0].canonical_smiles\n"
     ]
    },
    {
     "name": "stdout",
     "output_type": "stream",
     "text": [
      "PUGREST.BadRequest: error:  C1N(CC1CC)N(C)C=2N(C)C(O)N(C)C(=O)C=2N\n"
     ]
    },
    {
     "name": "stderr",
     "output_type": "stream",
     "text": [
      "C:\\Users\\aleks\\AppData\\Local\\Temp\\ipykernel_25276\\3164115185.py:5: SettingWithCopyWarning: \n",
      "A value is trying to be set on a copy of a slice from a DataFrame\n",
      "\n",
      "See the caveats in the documentation: https://pandas.pydata.org/pandas-docs/stable/user_guide/indexing.html#returning-a-view-versus-a-copy\n",
      "  data['CID'][i] = compound[0].cid\n",
      "C:\\Users\\aleks\\AppData\\Local\\Temp\\ipykernel_25276\\3164115185.py:6: SettingWithCopyWarning: \n",
      "A value is trying to be set on a copy of a slice from a DataFrame\n",
      "\n",
      "See the caveats in the documentation: https://pandas.pydata.org/pandas-docs/stable/user_guide/indexing.html#returning-a-view-versus-a-copy\n",
      "  data['PUBCHEM_SMILES'][i] = compound[0].canonical_smiles\n"
     ]
    },
    {
     "name": "stdout",
     "output_type": "stream",
     "text": [
      "PUGREST.BadRequest: error:  C1=2N(CC1C=2CN(C)C(=O)NC)ONCCCCCCCCNC\n"
     ]
    },
    {
     "name": "stderr",
     "output_type": "stream",
     "text": [
      "C:\\Users\\aleks\\AppData\\Local\\Temp\\ipykernel_25276\\3164115185.py:5: SettingWithCopyWarning: \n",
      "A value is trying to be set on a copy of a slice from a DataFrame\n",
      "\n",
      "See the caveats in the documentation: https://pandas.pydata.org/pandas-docs/stable/user_guide/indexing.html#returning-a-view-versus-a-copy\n",
      "  data['CID'][i] = compound[0].cid\n",
      "C:\\Users\\aleks\\AppData\\Local\\Temp\\ipykernel_25276\\3164115185.py:6: SettingWithCopyWarning: \n",
      "A value is trying to be set on a copy of a slice from a DataFrame\n",
      "\n",
      "See the caveats in the documentation: https://pandas.pydata.org/pandas-docs/stable/user_guide/indexing.html#returning-a-view-versus-a-copy\n",
      "  data['PUBCHEM_SMILES'][i] = compound[0].canonical_smiles\n"
     ]
    },
    {
     "name": "stdout",
     "output_type": "stream",
     "text": [
      "PUGREST.BadRequest: error:  C1N(CC1N(C)C)CN(C)C=C(/C=C(\\S)C(=O)OC)[N+1]([O-1])=O\n"
     ]
    },
    {
     "name": "stderr",
     "output_type": "stream",
     "text": [
      "C:\\Users\\aleks\\AppData\\Local\\Temp\\ipykernel_25276\\3164115185.py:5: SettingWithCopyWarning: \n",
      "A value is trying to be set on a copy of a slice from a DataFrame\n",
      "\n",
      "See the caveats in the documentation: https://pandas.pydata.org/pandas-docs/stable/user_guide/indexing.html#returning-a-view-versus-a-copy\n",
      "  data['CID'][i] = compound[0].cid\n",
      "C:\\Users\\aleks\\AppData\\Local\\Temp\\ipykernel_25276\\3164115185.py:6: SettingWithCopyWarning: \n",
      "A value is trying to be set on a copy of a slice from a DataFrame\n",
      "\n",
      "See the caveats in the documentation: https://pandas.pydata.org/pandas-docs/stable/user_guide/indexing.html#returning-a-view-versus-a-copy\n",
      "  data['PUBCHEM_SMILES'][i] = compound[0].canonical_smiles\n",
      "C:\\Users\\aleks\\AppData\\Local\\Temp\\ipykernel_25276\\3164115185.py:8: SettingWithCopyWarning: \n",
      "A value is trying to be set on a copy of a slice from a DataFrame\n",
      "\n",
      "See the caveats in the documentation: https://pandas.pydata.org/pandas-docs/stable/user_guide/indexing.html#returning-a-view-versus-a-copy\n",
      "  data['CID'][i] = 0\n",
      "C:\\Users\\aleks\\AppData\\Local\\Temp\\ipykernel_25276\\3164115185.py:9: SettingWithCopyWarning: \n",
      "A value is trying to be set on a copy of a slice from a DataFrame\n",
      "\n",
      "See the caveats in the documentation: https://pandas.pydata.org/pandas-docs/stable/user_guide/indexing.html#returning-a-view-versus-a-copy\n",
      "  data['PUBCHEM_SMILES'][i] = 0\n",
      "C:\\Users\\aleks\\AppData\\Local\\Temp\\ipykernel_25276\\3164115185.py:6: SettingWithCopyWarning: \n",
      "A value is trying to be set on a copy of a slice from a DataFrame\n",
      "\n",
      "See the caveats in the documentation: https://pandas.pydata.org/pandas-docs/stable/user_guide/indexing.html#returning-a-view-versus-a-copy\n",
      "  data['PUBCHEM_SMILES'][i] = compound[0].canonical_smiles\n"
     ]
    },
    {
     "name": "stdout",
     "output_type": "stream",
     "text": [
      "PUGREST.BadRequest: error:  C#1N(C2C=CC#1)CCC=C2N(C)C(=O)N(C=O)CC\n"
     ]
    },
    {
     "name": "stderr",
     "output_type": "stream",
     "text": [
      "C:\\Users\\aleks\\AppData\\Local\\Temp\\ipykernel_25276\\3164115185.py:5: SettingWithCopyWarning: \n",
      "A value is trying to be set on a copy of a slice from a DataFrame\n",
      "\n",
      "See the caveats in the documentation: https://pandas.pydata.org/pandas-docs/stable/user_guide/indexing.html#returning-a-view-versus-a-copy\n",
      "  data['CID'][i] = compound[0].cid\n",
      "C:\\Users\\aleks\\AppData\\Local\\Temp\\ipykernel_25276\\3164115185.py:6: SettingWithCopyWarning: \n",
      "A value is trying to be set on a copy of a slice from a DataFrame\n",
      "\n",
      "See the caveats in the documentation: https://pandas.pydata.org/pandas-docs/stable/user_guide/indexing.html#returning-a-view-versus-a-copy\n",
      "  data['PUBCHEM_SMILES'][i] = compound[0].canonical_smiles\n"
     ]
    },
    {
     "name": "stdout",
     "output_type": "stream",
     "text": [
      "PUGREST.BadRequest: error:  C#1N(CC2=CC#1)CCC2N(C(N(C=O)C)=O)C\n"
     ]
    },
    {
     "name": "stderr",
     "output_type": "stream",
     "text": [
      "C:\\Users\\aleks\\AppData\\Local\\Temp\\ipykernel_25276\\3164115185.py:5: SettingWithCopyWarning: \n",
      "A value is trying to be set on a copy of a slice from a DataFrame\n",
      "\n",
      "See the caveats in the documentation: https://pandas.pydata.org/pandas-docs/stable/user_guide/indexing.html#returning-a-view-versus-a-copy\n",
      "  data['CID'][i] = compound[0].cid\n",
      "C:\\Users\\aleks\\AppData\\Local\\Temp\\ipykernel_25276\\3164115185.py:6: SettingWithCopyWarning: \n",
      "A value is trying to be set on a copy of a slice from a DataFrame\n",
      "\n",
      "See the caveats in the documentation: https://pandas.pydata.org/pandas-docs/stable/user_guide/indexing.html#returning-a-view-versus-a-copy\n",
      "  data['PUBCHEM_SMILES'][i] = compound[0].canonical_smiles\n"
     ]
    },
    {
     "name": "stdout",
     "output_type": "stream",
     "text": [
      "PUGREST.BadRequest: error:  C#1N(CC=CC#1)CCC(=O)N(C)C(N(C=O)C)=O\n"
     ]
    },
    {
     "name": "stderr",
     "output_type": "stream",
     "text": [
      "C:\\Users\\aleks\\AppData\\Local\\Temp\\ipykernel_25276\\3164115185.py:5: SettingWithCopyWarning: \n",
      "A value is trying to be set on a copy of a slice from a DataFrame\n",
      "\n",
      "See the caveats in the documentation: https://pandas.pydata.org/pandas-docs/stable/user_guide/indexing.html#returning-a-view-versus-a-copy\n",
      "  data['CID'][i] = compound[0].cid\n",
      "C:\\Users\\aleks\\AppData\\Local\\Temp\\ipykernel_25276\\3164115185.py:6: SettingWithCopyWarning: \n",
      "A value is trying to be set on a copy of a slice from a DataFrame\n",
      "\n",
      "See the caveats in the documentation: https://pandas.pydata.org/pandas-docs/stable/user_guide/indexing.html#returning-a-view-versus-a-copy\n",
      "  data['PUBCHEM_SMILES'][i] = compound[0].canonical_smiles\n",
      "C:\\Users\\aleks\\AppData\\Local\\Temp\\ipykernel_25276\\3164115185.py:8: SettingWithCopyWarning: \n",
      "A value is trying to be set on a copy of a slice from a DataFrame\n",
      "\n",
      "See the caveats in the documentation: https://pandas.pydata.org/pandas-docs/stable/user_guide/indexing.html#returning-a-view-versus-a-copy\n",
      "  data['CID'][i] = 0\n",
      "C:\\Users\\aleks\\AppData\\Local\\Temp\\ipykernel_25276\\3164115185.py:9: SettingWithCopyWarning: \n",
      "A value is trying to be set on a copy of a slice from a DataFrame\n",
      "\n",
      "See the caveats in the documentation: https://pandas.pydata.org/pandas-docs/stable/user_guide/indexing.html#returning-a-view-versus-a-copy\n",
      "  data['PUBCHEM_SMILES'][i] = 0\n",
      "C:\\Users\\aleks\\AppData\\Local\\Temp\\ipykernel_25276\\3164115185.py:6: SettingWithCopyWarning: \n",
      "A value is trying to be set on a copy of a slice from a DataFrame\n",
      "\n",
      "See the caveats in the documentation: https://pandas.pydata.org/pandas-docs/stable/user_guide/indexing.html#returning-a-view-versus-a-copy\n",
      "  data['PUBCHEM_SMILES'][i] = compound[0].canonical_smiles\n"
     ]
    },
    {
     "name": "stdout",
     "output_type": "stream",
     "text": [
      "PUGREST.BadRequest: error:  C#1N(CC=CC#1)CCC(=O)N(C)C(N(C)C=O)C=O\n"
     ]
    },
    {
     "name": "stderr",
     "output_type": "stream",
     "text": [
      "C:\\Users\\aleks\\AppData\\Local\\Temp\\ipykernel_25276\\3164115185.py:5: SettingWithCopyWarning: \n",
      "A value is trying to be set on a copy of a slice from a DataFrame\n",
      "\n",
      "See the caveats in the documentation: https://pandas.pydata.org/pandas-docs/stable/user_guide/indexing.html#returning-a-view-versus-a-copy\n",
      "  data['CID'][i] = compound[0].cid\n",
      "C:\\Users\\aleks\\AppData\\Local\\Temp\\ipykernel_25276\\3164115185.py:6: SettingWithCopyWarning: \n",
      "A value is trying to be set on a copy of a slice from a DataFrame\n",
      "\n",
      "See the caveats in the documentation: https://pandas.pydata.org/pandas-docs/stable/user_guide/indexing.html#returning-a-view-versus-a-copy\n",
      "  data['PUBCHEM_SMILES'][i] = compound[0].canonical_smiles\n"
     ]
    },
    {
     "name": "stdout",
     "output_type": "stream",
     "text": [
      "PUGREST.BadRequest: error:  C#1N(CC=CC#1)NC=2N(C)C(N(C(=O)C=2)C)=O\n"
     ]
    },
    {
     "name": "stderr",
     "output_type": "stream",
     "text": [
      "C:\\Users\\aleks\\AppData\\Local\\Temp\\ipykernel_25276\\3164115185.py:5: SettingWithCopyWarning: \n",
      "A value is trying to be set on a copy of a slice from a DataFrame\n",
      "\n",
      "See the caveats in the documentation: https://pandas.pydata.org/pandas-docs/stable/user_guide/indexing.html#returning-a-view-versus-a-copy\n",
      "  data['CID'][i] = compound[0].cid\n",
      "C:\\Users\\aleks\\AppData\\Local\\Temp\\ipykernel_25276\\3164115185.py:6: SettingWithCopyWarning: \n",
      "A value is trying to be set on a copy of a slice from a DataFrame\n",
      "\n",
      "See the caveats in the documentation: https://pandas.pydata.org/pandas-docs/stable/user_guide/indexing.html#returning-a-view-versus-a-copy\n",
      "  data['PUBCHEM_SMILES'][i] = compound[0].canonical_smiles\n",
      "C:\\Users\\aleks\\AppData\\Local\\Temp\\ipykernel_25276\\3164115185.py:8: SettingWithCopyWarning: \n",
      "A value is trying to be set on a copy of a slice from a DataFrame\n",
      "\n",
      "See the caveats in the documentation: https://pandas.pydata.org/pandas-docs/stable/user_guide/indexing.html#returning-a-view-versus-a-copy\n",
      "  data['CID'][i] = 0\n",
      "C:\\Users\\aleks\\AppData\\Local\\Temp\\ipykernel_25276\\3164115185.py:9: SettingWithCopyWarning: \n",
      "A value is trying to be set on a copy of a slice from a DataFrame\n",
      "\n",
      "See the caveats in the documentation: https://pandas.pydata.org/pandas-docs/stable/user_guide/indexing.html#returning-a-view-versus-a-copy\n",
      "  data['PUBCHEM_SMILES'][i] = 0\n"
     ]
    },
    {
     "name": "stdout",
     "output_type": "stream",
     "text": [
      "PUGREST.BadRequest: error:  C#1N(CC=CC#1)CCC(=O)N(C)CN(CCCNC)CN\n"
     ]
    },
    {
     "name": "stderr",
     "output_type": "stream",
     "text": [
      "C:\\Users\\aleks\\AppData\\Local\\Temp\\ipykernel_25276\\3164115185.py:6: SettingWithCopyWarning: \n",
      "A value is trying to be set on a copy of a slice from a DataFrame\n",
      "\n",
      "See the caveats in the documentation: https://pandas.pydata.org/pandas-docs/stable/user_guide/indexing.html#returning-a-view-versus-a-copy\n",
      "  data['PUBCHEM_SMILES'][i] = compound[0].canonical_smiles\n"
     ]
    }
   ],
   "source": [
    "knowon_l = []\n",
    "for i, smiles in enumerate(data['SMILES_From_Tensor_rotation']):\n",
    "    try:\n",
    "        compound = pcp.get_compounds(smiles, 'smiles')\n",
    "        data['CID'][i] = compound[0].cid\n",
    "        data['PUBCHEM_SMILES'][i] = compound[0].canonical_smiles\n",
    "        if math.isnan(data['CID'][i]):\n",
    "            data['CID'][i] = 0\n",
    "            data['PUBCHEM_SMILES'][i] = 0\n",
    "        else:\n",
    "            pass\n",
    "        knowon_l.append(compound)\n",
    "    except:\n",
    "        print(\"PUGREST.BadRequest: error: \", smiles)"
   ]
  },
  {
   "cell_type": "code",
   "execution_count": 11,
   "id": "2cb6674c",
   "metadata": {},
   "outputs": [
    {
     "data": {
      "text/plain": [
       "[Compound()]"
      ]
     },
     "execution_count": 11,
     "metadata": {},
     "output_type": "execute_result"
    }
   ],
   "source": [
    "pcp.get_compounds(data['SMILES_From_Tensor_rotation'][0], 'smiles')"
   ]
  },
  {
   "cell_type": "code",
   "execution_count": 12,
   "id": "08f11e42",
   "metadata": {},
   "outputs": [
    {
     "data": {
      "text/plain": [
       "[Compound(10899)]"
      ]
     },
     "execution_count": 12,
     "metadata": {},
     "output_type": "execute_result"
    }
   ],
   "source": [
    "pcp.get_compounds('CCCCl', 'smiles')"
   ]
  },
  {
   "cell_type": "code",
   "execution_count": 13,
   "id": "cc4236b6",
   "metadata": {},
   "outputs": [
    {
     "data": {
      "text/plain": [
       "'CN(C=1SC2=CC=CC=C2)N=1'"
      ]
     },
     "execution_count": 13,
     "metadata": {},
     "output_type": "execute_result"
    }
   ],
   "source": [
    "data['SMILES_From_Tensor_rotation'][0]"
   ]
  },
  {
   "cell_type": "code",
   "execution_count": 14,
   "id": "db5588b6",
   "metadata": {},
   "outputs": [
    {
     "data": {
      "text/html": [
       "<div>\n",
       "<style scoped>\n",
       "    .dataframe tbody tr th:only-of-type {\n",
       "        vertical-align: middle;\n",
       "    }\n",
       "\n",
       "    .dataframe tbody tr th {\n",
       "        vertical-align: top;\n",
       "    }\n",
       "\n",
       "    .dataframe thead th {\n",
       "        text-align: right;\n",
       "    }\n",
       "</style>\n",
       "<table border=\"1\" class=\"dataframe\">\n",
       "  <thead>\n",
       "    <tr style=\"text-align: right;\">\n",
       "      <th></th>\n",
       "      <th>SMILES_From_Tensor_rotation</th>\n",
       "      <th>CID</th>\n",
       "      <th>PUBCHEM_SMILES</th>\n",
       "    </tr>\n",
       "  </thead>\n",
       "  <tbody>\n",
       "    <tr>\n",
       "      <th>0</th>\n",
       "      <td>CN(C=1SC2=CC=CC=C2)N=1</td>\n",
       "      <td>0.0</td>\n",
       "      <td>0.0</td>\n",
       "    </tr>\n",
       "    <tr>\n",
       "      <th>1</th>\n",
       "      <td>CN(CCCCCCNC1)NC2=C(C(N(C)C(N2C)=O)=O)N1</td>\n",
       "      <td>0.0</td>\n",
       "      <td>0.0</td>\n",
       "    </tr>\n",
       "    <tr>\n",
       "      <th>2</th>\n",
       "      <td>CN(CCCC1CCNC)NC2=C(C(N(C)C(N2C)=O)=O)N1</td>\n",
       "      <td>0.0</td>\n",
       "      <td>0.0</td>\n",
       "    </tr>\n",
       "    <tr>\n",
       "      <th>3</th>\n",
       "      <td>CN(CCC=1CCNC=N)C2=C(C(N(C)C(=O)N2C)=O)N=1</td>\n",
       "      <td>0.0</td>\n",
       "      <td>0.0</td>\n",
       "    </tr>\n",
       "    <tr>\n",
       "      <th>4</th>\n",
       "      <td>C1N(CCCCCCNC)NC2=C1CN(C)C(N2C)=O</td>\n",
       "      <td>0.0</td>\n",
       "      <td>0.0</td>\n",
       "    </tr>\n",
       "  </tbody>\n",
       "</table>\n",
       "</div>"
      ],
      "text/plain": [
       "                 SMILES_From_Tensor_rotation  CID PUBCHEM_SMILES\n",
       "0                     CN(C=1SC2=CC=CC=C2)N=1  0.0            0.0\n",
       "1    CN(CCCCCCNC1)NC2=C(C(N(C)C(N2C)=O)=O)N1  0.0            0.0\n",
       "2    CN(CCCC1CCNC)NC2=C(C(N(C)C(N2C)=O)=O)N1  0.0            0.0\n",
       "3  CN(CCC=1CCNC=N)C2=C(C(N(C)C(=O)N2C)=O)N=1  0.0            0.0\n",
       "4           C1N(CCCCCCNC)NC2=C1CN(C)C(N2C)=O  0.0            0.0"
      ]
     },
     "execution_count": 14,
     "metadata": {},
     "output_type": "execute_result"
    }
   ],
   "source": [
    "data.head()"
   ]
  },
  {
   "cell_type": "code",
   "execution_count": 15,
   "id": "7eccbb29",
   "metadata": {},
   "outputs": [
    {
     "data": {
      "text/plain": [
       "array([0.00000000e+00, 6.71864000e+05, 1.35379403e+08, 4.47224490e+07])"
      ]
     },
     "execution_count": 15,
     "metadata": {},
     "output_type": "execute_result"
    }
   ],
   "source": [
    "data.CID.unique()"
   ]
  },
  {
   "cell_type": "code",
   "execution_count": 16,
   "id": "6c07e2ac",
   "metadata": {},
   "outputs": [
    {
     "data": {
      "text/plain": [
       "array([0.0, 'CN1C2=C(N=C1SC3=NC4=CC=CC=C4N3)N(C(=O)N(C2=O)C)C',\n",
       "       'CN1C2=C(N=C1SC(=S)N3CCCC3)N(C(=O)N(C2=O)C)C',\n",
       "       'CC(C)(C)CSC1=NC2=C(N1)C(=O)N(C(=O)N2C)C'], dtype=object)"
      ]
     },
     "execution_count": 16,
     "metadata": {},
     "output_type": "execute_result"
    }
   ],
   "source": [
    "data.PUBCHEM_SMILES.unique()"
   ]
  },
  {
   "cell_type": "code",
   "execution_count": 17,
   "id": "a982fe37",
   "metadata": {},
   "outputs": [],
   "source": [
    "data.to_excel('../Data/new_structures_caffeine.xlsx')"
   ]
  }
 ],
 "metadata": {
  "kernelspec": {
   "display_name": "Python 3 (ipykernel)",
   "language": "python",
   "name": "python3"
  },
  "language_info": {
   "codemirror_mode": {
    "name": "ipython",
    "version": 3
   },
   "file_extension": ".py",
   "mimetype": "text/x-python",
   "name": "python",
   "nbconvert_exporter": "python",
   "pygments_lexer": "ipython3",
   "version": "3.9.15"
  }
 },
 "nbformat": 4,
 "nbformat_minor": 5
}
