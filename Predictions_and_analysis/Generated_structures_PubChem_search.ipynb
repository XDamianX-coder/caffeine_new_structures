{
 "cells": [
  {
   "cell_type": "code",
   "execution_count": 1,
   "id": "023acbac",
   "metadata": {},
   "outputs": [],
   "source": [
    "import pubchempy as pcp\n",
    "import pandas as pd\n",
    "import math"
   ]
  },
  {
   "cell_type": "code",
   "execution_count": 2,
   "id": "9aaa9213",
   "metadata": {},
   "outputs": [],
   "source": [
    "data_ = pd.read_excel('../Data/Molecules_generated_tensor_scaling_0_2.xlsx')"
   ]
  },
  {
   "cell_type": "code",
   "execution_count": 3,
   "id": "1782f2f8",
   "metadata": {},
   "outputs": [],
   "source": [
    "data__ = pd.read_excel('../Data/Molecules_generated_tensor_scaling_0_1.xlsx')"
   ]
  },
  {
   "cell_type": "code",
   "execution_count": 4,
   "id": "c442f59b",
   "metadata": {},
   "outputs": [],
   "source": [
    "data = pd.concat([data_, data__], ignore_index=True)"
   ]
  },
  {
   "cell_type": "code",
   "execution_count": 5,
   "id": "97f944a0",
   "metadata": {},
   "outputs": [
    {
     "data": {
      "text/plain": [
       "604"
      ]
     },
     "execution_count": 5,
     "metadata": {},
     "output_type": "execute_result"
    }
   ],
   "source": [
    "len(data['SMILES_From_Tensor_rotation'])"
   ]
  },
  {
   "cell_type": "code",
   "execution_count": 6,
   "id": "87d3c916",
   "metadata": {},
   "outputs": [
    {
     "data": {
      "text/plain": [
       "440"
      ]
     },
     "execution_count": 6,
     "metadata": {},
     "output_type": "execute_result"
    }
   ],
   "source": [
    "data = data.drop_duplicates(subset=['SMILES_From_Tensor_rotation'])\n",
    "#list(set(data['SMILES_From_Tensor_rotation'])) #old approach\n",
    "len(data)"
   ]
  },
  {
   "cell_type": "code",
   "execution_count": 7,
   "id": "bf24f29d",
   "metadata": {},
   "outputs": [
    {
     "data": {
      "text/html": [
       "<div>\n",
       "<style scoped>\n",
       "    .dataframe tbody tr th:only-of-type {\n",
       "        vertical-align: middle;\n",
       "    }\n",
       "\n",
       "    .dataframe tbody tr th {\n",
       "        vertical-align: top;\n",
       "    }\n",
       "\n",
       "    .dataframe thead th {\n",
       "        text-align: right;\n",
       "    }\n",
       "</style>\n",
       "<table border=\"1\" class=\"dataframe\">\n",
       "  <thead>\n",
       "    <tr style=\"text-align: right;\">\n",
       "      <th></th>\n",
       "      <th>SMILES_From_Tensor_rotation</th>\n",
       "    </tr>\n",
       "  </thead>\n",
       "  <tbody>\n",
       "    <tr>\n",
       "      <th>0</th>\n",
       "      <td>C=12N(C)C(NCCC/N=C3/SCC(=O)N3)=NC=1N(C(N2C)=O)C</td>\n",
       "    </tr>\n",
       "    <tr>\n",
       "      <th>1</th>\n",
       "      <td>C1N(C)C(NCCC/N=C2/SCC(=O)N2)=NCN(C(N1C)=O)C</td>\n",
       "    </tr>\n",
       "    <tr>\n",
       "      <th>2</th>\n",
       "      <td>C=12N(C)C(SC(=S)N3CCCC3)=NC=1N(C(=O)N2C)C=O</td>\n",
       "    </tr>\n",
       "    <tr>\n",
       "      <th>3</th>\n",
       "      <td>CN(C1)C(NCC=CCCCN=N)C2=C1C(N(C)C(=O)N2C)=O</td>\n",
       "    </tr>\n",
       "    <tr>\n",
       "      <th>4</th>\n",
       "      <td>CN(C)C(NCCC/N=C1/SCC(=O)N1)=NC=CC(=O)N(C=O)CC</td>\n",
       "    </tr>\n",
       "  </tbody>\n",
       "</table>\n",
       "</div>"
      ],
      "text/plain": [
       "                       SMILES_From_Tensor_rotation\n",
       "0  C=12N(C)C(NCCC/N=C3/SCC(=O)N3)=NC=1N(C(N2C)=O)C\n",
       "1      C1N(C)C(NCCC/N=C2/SCC(=O)N2)=NCN(C(N1C)=O)C\n",
       "2      C=12N(C)C(SC(=S)N3CCCC3)=NC=1N(C(=O)N2C)C=O\n",
       "3       CN(C1)C(NCC=CCCCN=N)C2=C1C(N(C)C(=O)N2C)=O\n",
       "4    CN(C)C(NCCC/N=C1/SCC(=O)N1)=NC=CC(=O)N(C=O)CC"
      ]
     },
     "execution_count": 7,
     "metadata": {},
     "output_type": "execute_result"
    }
   ],
   "source": [
    "data = data.drop(columns=['Unnamed: 0'])\n",
    "data.head()"
   ]
  },
  {
   "cell_type": "code",
   "execution_count": 8,
   "id": "c73a1970",
   "metadata": {},
   "outputs": [],
   "source": [
    "zeros = [0 for i in range(len(data))]"
   ]
  },
  {
   "cell_type": "code",
   "execution_count": 9,
   "id": "c676086d",
   "metadata": {},
   "outputs": [],
   "source": [
    "data['CID'] = zeros\n",
    "data['PUBCHEM_SMILES'] = zeros"
   ]
  },
  {
   "cell_type": "code",
   "execution_count": 10,
   "id": "4186789f",
   "metadata": {},
   "outputs": [
    {
     "name": "stderr",
     "output_type": "stream",
     "text": [
      "C:\\Users\\aleks\\AppData\\Local\\Temp\\ipykernel_15356\\3164115185.py:5: SettingWithCopyWarning: \n",
      "A value is trying to be set on a copy of a slice from a DataFrame\n",
      "\n",
      "See the caveats in the documentation: https://pandas.pydata.org/pandas-docs/stable/user_guide/indexing.html#returning-a-view-versus-a-copy\n",
      "  data['CID'][i] = compound[0].cid\n",
      "C:\\Users\\aleks\\AppData\\Local\\Temp\\ipykernel_15356\\3164115185.py:6: SettingWithCopyWarning: \n",
      "A value is trying to be set on a copy of a slice from a DataFrame\n",
      "\n",
      "See the caveats in the documentation: https://pandas.pydata.org/pandas-docs/stable/user_guide/indexing.html#returning-a-view-versus-a-copy\n",
      "  data['PUBCHEM_SMILES'][i] = compound[0].canonical_smiles\n"
     ]
    },
    {
     "name": "stdout",
     "output_type": "stream",
     "text": [
      "PUGREST.BadRequest: error:  C1N(C)CN(C)C(SC)=NCN1C=SC\n",
      "PUGREST.BadRequest: error:  O=C1C=C(N=CNCNCC/N=C2\\NC(=O)CS2NC(=O)N(C)C1=O)CC\n",
      "PUGREST.BadRequest: error:  O=C1C=C(N=CNCNCC/N=C2\\NC(=O)CS2NC(=O)N(C1=O)C)CC\n",
      "PUGREST.BadRequest: error:  O=C1C=C(N=CN(CNCC/N=C2\\NC(=O)CS2NC)CN(C)C1=O)OC\n",
      "PUGREST.BadRequest: error:  O=C1C=C(N=CN(CNCC/N=C2\\NC(=O)CS2NC)CN(C1=O)C)OC\n",
      "PUGREST.BadRequest: error:  CN(C)C1=NC=2C(=O)N(C)C(N(C)C=2N1)=SC\n",
      "PUGREST.BadRequest: error:  CN(C)C(S1C=CC=N1)CCCNC(=S)N2CCCC2N\n",
      "PUGREST.BadRequest: error:  CN(C)C(S1C=CC=N1)CCCNC(=S)N2CCCC2\n",
      "PUGREST.BadRequest: error:  CN(C1)C=NCN(C(=O)N1C)C=SC\n",
      "PUGREST.BadRequest: error:  C=1N(C(N(C)CC=1N(C)C(SCC)=NC)=O)OC\n"
     ]
    },
    {
     "name": "stderr",
     "output_type": "stream",
     "text": [
      "C:\\Users\\aleks\\AppData\\Local\\Temp\\ipykernel_15356\\3164115185.py:5: SettingWithCopyWarning: \n",
      "A value is trying to be set on a copy of a slice from a DataFrame\n",
      "\n",
      "See the caveats in the documentation: https://pandas.pydata.org/pandas-docs/stable/user_guide/indexing.html#returning-a-view-versus-a-copy\n",
      "  data['CID'][i] = compound[0].cid\n",
      "C:\\Users\\aleks\\AppData\\Local\\Temp\\ipykernel_15356\\3164115185.py:6: SettingWithCopyWarning: \n",
      "A value is trying to be set on a copy of a slice from a DataFrame\n",
      "\n",
      "See the caveats in the documentation: https://pandas.pydata.org/pandas-docs/stable/user_guide/indexing.html#returning-a-view-versus-a-copy\n",
      "  data['PUBCHEM_SMILES'][i] = compound[0].canonical_smiles\n"
     ]
    },
    {
     "name": "stdout",
     "output_type": "stream",
     "text": [
      "PUGREST.BadRequest: error:  CN(C(=NC=1N(C)C(N(C)C(=O)C=1)=O)CC)NC=O\n"
     ]
    },
    {
     "name": "stderr",
     "output_type": "stream",
     "text": [
      "C:\\Users\\aleks\\AppData\\Local\\Temp\\ipykernel_15356\\3164115185.py:5: SettingWithCopyWarning: \n",
      "A value is trying to be set on a copy of a slice from a DataFrame\n",
      "\n",
      "See the caveats in the documentation: https://pandas.pydata.org/pandas-docs/stable/user_guide/indexing.html#returning-a-view-versus-a-copy\n",
      "  data['CID'][i] = compound[0].cid\n",
      "C:\\Users\\aleks\\AppData\\Local\\Temp\\ipykernel_15356\\3164115185.py:6: SettingWithCopyWarning: \n",
      "A value is trying to be set on a copy of a slice from a DataFrame\n",
      "\n",
      "See the caveats in the documentation: https://pandas.pydata.org/pandas-docs/stable/user_guide/indexing.html#returning-a-view-versus-a-copy\n",
      "  data['PUBCHEM_SMILES'][i] = compound[0].canonical_smiles\n"
     ]
    },
    {
     "name": "stdout",
     "output_type": "stream",
     "text": [
      "PUGREST.BadRequest: error:  C=12N(C(=NC=1N(C(=O)N(C)C2=O)C)NCC=3N=C[NH1])C=3\n"
     ]
    },
    {
     "name": "stderr",
     "output_type": "stream",
     "text": [
      "C:\\Users\\aleks\\AppData\\Local\\Temp\\ipykernel_15356\\3164115185.py:5: SettingWithCopyWarning: \n",
      "A value is trying to be set on a copy of a slice from a DataFrame\n",
      "\n",
      "See the caveats in the documentation: https://pandas.pydata.org/pandas-docs/stable/user_guide/indexing.html#returning-a-view-versus-a-copy\n",
      "  data['CID'][i] = compound[0].cid\n",
      "C:\\Users\\aleks\\AppData\\Local\\Temp\\ipykernel_15356\\3164115185.py:6: SettingWithCopyWarning: \n",
      "A value is trying to be set on a copy of a slice from a DataFrame\n",
      "\n",
      "See the caveats in the documentation: https://pandas.pydata.org/pandas-docs/stable/user_guide/indexing.html#returning-a-view-versus-a-copy\n",
      "  data['PUBCHEM_SMILES'][i] = compound[0].canonical_smiles\n"
     ]
    },
    {
     "name": "stdout",
     "output_type": "stream",
     "text": [
      "PUGREST.BadRequest: error:  C=12N(C(=O)N(C)CC=1N2C(NCCCCN)=N)C=O\n"
     ]
    },
    {
     "name": "stderr",
     "output_type": "stream",
     "text": [
      "C:\\Users\\aleks\\AppData\\Local\\Temp\\ipykernel_15356\\3164115185.py:5: SettingWithCopyWarning: \n",
      "A value is trying to be set on a copy of a slice from a DataFrame\n",
      "\n",
      "See the caveats in the documentation: https://pandas.pydata.org/pandas-docs/stable/user_guide/indexing.html#returning-a-view-versus-a-copy\n",
      "  data['CID'][i] = compound[0].cid\n",
      "C:\\Users\\aleks\\AppData\\Local\\Temp\\ipykernel_15356\\3164115185.py:6: SettingWithCopyWarning: \n",
      "A value is trying to be set on a copy of a slice from a DataFrame\n",
      "\n",
      "See the caveats in the documentation: https://pandas.pydata.org/pandas-docs/stable/user_guide/indexing.html#returning-a-view-versus-a-copy\n",
      "  data['PUBCHEM_SMILES'][i] = compound[0].canonical_smiles\n"
     ]
    },
    {
     "name": "stdout",
     "output_type": "stream",
     "text": [
      "PUGREST.BadRequest: error:  CNCCCN(C)C1=NC2=C(C(N(C(N2C)=O)C)=O)N1C\n"
     ]
    },
    {
     "name": "stderr",
     "output_type": "stream",
     "text": [
      "C:\\Users\\aleks\\AppData\\Local\\Temp\\ipykernel_15356\\3164115185.py:5: SettingWithCopyWarning: \n",
      "A value is trying to be set on a copy of a slice from a DataFrame\n",
      "\n",
      "See the caveats in the documentation: https://pandas.pydata.org/pandas-docs/stable/user_guide/indexing.html#returning-a-view-versus-a-copy\n",
      "  data['CID'][i] = compound[0].cid\n",
      "C:\\Users\\aleks\\AppData\\Local\\Temp\\ipykernel_15356\\3164115185.py:6: SettingWithCopyWarning: \n",
      "A value is trying to be set on a copy of a slice from a DataFrame\n",
      "\n",
      "See the caveats in the documentation: https://pandas.pydata.org/pandas-docs/stable/user_guide/indexing.html#returning-a-view-versus-a-copy\n",
      "  data['PUBCHEM_SMILES'][i] = compound[0].canonical_smiles\n"
     ]
    },
    {
     "name": "stdout",
     "output_type": "stream",
     "text": [
      "PUGREST.BadRequest: error:  O=C1C=C(N=C(SC2=NC3=C(C=CC=C3)N2CC4=CN(CC5=CC=C(CN=[N+1]=[N-1])C=C5)N=N4)C=O)C(N1C)=O\n"
     ]
    },
    {
     "name": "stderr",
     "output_type": "stream",
     "text": [
      "C:\\Users\\aleks\\AppData\\Local\\Temp\\ipykernel_15356\\3164115185.py:5: SettingWithCopyWarning: \n",
      "A value is trying to be set on a copy of a slice from a DataFrame\n",
      "\n",
      "See the caveats in the documentation: https://pandas.pydata.org/pandas-docs/stable/user_guide/indexing.html#returning-a-view-versus-a-copy\n",
      "  data['CID'][i] = compound[0].cid\n",
      "C:\\Users\\aleks\\AppData\\Local\\Temp\\ipykernel_15356\\3164115185.py:6: SettingWithCopyWarning: \n",
      "A value is trying to be set on a copy of a slice from a DataFrame\n",
      "\n",
      "See the caveats in the documentation: https://pandas.pydata.org/pandas-docs/stable/user_guide/indexing.html#returning-a-view-versus-a-copy\n",
      "  data['PUBCHEM_SMILES'][i] = compound[0].canonical_smiles\n"
     ]
    },
    {
     "name": "stdout",
     "output_type": "stream",
     "text": [
      "PUGREST.BadRequest: error:  C=12N(C)C(NCCC/N=C3/SCC(=O)N3)=NC=1N(C(=O)N2C)C\n"
     ]
    },
    {
     "name": "stderr",
     "output_type": "stream",
     "text": [
      "C:\\Users\\aleks\\AppData\\Local\\Temp\\ipykernel_15356\\3164115185.py:5: SettingWithCopyWarning: \n",
      "A value is trying to be set on a copy of a slice from a DataFrame\n",
      "\n",
      "See the caveats in the documentation: https://pandas.pydata.org/pandas-docs/stable/user_guide/indexing.html#returning-a-view-versus-a-copy\n",
      "  data['CID'][i] = compound[0].cid\n",
      "C:\\Users\\aleks\\AppData\\Local\\Temp\\ipykernel_15356\\3164115185.py:6: SettingWithCopyWarning: \n",
      "A value is trying to be set on a copy of a slice from a DataFrame\n",
      "\n",
      "See the caveats in the documentation: https://pandas.pydata.org/pandas-docs/stable/user_guide/indexing.html#returning-a-view-versus-a-copy\n",
      "  data['PUBCHEM_SMILES'][i] = compound[0].canonical_smiles\n"
     ]
    },
    {
     "name": "stdout",
     "output_type": "stream",
     "text": [
      "PUGREST.BadRequest: error:  CN(C)CCN(C1=NC2=C(N1C)N(C)C(N(C)C2=O)=O)C\n"
     ]
    },
    {
     "name": "stderr",
     "output_type": "stream",
     "text": [
      "C:\\Users\\aleks\\AppData\\Local\\Temp\\ipykernel_15356\\3164115185.py:5: SettingWithCopyWarning: \n",
      "A value is trying to be set on a copy of a slice from a DataFrame\n",
      "\n",
      "See the caveats in the documentation: https://pandas.pydata.org/pandas-docs/stable/user_guide/indexing.html#returning-a-view-versus-a-copy\n",
      "  data['CID'][i] = compound[0].cid\n",
      "C:\\Users\\aleks\\AppData\\Local\\Temp\\ipykernel_15356\\3164115185.py:6: SettingWithCopyWarning: \n",
      "A value is trying to be set on a copy of a slice from a DataFrame\n",
      "\n",
      "See the caveats in the documentation: https://pandas.pydata.org/pandas-docs/stable/user_guide/indexing.html#returning-a-view-versus-a-copy\n",
      "  data['PUBCHEM_SMILES'][i] = compound[0].canonical_smiles\n",
      "C:\\Users\\aleks\\AppData\\Local\\Temp\\ipykernel_15356\\3164115185.py:8: SettingWithCopyWarning: \n",
      "A value is trying to be set on a copy of a slice from a DataFrame\n",
      "\n",
      "See the caveats in the documentation: https://pandas.pydata.org/pandas-docs/stable/user_guide/indexing.html#returning-a-view-versus-a-copy\n",
      "  data['CID'][i] = 0\n",
      "C:\\Users\\aleks\\AppData\\Local\\Temp\\ipykernel_15356\\3164115185.py:9: SettingWithCopyWarning: \n",
      "A value is trying to be set on a copy of a slice from a DataFrame\n",
      "\n",
      "See the caveats in the documentation: https://pandas.pydata.org/pandas-docs/stable/user_guide/indexing.html#returning-a-view-versus-a-copy\n",
      "  data['PUBCHEM_SMILES'][i] = 0\n",
      "C:\\Users\\aleks\\AppData\\Local\\Temp\\ipykernel_15356\\3164115185.py:6: SettingWithCopyWarning: \n",
      "A value is trying to be set on a copy of a slice from a DataFrame\n",
      "\n",
      "See the caveats in the documentation: https://pandas.pydata.org/pandas-docs/stable/user_guide/indexing.html#returning-a-view-versus-a-copy\n",
      "  data['PUBCHEM_SMILES'][i] = compound[0].canonical_smiles\n"
     ]
    },
    {
     "name": "stdout",
     "output_type": "stream",
     "text": [
      "PUGREST.BadRequest: error:  O=CC=C(N=C(N(CNCCC/N=C1\\NC(CS1)=O)CC)C=O)C=O\n"
     ]
    },
    {
     "name": "stderr",
     "output_type": "stream",
     "text": [
      "C:\\Users\\aleks\\AppData\\Local\\Temp\\ipykernel_15356\\3164115185.py:5: SettingWithCopyWarning: \n",
      "A value is trying to be set on a copy of a slice from a DataFrame\n",
      "\n",
      "See the caveats in the documentation: https://pandas.pydata.org/pandas-docs/stable/user_guide/indexing.html#returning-a-view-versus-a-copy\n",
      "  data['CID'][i] = compound[0].cid\n",
      "C:\\Users\\aleks\\AppData\\Local\\Temp\\ipykernel_15356\\3164115185.py:6: SettingWithCopyWarning: \n",
      "A value is trying to be set on a copy of a slice from a DataFrame\n",
      "\n",
      "See the caveats in the documentation: https://pandas.pydata.org/pandas-docs/stable/user_guide/indexing.html#returning-a-view-versus-a-copy\n",
      "  data['PUBCHEM_SMILES'][i] = compound[0].canonical_smiles\n",
      "C:\\Users\\aleks\\AppData\\Local\\Temp\\ipykernel_15356\\3164115185.py:8: SettingWithCopyWarning: \n",
      "A value is trying to be set on a copy of a slice from a DataFrame\n",
      "\n",
      "See the caveats in the documentation: https://pandas.pydata.org/pandas-docs/stable/user_guide/indexing.html#returning-a-view-versus-a-copy\n",
      "  data['CID'][i] = 0\n",
      "C:\\Users\\aleks\\AppData\\Local\\Temp\\ipykernel_15356\\3164115185.py:9: SettingWithCopyWarning: \n",
      "A value is trying to be set on a copy of a slice from a DataFrame\n",
      "\n",
      "See the caveats in the documentation: https://pandas.pydata.org/pandas-docs/stable/user_guide/indexing.html#returning-a-view-versus-a-copy\n",
      "  data['PUBCHEM_SMILES'][i] = 0\n",
      "C:\\Users\\aleks\\AppData\\Local\\Temp\\ipykernel_15356\\3164115185.py:6: SettingWithCopyWarning: \n",
      "A value is trying to be set on a copy of a slice from a DataFrame\n",
      "\n",
      "See the caveats in the documentation: https://pandas.pydata.org/pandas-docs/stable/user_guide/indexing.html#returning-a-view-versus-a-copy\n",
      "  data['PUBCHEM_SMILES'][i] = compound[0].canonical_smiles\n"
     ]
    },
    {
     "name": "stdout",
     "output_type": "stream",
     "text": [
      "PUGREST.BadRequest: error:  C1N(C=2)C(SC)=C(NC=2N)CC(N(C1=O)C)=O\n",
      "PUGREST.BadRequest: error:  CN(C=1)C=NC=2C(=O)N(C)C(N(C=2N=1)C)=SC\n"
     ]
    },
    {
     "name": "stderr",
     "output_type": "stream",
     "text": [
      "C:\\Users\\aleks\\AppData\\Local\\Temp\\ipykernel_15356\\3164115185.py:5: SettingWithCopyWarning: \n",
      "A value is trying to be set on a copy of a slice from a DataFrame\n",
      "\n",
      "See the caveats in the documentation: https://pandas.pydata.org/pandas-docs/stable/user_guide/indexing.html#returning-a-view-versus-a-copy\n",
      "  data['CID'][i] = compound[0].cid\n",
      "C:\\Users\\aleks\\AppData\\Local\\Temp\\ipykernel_15356\\3164115185.py:6: SettingWithCopyWarning: \n",
      "A value is trying to be set on a copy of a slice from a DataFrame\n",
      "\n",
      "See the caveats in the documentation: https://pandas.pydata.org/pandas-docs/stable/user_guide/indexing.html#returning-a-view-versus-a-copy\n",
      "  data['PUBCHEM_SMILES'][i] = compound[0].canonical_smiles\n"
     ]
    },
    {
     "name": "stdout",
     "output_type": "stream",
     "text": [
      "PUGREST.BadRequest: error:  CN(C=1)C(NCCCNCCCCNCCCN=N)C=1N(C(NC)=O)C\n"
     ]
    },
    {
     "name": "stderr",
     "output_type": "stream",
     "text": [
      "C:\\Users\\aleks\\AppData\\Local\\Temp\\ipykernel_15356\\3164115185.py:5: SettingWithCopyWarning: \n",
      "A value is trying to be set on a copy of a slice from a DataFrame\n",
      "\n",
      "See the caveats in the documentation: https://pandas.pydata.org/pandas-docs/stable/user_guide/indexing.html#returning-a-view-versus-a-copy\n",
      "  data['CID'][i] = compound[0].cid\n",
      "C:\\Users\\aleks\\AppData\\Local\\Temp\\ipykernel_15356\\3164115185.py:6: SettingWithCopyWarning: \n",
      "A value is trying to be set on a copy of a slice from a DataFrame\n",
      "\n",
      "See the caveats in the documentation: https://pandas.pydata.org/pandas-docs/stable/user_guide/indexing.html#returning-a-view-versus-a-copy\n",
      "  data['PUBCHEM_SMILES'][i] = compound[0].canonical_smiles\n"
     ]
    },
    {
     "name": "stdout",
     "output_type": "stream",
     "text": [
      "PUGREST.BadRequest: error:  CN(C=1)C(SC(=S)N2CCCC2)=NC=1N(C)C(N(C=O)C)=O\n"
     ]
    },
    {
     "name": "stderr",
     "output_type": "stream",
     "text": [
      "C:\\Users\\aleks\\AppData\\Local\\Temp\\ipykernel_15356\\3164115185.py:5: SettingWithCopyWarning: \n",
      "A value is trying to be set on a copy of a slice from a DataFrame\n",
      "\n",
      "See the caveats in the documentation: https://pandas.pydata.org/pandas-docs/stable/user_guide/indexing.html#returning-a-view-versus-a-copy\n",
      "  data['CID'][i] = compound[0].cid\n",
      "C:\\Users\\aleks\\AppData\\Local\\Temp\\ipykernel_15356\\3164115185.py:6: SettingWithCopyWarning: \n",
      "A value is trying to be set on a copy of a slice from a DataFrame\n",
      "\n",
      "See the caveats in the documentation: https://pandas.pydata.org/pandas-docs/stable/user_guide/indexing.html#returning-a-view-versus-a-copy\n",
      "  data['PUBCHEM_SMILES'][i] = compound[0].canonical_smiles\n",
      "C:\\Users\\aleks\\AppData\\Local\\Temp\\ipykernel_15356\\3164115185.py:8: SettingWithCopyWarning: \n",
      "A value is trying to be set on a copy of a slice from a DataFrame\n",
      "\n",
      "See the caveats in the documentation: https://pandas.pydata.org/pandas-docs/stable/user_guide/indexing.html#returning-a-view-versus-a-copy\n",
      "  data['CID'][i] = 0\n",
      "C:\\Users\\aleks\\AppData\\Local\\Temp\\ipykernel_15356\\3164115185.py:9: SettingWithCopyWarning: \n",
      "A value is trying to be set on a copy of a slice from a DataFrame\n",
      "\n",
      "See the caveats in the documentation: https://pandas.pydata.org/pandas-docs/stable/user_guide/indexing.html#returning-a-view-versus-a-copy\n",
      "  data['PUBCHEM_SMILES'][i] = 0\n"
     ]
    },
    {
     "name": "stdout",
     "output_type": "stream",
     "text": [
      "PUGREST.BadRequest: error:  C1N(C)C(SCC(C)C)=NCN(C)C(NC1=SC)=O\n"
     ]
    },
    {
     "name": "stderr",
     "output_type": "stream",
     "text": [
      "C:\\Users\\aleks\\AppData\\Local\\Temp\\ipykernel_15356\\3164115185.py:6: SettingWithCopyWarning: \n",
      "A value is trying to be set on a copy of a slice from a DataFrame\n",
      "\n",
      "See the caveats in the documentation: https://pandas.pydata.org/pandas-docs/stable/user_guide/indexing.html#returning-a-view-versus-a-copy\n",
      "  data['PUBCHEM_SMILES'][i] = compound[0].canonical_smiles\n"
     ]
    },
    {
     "name": "stdout",
     "output_type": "stream",
     "text": [
      "PUGREST.BadRequest: error:  C=1N(C(N(C)C(=O)C=1N(C)C(NCCNCCN)=N)=O)C\n"
     ]
    },
    {
     "name": "stderr",
     "output_type": "stream",
     "text": [
      "C:\\Users\\aleks\\AppData\\Local\\Temp\\ipykernel_15356\\3164115185.py:5: SettingWithCopyWarning: \n",
      "A value is trying to be set on a copy of a slice from a DataFrame\n",
      "\n",
      "See the caveats in the documentation: https://pandas.pydata.org/pandas-docs/stable/user_guide/indexing.html#returning-a-view-versus-a-copy\n",
      "  data['CID'][i] = compound[0].cid\n",
      "C:\\Users\\aleks\\AppData\\Local\\Temp\\ipykernel_15356\\3164115185.py:6: SettingWithCopyWarning: \n",
      "A value is trying to be set on a copy of a slice from a DataFrame\n",
      "\n",
      "See the caveats in the documentation: https://pandas.pydata.org/pandas-docs/stable/user_guide/indexing.html#returning-a-view-versus-a-copy\n",
      "  data['PUBCHEM_SMILES'][i] = compound[0].canonical_smiles\n"
     ]
    },
    {
     "name": "stdout",
     "output_type": "stream",
     "text": [
      "PUGREST.BadRequest: error:  C1N(C(SC2=NC=3N(C)C(=O)N(C)CC=3N2C)=O)SCCC1\n"
     ]
    },
    {
     "name": "stderr",
     "output_type": "stream",
     "text": [
      "C:\\Users\\aleks\\AppData\\Local\\Temp\\ipykernel_15356\\3164115185.py:5: SettingWithCopyWarning: \n",
      "A value is trying to be set on a copy of a slice from a DataFrame\n",
      "\n",
      "See the caveats in the documentation: https://pandas.pydata.org/pandas-docs/stable/user_guide/indexing.html#returning-a-view-versus-a-copy\n",
      "  data['CID'][i] = compound[0].cid\n",
      "C:\\Users\\aleks\\AppData\\Local\\Temp\\ipykernel_15356\\3164115185.py:6: SettingWithCopyWarning: \n",
      "A value is trying to be set on a copy of a slice from a DataFrame\n",
      "\n",
      "See the caveats in the documentation: https://pandas.pydata.org/pandas-docs/stable/user_guide/indexing.html#returning-a-view-versus-a-copy\n",
      "  data['PUBCHEM_SMILES'][i] = compound[0].canonical_smiles\n"
     ]
    },
    {
     "name": "stdout",
     "output_type": "stream",
     "text": [
      "PUGREST.BadRequest: error:  CN(C(N(C)C(=O)N1CN(C)C1NCNCC)N)C=O\n"
     ]
    },
    {
     "name": "stderr",
     "output_type": "stream",
     "text": [
      "C:\\Users\\aleks\\AppData\\Local\\Temp\\ipykernel_15356\\3164115185.py:5: SettingWithCopyWarning: \n",
      "A value is trying to be set on a copy of a slice from a DataFrame\n",
      "\n",
      "See the caveats in the documentation: https://pandas.pydata.org/pandas-docs/stable/user_guide/indexing.html#returning-a-view-versus-a-copy\n",
      "  data['CID'][i] = compound[0].cid\n",
      "C:\\Users\\aleks\\AppData\\Local\\Temp\\ipykernel_15356\\3164115185.py:6: SettingWithCopyWarning: \n",
      "A value is trying to be set on a copy of a slice from a DataFrame\n",
      "\n",
      "See the caveats in the documentation: https://pandas.pydata.org/pandas-docs/stable/user_guide/indexing.html#returning-a-view-versus-a-copy\n",
      "  data['PUBCHEM_SMILES'][i] = compound[0].canonical_smiles\n"
     ]
    },
    {
     "name": "stdout",
     "output_type": "stream",
     "text": [
      "PUGREST.BadRequest: error:  CN(C)CN(C)C(SCCC)=NCNC\n"
     ]
    },
    {
     "name": "stderr",
     "output_type": "stream",
     "text": [
      "C:\\Users\\aleks\\AppData\\Local\\Temp\\ipykernel_15356\\3164115185.py:5: SettingWithCopyWarning: \n",
      "A value is trying to be set on a copy of a slice from a DataFrame\n",
      "\n",
      "See the caveats in the documentation: https://pandas.pydata.org/pandas-docs/stable/user_guide/indexing.html#returning-a-view-versus-a-copy\n",
      "  data['CID'][i] = compound[0].cid\n",
      "C:\\Users\\aleks\\AppData\\Local\\Temp\\ipykernel_15356\\3164115185.py:6: SettingWithCopyWarning: \n",
      "A value is trying to be set on a copy of a slice from a DataFrame\n",
      "\n",
      "See the caveats in the documentation: https://pandas.pydata.org/pandas-docs/stable/user_guide/indexing.html#returning-a-view-versus-a-copy\n",
      "  data['PUBCHEM_SMILES'][i] = compound[0].canonical_smiles\n"
     ]
    },
    {
     "name": "stdout",
     "output_type": "stream",
     "text": [
      "PUGREST.BadRequest: error:  C1N(C)C2(SC=CC2=O)C3=NC=C1N(C)C(=O)N3CC\n"
     ]
    },
    {
     "name": "stderr",
     "output_type": "stream",
     "text": [
      "C:\\Users\\aleks\\AppData\\Local\\Temp\\ipykernel_15356\\3164115185.py:5: SettingWithCopyWarning: \n",
      "A value is trying to be set on a copy of a slice from a DataFrame\n",
      "\n",
      "See the caveats in the documentation: https://pandas.pydata.org/pandas-docs/stable/user_guide/indexing.html#returning-a-view-versus-a-copy\n",
      "  data['CID'][i] = compound[0].cid\n",
      "C:\\Users\\aleks\\AppData\\Local\\Temp\\ipykernel_15356\\3164115185.py:6: SettingWithCopyWarning: \n",
      "A value is trying to be set on a copy of a slice from a DataFrame\n",
      "\n",
      "See the caveats in the documentation: https://pandas.pydata.org/pandas-docs/stable/user_guide/indexing.html#returning-a-view-versus-a-copy\n",
      "  data['PUBCHEM_SMILES'][i] = compound[0].canonical_smiles\n"
     ]
    },
    {
     "name": "stdout",
     "output_type": "stream",
     "text": [
      "PUGREST.BadRequest: error:  CN(C)C1(SC=CC=N1)CC=NC(=O)N(C)CN(C)C=O\n"
     ]
    },
    {
     "name": "stderr",
     "output_type": "stream",
     "text": [
      "C:\\Users\\aleks\\AppData\\Local\\Temp\\ipykernel_15356\\3164115185.py:5: SettingWithCopyWarning: \n",
      "A value is trying to be set on a copy of a slice from a DataFrame\n",
      "\n",
      "See the caveats in the documentation: https://pandas.pydata.org/pandas-docs/stable/user_guide/indexing.html#returning-a-view-versus-a-copy\n",
      "  data['CID'][i] = compound[0].cid\n",
      "C:\\Users\\aleks\\AppData\\Local\\Temp\\ipykernel_15356\\3164115185.py:6: SettingWithCopyWarning: \n",
      "A value is trying to be set on a copy of a slice from a DataFrame\n",
      "\n",
      "See the caveats in the documentation: https://pandas.pydata.org/pandas-docs/stable/user_guide/indexing.html#returning-a-view-versus-a-copy\n",
      "  data['PUBCHEM_SMILES'][i] = compound[0].canonical_smiles\n"
     ]
    },
    {
     "name": "stdout",
     "output_type": "stream",
     "text": [
      "PUGREST.BadRequest: error:  C1N(C)C(NCC=CCCCN=N)CNC(=O)N1CC=O\n"
     ]
    },
    {
     "name": "stderr",
     "output_type": "stream",
     "text": [
      "C:\\Users\\aleks\\AppData\\Local\\Temp\\ipykernel_15356\\3164115185.py:5: SettingWithCopyWarning: \n",
      "A value is trying to be set on a copy of a slice from a DataFrame\n",
      "\n",
      "See the caveats in the documentation: https://pandas.pydata.org/pandas-docs/stable/user_guide/indexing.html#returning-a-view-versus-a-copy\n",
      "  data['CID'][i] = compound[0].cid\n",
      "C:\\Users\\aleks\\AppData\\Local\\Temp\\ipykernel_15356\\3164115185.py:6: SettingWithCopyWarning: \n",
      "A value is trying to be set on a copy of a slice from a DataFrame\n",
      "\n",
      "See the caveats in the documentation: https://pandas.pydata.org/pandas-docs/stable/user_guide/indexing.html#returning-a-view-versus-a-copy\n",
      "  data['PUBCHEM_SMILES'][i] = compound[0].canonical_smiles\n"
     ]
    },
    {
     "name": "stdout",
     "output_type": "stream",
     "text": [
      "PUGREST.BadRequest: error:  C1N(CNC(=O)N(C)CN=C[NH1]C2=C[NH1]C=C2CN1)C=O\n"
     ]
    },
    {
     "name": "stderr",
     "output_type": "stream",
     "text": [
      "C:\\Users\\aleks\\AppData\\Local\\Temp\\ipykernel_15356\\3164115185.py:5: SettingWithCopyWarning: \n",
      "A value is trying to be set on a copy of a slice from a DataFrame\n",
      "\n",
      "See the caveats in the documentation: https://pandas.pydata.org/pandas-docs/stable/user_guide/indexing.html#returning-a-view-versus-a-copy\n",
      "  data['CID'][i] = compound[0].cid\n",
      "C:\\Users\\aleks\\AppData\\Local\\Temp\\ipykernel_15356\\3164115185.py:6: SettingWithCopyWarning: \n",
      "A value is trying to be set on a copy of a slice from a DataFrame\n",
      "\n",
      "See the caveats in the documentation: https://pandas.pydata.org/pandas-docs/stable/user_guide/indexing.html#returning-a-view-versus-a-copy\n",
      "  data['PUBCHEM_SMILES'][i] = compound[0].canonical_smiles\n",
      "C:\\Users\\aleks\\AppData\\Local\\Temp\\ipykernel_15356\\3164115185.py:8: SettingWithCopyWarning: \n",
      "A value is trying to be set on a copy of a slice from a DataFrame\n",
      "\n",
      "See the caveats in the documentation: https://pandas.pydata.org/pandas-docs/stable/user_guide/indexing.html#returning-a-view-versus-a-copy\n",
      "  data['CID'][i] = 0\n",
      "C:\\Users\\aleks\\AppData\\Local\\Temp\\ipykernel_15356\\3164115185.py:9: SettingWithCopyWarning: \n",
      "A value is trying to be set on a copy of a slice from a DataFrame\n",
      "\n",
      "See the caveats in the documentation: https://pandas.pydata.org/pandas-docs/stable/user_guide/indexing.html#returning-a-view-versus-a-copy\n",
      "  data['PUBCHEM_SMILES'][i] = 0\n",
      "C:\\Users\\aleks\\AppData\\Local\\Temp\\ipykernel_15356\\3164115185.py:6: SettingWithCopyWarning: \n",
      "A value is trying to be set on a copy of a slice from a DataFrame\n",
      "\n",
      "See the caveats in the documentation: https://pandas.pydata.org/pandas-docs/stable/user_guide/indexing.html#returning-a-view-versus-a-copy\n",
      "  data['PUBCHEM_SMILES'][i] = compound[0].canonical_smiles\n"
     ]
    },
    {
     "name": "stdout",
     "output_type": "stream",
     "text": [
      "PUGREST.BadRequest: error:  C=12NC(N(C(=O)C=1N(C)C(NCCNCCN)=N2)O)=O\n"
     ]
    },
    {
     "name": "stderr",
     "output_type": "stream",
     "text": [
      "C:\\Users\\aleks\\AppData\\Local\\Temp\\ipykernel_15356\\3164115185.py:5: SettingWithCopyWarning: \n",
      "A value is trying to be set on a copy of a slice from a DataFrame\n",
      "\n",
      "See the caveats in the documentation: https://pandas.pydata.org/pandas-docs/stable/user_guide/indexing.html#returning-a-view-versus-a-copy\n",
      "  data['CID'][i] = compound[0].cid\n",
      "C:\\Users\\aleks\\AppData\\Local\\Temp\\ipykernel_15356\\3164115185.py:6: SettingWithCopyWarning: \n",
      "A value is trying to be set on a copy of a slice from a DataFrame\n",
      "\n",
      "See the caveats in the documentation: https://pandas.pydata.org/pandas-docs/stable/user_guide/indexing.html#returning-a-view-versus-a-copy\n",
      "  data['PUBCHEM_SMILES'][i] = compound[0].canonical_smiles\n"
     ]
    },
    {
     "name": "stdout",
     "output_type": "stream",
     "text": [
      "PUGREST.BadRequest: error:  C1N(C(NC(=O)N(C)CN=C1CCNCCNN)C)C=O\n"
     ]
    },
    {
     "name": "stderr",
     "output_type": "stream",
     "text": [
      "C:\\Users\\aleks\\AppData\\Local\\Temp\\ipykernel_15356\\3164115185.py:5: SettingWithCopyWarning: \n",
      "A value is trying to be set on a copy of a slice from a DataFrame\n",
      "\n",
      "See the caveats in the documentation: https://pandas.pydata.org/pandas-docs/stable/user_guide/indexing.html#returning-a-view-versus-a-copy\n",
      "  data['CID'][i] = compound[0].cid\n",
      "C:\\Users\\aleks\\AppData\\Local\\Temp\\ipykernel_15356\\3164115185.py:6: SettingWithCopyWarning: \n",
      "A value is trying to be set on a copy of a slice from a DataFrame\n",
      "\n",
      "See the caveats in the documentation: https://pandas.pydata.org/pandas-docs/stable/user_guide/indexing.html#returning-a-view-versus-a-copy\n",
      "  data['PUBCHEM_SMILES'][i] = compound[0].canonical_smiles\n"
     ]
    },
    {
     "name": "stdout",
     "output_type": "stream",
     "text": [
      "PUGREST.BadRequest: error:  CN(C)C1=NC=2C(=O)N(C(=O)N(C)C=2N1C)CC\n"
     ]
    },
    {
     "name": "stderr",
     "output_type": "stream",
     "text": [
      "C:\\Users\\aleks\\AppData\\Local\\Temp\\ipykernel_15356\\3164115185.py:5: SettingWithCopyWarning: \n",
      "A value is trying to be set on a copy of a slice from a DataFrame\n",
      "\n",
      "See the caveats in the documentation: https://pandas.pydata.org/pandas-docs/stable/user_guide/indexing.html#returning-a-view-versus-a-copy\n",
      "  data['CID'][i] = compound[0].cid\n",
      "C:\\Users\\aleks\\AppData\\Local\\Temp\\ipykernel_15356\\3164115185.py:6: SettingWithCopyWarning: \n",
      "A value is trying to be set on a copy of a slice from a DataFrame\n",
      "\n",
      "See the caveats in the documentation: https://pandas.pydata.org/pandas-docs/stable/user_guide/indexing.html#returning-a-view-versus-a-copy\n",
      "  data['PUBCHEM_SMILES'][i] = compound[0].canonical_smiles\n"
     ]
    },
    {
     "name": "stdout",
     "output_type": "stream",
     "text": [
      "PUGREST.BadRequest: error:  C=1NC(SC=1NC2=CC=CC=C2N)CC=CN(CC3=CC=CC=C3CN=[N+1]=[N-1])N\n"
     ]
    },
    {
     "name": "stderr",
     "output_type": "stream",
     "text": [
      "C:\\Users\\aleks\\AppData\\Local\\Temp\\ipykernel_15356\\3164115185.py:5: SettingWithCopyWarning: \n",
      "A value is trying to be set on a copy of a slice from a DataFrame\n",
      "\n",
      "See the caveats in the documentation: https://pandas.pydata.org/pandas-docs/stable/user_guide/indexing.html#returning-a-view-versus-a-copy\n",
      "  data['CID'][i] = compound[0].cid\n",
      "C:\\Users\\aleks\\AppData\\Local\\Temp\\ipykernel_15356\\3164115185.py:6: SettingWithCopyWarning: \n",
      "A value is trying to be set on a copy of a slice from a DataFrame\n",
      "\n",
      "See the caveats in the documentation: https://pandas.pydata.org/pandas-docs/stable/user_guide/indexing.html#returning-a-view-versus-a-copy\n",
      "  data['PUBCHEM_SMILES'][i] = compound[0].canonical_smiles\n",
      "C:\\Users\\aleks\\AppData\\Local\\Temp\\ipykernel_15356\\3164115185.py:8: SettingWithCopyWarning: \n",
      "A value is trying to be set on a copy of a slice from a DataFrame\n",
      "\n",
      "See the caveats in the documentation: https://pandas.pydata.org/pandas-docs/stable/user_guide/indexing.html#returning-a-view-versus-a-copy\n",
      "  data['CID'][i] = 0\n",
      "C:\\Users\\aleks\\AppData\\Local\\Temp\\ipykernel_15356\\3164115185.py:9: SettingWithCopyWarning: \n",
      "A value is trying to be set on a copy of a slice from a DataFrame\n",
      "\n",
      "See the caveats in the documentation: https://pandas.pydata.org/pandas-docs/stable/user_guide/indexing.html#returning-a-view-versus-a-copy\n",
      "  data['PUBCHEM_SMILES'][i] = 0\n",
      "C:\\Users\\aleks\\AppData\\Local\\Temp\\ipykernel_15356\\3164115185.py:6: SettingWithCopyWarning: \n",
      "A value is trying to be set on a copy of a slice from a DataFrame\n",
      "\n",
      "See the caveats in the documentation: https://pandas.pydata.org/pandas-docs/stable/user_guide/indexing.html#returning-a-view-versus-a-copy\n",
      "  data['PUBCHEM_SMILES'][i] = compound[0].canonical_smiles\n"
     ]
    },
    {
     "name": "stdout",
     "output_type": "stream",
     "text": [
      "PUGREST.BadRequest: error:  C123N(C)C(NCC=CC1=N2)CN(C)C3=O\n"
     ]
    },
    {
     "name": "stderr",
     "output_type": "stream",
     "text": [
      "C:\\Users\\aleks\\AppData\\Local\\Temp\\ipykernel_15356\\3164115185.py:5: SettingWithCopyWarning: \n",
      "A value is trying to be set on a copy of a slice from a DataFrame\n",
      "\n",
      "See the caveats in the documentation: https://pandas.pydata.org/pandas-docs/stable/user_guide/indexing.html#returning-a-view-versus-a-copy\n",
      "  data['CID'][i] = compound[0].cid\n",
      "C:\\Users\\aleks\\AppData\\Local\\Temp\\ipykernel_15356\\3164115185.py:6: SettingWithCopyWarning: \n",
      "A value is trying to be set on a copy of a slice from a DataFrame\n",
      "\n",
      "See the caveats in the documentation: https://pandas.pydata.org/pandas-docs/stable/user_guide/indexing.html#returning-a-view-versus-a-copy\n",
      "  data['PUBCHEM_SMILES'][i] = compound[0].canonical_smiles\n"
     ]
    },
    {
     "name": "stdout",
     "output_type": "stream",
     "text": [
      "PUGREST.BadRequest: error:  C1N(C2)C1(NCC=CCCCN=N)C(N(C)C(=O)N2C=O)C\n"
     ]
    },
    {
     "name": "stderr",
     "output_type": "stream",
     "text": [
      "C:\\Users\\aleks\\AppData\\Local\\Temp\\ipykernel_15356\\3164115185.py:5: SettingWithCopyWarning: \n",
      "A value is trying to be set on a copy of a slice from a DataFrame\n",
      "\n",
      "See the caveats in the documentation: https://pandas.pydata.org/pandas-docs/stable/user_guide/indexing.html#returning-a-view-versus-a-copy\n",
      "  data['CID'][i] = compound[0].cid\n",
      "C:\\Users\\aleks\\AppData\\Local\\Temp\\ipykernel_15356\\3164115185.py:6: SettingWithCopyWarning: \n",
      "A value is trying to be set on a copy of a slice from a DataFrame\n",
      "\n",
      "See the caveats in the documentation: https://pandas.pydata.org/pandas-docs/stable/user_guide/indexing.html#returning-a-view-versus-a-copy\n",
      "  data['PUBCHEM_SMILES'][i] = compound[0].canonical_smiles\n"
     ]
    },
    {
     "name": "stdout",
     "output_type": "stream",
     "text": [
      "PUGREST.BadRequest: error:  CN(C1)C(NCC=CCCCN=N)C2=C1C(=O)N(C(N2C)=O)C\n"
     ]
    },
    {
     "name": "stderr",
     "output_type": "stream",
     "text": [
      "C:\\Users\\aleks\\AppData\\Local\\Temp\\ipykernel_15356\\3164115185.py:5: SettingWithCopyWarning: \n",
      "A value is trying to be set on a copy of a slice from a DataFrame\n",
      "\n",
      "See the caveats in the documentation: https://pandas.pydata.org/pandas-docs/stable/user_guide/indexing.html#returning-a-view-versus-a-copy\n",
      "  data['CID'][i] = compound[0].cid\n",
      "C:\\Users\\aleks\\AppData\\Local\\Temp\\ipykernel_15356\\3164115185.py:6: SettingWithCopyWarning: \n",
      "A value is trying to be set on a copy of a slice from a DataFrame\n",
      "\n",
      "See the caveats in the documentation: https://pandas.pydata.org/pandas-docs/stable/user_guide/indexing.html#returning-a-view-versus-a-copy\n",
      "  data['PUBCHEM_SMILES'][i] = compound[0].canonical_smiles\n"
     ]
    },
    {
     "name": "stdout",
     "output_type": "stream",
     "text": [
      "PUGREST.BadRequest: error:  C=1N2CN(C)C(=O)C=1N(C(NCCCCNCCCN)=N2)C=O\n"
     ]
    },
    {
     "name": "stderr",
     "output_type": "stream",
     "text": [
      "C:\\Users\\aleks\\AppData\\Local\\Temp\\ipykernel_15356\\3164115185.py:5: SettingWithCopyWarning: \n",
      "A value is trying to be set on a copy of a slice from a DataFrame\n",
      "\n",
      "See the caveats in the documentation: https://pandas.pydata.org/pandas-docs/stable/user_guide/indexing.html#returning-a-view-versus-a-copy\n",
      "  data['CID'][i] = compound[0].cid\n",
      "C:\\Users\\aleks\\AppData\\Local\\Temp\\ipykernel_15356\\3164115185.py:6: SettingWithCopyWarning: \n",
      "A value is trying to be set on a copy of a slice from a DataFrame\n",
      "\n",
      "See the caveats in the documentation: https://pandas.pydata.org/pandas-docs/stable/user_guide/indexing.html#returning-a-view-versus-a-copy\n",
      "  data['PUBCHEM_SMILES'][i] = compound[0].canonical_smiles\n"
     ]
    },
    {
     "name": "stdout",
     "output_type": "stream",
     "text": [
      "PUGREST.BadRequest: error:  C=12N(C(N(C)C(=O)C=1NC(NCCCNCCCNCCCN)=N2)C)OC\n",
      "PUGREST.BadRequest: error:  C=1N(C2(N(C)C(=O)C=1NC(NCCCNCCCNCCCN)=N2)C)OC\n"
     ]
    },
    {
     "name": "stderr",
     "output_type": "stream",
     "text": [
      "C:\\Users\\aleks\\AppData\\Local\\Temp\\ipykernel_15356\\3164115185.py:5: SettingWithCopyWarning: \n",
      "A value is trying to be set on a copy of a slice from a DataFrame\n",
      "\n",
      "See the caveats in the documentation: https://pandas.pydata.org/pandas-docs/stable/user_guide/indexing.html#returning-a-view-versus-a-copy\n",
      "  data['CID'][i] = compound[0].cid\n",
      "C:\\Users\\aleks\\AppData\\Local\\Temp\\ipykernel_15356\\3164115185.py:6: SettingWithCopyWarning: \n",
      "A value is trying to be set on a copy of a slice from a DataFrame\n",
      "\n",
      "See the caveats in the documentation: https://pandas.pydata.org/pandas-docs/stable/user_guide/indexing.html#returning-a-view-versus-a-copy\n",
      "  data['PUBCHEM_SMILES'][i] = compound[0].canonical_smiles\n"
     ]
    }
   ],
   "source": [
    "knowon_l = []\n",
    "for i, smiles in enumerate(data['SMILES_From_Tensor_rotation']):\n",
    "    try:\n",
    "        compound = pcp.get_compounds(smiles, 'smiles')\n",
    "        data['CID'][i] = compound[0].cid\n",
    "        data['PUBCHEM_SMILES'][i] = compound[0].canonical_smiles\n",
    "        if math.isnan(data['CID'][i]):\n",
    "            data['CID'][i] = 0\n",
    "            data['PUBCHEM_SMILES'][i] = 0\n",
    "        else:\n",
    "            pass\n",
    "        knowon_l.append(compound)\n",
    "    except:\n",
    "        print(\"PUGREST.BadRequest: error: \", smiles)"
   ]
  },
  {
   "cell_type": "code",
   "execution_count": 11,
   "id": "2cb6674c",
   "metadata": {},
   "outputs": [
    {
     "data": {
      "text/plain": [
       "[Compound()]"
      ]
     },
     "execution_count": 11,
     "metadata": {},
     "output_type": "execute_result"
    }
   ],
   "source": [
    "pcp.get_compounds(data['SMILES_From_Tensor_rotation'][0], 'smiles')"
   ]
  },
  {
   "cell_type": "code",
   "execution_count": 12,
   "id": "08f11e42",
   "metadata": {},
   "outputs": [
    {
     "data": {
      "text/plain": [
       "[Compound(10899)]"
      ]
     },
     "execution_count": 12,
     "metadata": {},
     "output_type": "execute_result"
    }
   ],
   "source": [
    "pcp.get_compounds('CCCCl', 'smiles')"
   ]
  },
  {
   "cell_type": "code",
   "execution_count": 13,
   "id": "cc4236b6",
   "metadata": {},
   "outputs": [
    {
     "data": {
      "text/plain": [
       "'C=12N(C)C(NCCC/N=C3/SCC(=O)N3)=NC=1N(C(N2C)=O)C'"
      ]
     },
     "execution_count": 13,
     "metadata": {},
     "output_type": "execute_result"
    }
   ],
   "source": [
    "data['SMILES_From_Tensor_rotation'][0]"
   ]
  },
  {
   "cell_type": "code",
   "execution_count": 14,
   "id": "db5588b6",
   "metadata": {},
   "outputs": [
    {
     "data": {
      "text/html": [
       "<div>\n",
       "<style scoped>\n",
       "    .dataframe tbody tr th:only-of-type {\n",
       "        vertical-align: middle;\n",
       "    }\n",
       "\n",
       "    .dataframe tbody tr th {\n",
       "        vertical-align: top;\n",
       "    }\n",
       "\n",
       "    .dataframe thead th {\n",
       "        text-align: right;\n",
       "    }\n",
       "</style>\n",
       "<table border=\"1\" class=\"dataframe\">\n",
       "  <thead>\n",
       "    <tr style=\"text-align: right;\">\n",
       "      <th></th>\n",
       "      <th>SMILES_From_Tensor_rotation</th>\n",
       "      <th>CID</th>\n",
       "      <th>PUBCHEM_SMILES</th>\n",
       "    </tr>\n",
       "  </thead>\n",
       "  <tbody>\n",
       "    <tr>\n",
       "      <th>0</th>\n",
       "      <td>C=12N(C)C(NCCC/N=C3/SCC(=O)N3)=NC=1N(C(N2C)=O)C</td>\n",
       "      <td>0.0</td>\n",
       "      <td>0.0</td>\n",
       "    </tr>\n",
       "    <tr>\n",
       "      <th>1</th>\n",
       "      <td>C1N(C)C(NCCC/N=C2/SCC(=O)N2)=NCN(C(N1C)=O)C</td>\n",
       "      <td>0.0</td>\n",
       "      <td>0.0</td>\n",
       "    </tr>\n",
       "    <tr>\n",
       "      <th>2</th>\n",
       "      <td>C=12N(C)C(SC(=S)N3CCCC3)=NC=1N(C(=O)N2C)C=O</td>\n",
       "      <td>0.0</td>\n",
       "      <td>0.0</td>\n",
       "    </tr>\n",
       "    <tr>\n",
       "      <th>3</th>\n",
       "      <td>CN(C1)C(NCC=CCCCN=N)C2=C1C(N(C)C(=O)N2C)=O</td>\n",
       "      <td>0.0</td>\n",
       "      <td>0.0</td>\n",
       "    </tr>\n",
       "    <tr>\n",
       "      <th>4</th>\n",
       "      <td>CN(C)C(NCCC/N=C1/SCC(=O)N1)=NC=CC(=O)N(C=O)CC</td>\n",
       "      <td>0.0</td>\n",
       "      <td>0.0</td>\n",
       "    </tr>\n",
       "  </tbody>\n",
       "</table>\n",
       "</div>"
      ],
      "text/plain": [
       "                       SMILES_From_Tensor_rotation  CID PUBCHEM_SMILES\n",
       "0  C=12N(C)C(NCCC/N=C3/SCC(=O)N3)=NC=1N(C(N2C)=O)C  0.0            0.0\n",
       "1      C1N(C)C(NCCC/N=C2/SCC(=O)N2)=NCN(C(N1C)=O)C  0.0            0.0\n",
       "2      C=12N(C)C(SC(=S)N3CCCC3)=NC=1N(C(=O)N2C)C=O  0.0            0.0\n",
       "3       CN(C1)C(NCC=CCCCN=N)C2=C1C(N(C)C(=O)N2C)=O  0.0            0.0\n",
       "4    CN(C)C(NCCC/N=C1/SCC(=O)N1)=NC=CC(=O)N(C=O)CC  0.0            0.0"
      ]
     },
     "execution_count": 14,
     "metadata": {},
     "output_type": "execute_result"
    }
   ],
   "source": [
    "data.head()"
   ]
  },
  {
   "cell_type": "code",
   "execution_count": 15,
   "id": "7eccbb29",
   "metadata": {},
   "outputs": [
    {
     "data": {
      "text/plain": [
       "array([0.00000000e+00, 6.71864000e+05, 1.21215968e+08, 1.35379403e+08,\n",
       "       2.57680000e+04, 6.14598000e+05, 8.24638810e+07, 1.05178920e+07,\n",
       "       9.49290000e+04])"
      ]
     },
     "execution_count": 15,
     "metadata": {},
     "output_type": "execute_result"
    }
   ],
   "source": [
    "data.CID.unique()"
   ]
  },
  {
   "cell_type": "code",
   "execution_count": 16,
   "id": "6c07e2ac",
   "metadata": {},
   "outputs": [
    {
     "data": {
      "text/plain": [
       "array([0.0, 'CN1C2=C(N=C1SC3=NC4=CC=CC=C4N3)N(C(=O)N(C2=O)C)C',\n",
       "       'CN1C2=C(C(=O)N(C(=O)N2C)C)N=C1N(C)C',\n",
       "       'CN1C2=C(N=C1SC(=S)N3CCCC3)N(C(=O)N(C2=O)C)C',\n",
       "       'CN1C=NC2=C1C(=S)N(C(=O)N2C)C', 'CN1C=NC2=C1C(=S)N(C(=S)N2C)C',\n",
       "       'CCN1C2=C(N=C1NCCN)N(C(=O)N(C2=O)C)C',\n",
       "       'CN1C2=C(N=C1N(C)CCN(C)C)N(C(=O)N(C2=O)C)C',\n",
       "       'CN1C2=C(N=C1SC)N(C(=O)N(C2=O)C)C'], dtype=object)"
      ]
     },
     "execution_count": 16,
     "metadata": {},
     "output_type": "execute_result"
    }
   ],
   "source": [
    "data.PUBCHEM_SMILES.unique()"
   ]
  },
  {
   "cell_type": "code",
   "execution_count": 17,
   "id": "a982fe37",
   "metadata": {},
   "outputs": [],
   "source": [
    "data.to_excel('../Data/new_structures_caffeine.xlsx')"
   ]
  }
 ],
 "metadata": {
  "kernelspec": {
   "display_name": "Python 3 (ipykernel)",
   "language": "python",
   "name": "python3"
  },
  "language_info": {
   "codemirror_mode": {
    "name": "ipython",
    "version": 3
   },
   "file_extension": ".py",
   "mimetype": "text/x-python",
   "name": "python",
   "nbconvert_exporter": "python",
   "pygments_lexer": "ipython3",
   "version": "3.9.15"
  }
 },
 "nbformat": 4,
 "nbformat_minor": 5
}
