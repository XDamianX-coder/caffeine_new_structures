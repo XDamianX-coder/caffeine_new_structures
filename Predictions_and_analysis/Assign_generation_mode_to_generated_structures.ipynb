{
 "cells": [
  {
   "cell_type": "code",
   "execution_count": 1,
   "id": "21750b1b",
   "metadata": {},
   "outputs": [],
   "source": [
    "import pandas as pd\n",
    "from rdkit import Chem\n",
    "from rdkit.DataStructs.cDataStructs import TanimotoSimilarity"
   ]
  },
  {
   "cell_type": "code",
   "execution_count": 2,
   "id": "7f6cdf61",
   "metadata": {},
   "outputs": [],
   "source": [
    "tensero_noise_0_1 = pd.read_excel('../Data/Molecules_generated_tensor_scaling_0_1.xlsx')"
   ]
  },
  {
   "cell_type": "code",
   "execution_count": 3,
   "id": "ff2f54cf",
   "metadata": {},
   "outputs": [],
   "source": [
    "tensero_noise_0_1 = tensero_noise_0_1['SMILES_From_Tensor_rotation']"
   ]
  },
  {
   "cell_type": "code",
   "execution_count": 4,
   "id": "9204fc47",
   "metadata": {},
   "outputs": [],
   "source": [
    "tensero_noise_0_1_new_smils = []\n",
    "for smiles in tensero_noise_0_1:\n",
    "    canon = Chem.MolToSmiles(Chem.MolFromSmiles(smiles), canonical=True, isomericSmiles=False)\n",
    "    tensero_noise_0_1_new_smils.append(canon)\n",
    "tensero_noise_0_1_new_smils = list(set(tensero_noise_0_1_new_smils))"
   ]
  },
  {
   "cell_type": "code",
   "execution_count": 5,
   "id": "0508af87",
   "metadata": {},
   "outputs": [],
   "source": [
    "tensero_noise_0_2 = pd.read_excel('../Data/Molecules_generated_tensor_scaling_0_2.xlsx')"
   ]
  },
  {
   "cell_type": "code",
   "execution_count": 6,
   "id": "07666803",
   "metadata": {},
   "outputs": [],
   "source": [
    "tensero_noise_0_2 = tensero_noise_0_2['SMILES_From_Tensor_rotation']"
   ]
  },
  {
   "cell_type": "code",
   "execution_count": 7,
   "id": "c7519348",
   "metadata": {},
   "outputs": [],
   "source": [
    "tensero_noise_0_2_new_smils = []\n",
    "for smiles in tensero_noise_0_2:\n",
    "    canon = Chem.MolToSmiles(Chem.MolFromSmiles(smiles), canonical=True, isomericSmiles=False)\n",
    "    tensero_noise_0_2_new_smils.append(canon)\n",
    "tensero_noise_0_2_new_smils = list(set(tensero_noise_0_2_new_smils))"
   ]
  },
  {
   "cell_type": "code",
   "execution_count": 8,
   "id": "d1cf7dc8",
   "metadata": {},
   "outputs": [],
   "source": [
    "generated_structures = pd.read_excel('../Data/Proposed_structures_with_AI_caffeine_tanimoto_similarity_.xlsx')"
   ]
  },
  {
   "cell_type": "code",
   "execution_count": 9,
   "id": "14232ba2",
   "metadata": {},
   "outputs": [
    {
     "data": {
      "text/html": [
       "<div>\n",
       "<style scoped>\n",
       "    .dataframe tbody tr th:only-of-type {\n",
       "        vertical-align: middle;\n",
       "    }\n",
       "\n",
       "    .dataframe tbody tr th {\n",
       "        vertical-align: top;\n",
       "    }\n",
       "\n",
       "    .dataframe thead th {\n",
       "        text-align: right;\n",
       "    }\n",
       "</style>\n",
       "<table border=\"1\" class=\"dataframe\">\n",
       "  <thead>\n",
       "    <tr style=\"text-align: right;\">\n",
       "      <th></th>\n",
       "      <th>num</th>\n",
       "      <th>new_SMILES</th>\n",
       "      <th>CID</th>\n",
       "      <th>PUBCHEM_SMILES</th>\n",
       "      <th>S=C1N(CC2=CNC3=CC=CC=C32)C(C=CC=C4)=C4S1</th>\n",
       "      <th>OCC1=CN(C(C)=O)C2=CC=CC=C21</th>\n",
       "      <th>CCCOCC1=CNC2=CC=CC=C21</th>\n",
       "      <th>S=C1N(CC2=CNC3=CC=CC=C32)C(C=CC=C4)=C4O1</th>\n",
       "      <th>O=C(C(C=CC=C1)=C1C2=O)N2CCCCCCCCN3N=NC(COCC4=CNC5=C4C=CC=C5)=C3</th>\n",
       "      <th>O=C(C)N(C1=C2C=CC=C1)C=C2CN3N=NC(CN4C=C(COCC)C5=C4C=CC=C5)=C3</th>\n",
       "      <th>...</th>\n",
       "      <th>C12=CC=CC=C1C(CN3C(C=CC=C4)=C4N=C3)=CN2</th>\n",
       "      <th>C12=CC=CC=C1NC=C2COCC3=CN(CCCN4N=NC(COCC5=CNC6=C5C=CC=C6)=C4)N=N3</th>\n",
       "      <th>C12=CC=CC=C1NC=C2COCC3=CN(CCCCCCCCN4N=NC(COCC5=CNC6=C5C=CC=C6)=C4)N=N3</th>\n",
       "      <th>CC(C)CCOCC1=CNC2=CC=CC=C21</th>\n",
       "      <th>O=C(C)N(C1=C2C=CC=C1)C=C2CN3N=NC(COCC4=CNC5=C4C=CC=C5)=C3</th>\n",
       "      <th>O=C(C=C1C)N(CC2=CNC3=C2C=CC=C3)C(N1CC4=CNC5=CC=CC=C54)=O</th>\n",
       "      <th>CC(C)C1=NC=CN1CC2=CNC3=CC=CC=C32</th>\n",
       "      <th>S=C(N1CCCC1)SCC2=CNC3=CC=CC=C32</th>\n",
       "      <th>O=C(C)OCC1=CN(C(C)=O)C2=CC=CC=C21</th>\n",
       "      <th>O=C(C(C)=C1)N(CC2=CNC3=C2C=CC=C3)C(N1CC4=CNC5=CC=CC=C54)=O</th>\n",
       "    </tr>\n",
       "  </thead>\n",
       "  <tbody>\n",
       "    <tr>\n",
       "      <th>0</th>\n",
       "      <td>800</td>\n",
       "      <td>CCOCc1cn(C(C)=O)c2ccccc12</td>\n",
       "      <td>0</td>\n",
       "      <td>0</td>\n",
       "      <td>0.377460</td>\n",
       "      <td>0.905405</td>\n",
       "      <td>0.580265</td>\n",
       "      <td>0.371908</td>\n",
       "      <td>0.423519</td>\n",
       "      <td>0.608534</td>\n",
       "      <td>...</td>\n",
       "      <td>0.392781</td>\n",
       "      <td>0.499429</td>\n",
       "      <td>0.484270</td>\n",
       "      <td>0.575145</td>\n",
       "      <td>0.609284</td>\n",
       "      <td>0.360415</td>\n",
       "      <td>0.365828</td>\n",
       "      <td>0.364679</td>\n",
       "      <td>0.954155</td>\n",
       "      <td>0.368087</td>\n",
       "    </tr>\n",
       "    <tr>\n",
       "      <th>1</th>\n",
       "      <td>194</td>\n",
       "      <td>CC(=O)n1cc(COc2ccccc2)c2ccccc21</td>\n",
       "      <td>0</td>\n",
       "      <td>0</td>\n",
       "      <td>0.383609</td>\n",
       "      <td>0.845722</td>\n",
       "      <td>0.447028</td>\n",
       "      <td>0.378122</td>\n",
       "      <td>0.392437</td>\n",
       "      <td>0.541991</td>\n",
       "      <td>...</td>\n",
       "      <td>0.385321</td>\n",
       "      <td>0.427521</td>\n",
       "      <td>0.420561</td>\n",
       "      <td>0.442893</td>\n",
       "      <td>0.558288</td>\n",
       "      <td>0.359899</td>\n",
       "      <td>0.358149</td>\n",
       "      <td>0.360836</td>\n",
       "      <td>0.761548</td>\n",
       "      <td>0.367311</td>\n",
       "    </tr>\n",
       "    <tr>\n",
       "      <th>2</th>\n",
       "      <td>130</td>\n",
       "      <td>C=C(C)n1cc(CO)c2ccccc21</td>\n",
       "      <td>0</td>\n",
       "      <td>0</td>\n",
       "      <td>0.364305</td>\n",
       "      <td>0.756522</td>\n",
       "      <td>0.507418</td>\n",
       "      <td>0.373737</td>\n",
       "      <td>0.390331</td>\n",
       "      <td>0.497321</td>\n",
       "      <td>...</td>\n",
       "      <td>0.402235</td>\n",
       "      <td>0.461001</td>\n",
       "      <td>0.442922</td>\n",
       "      <td>0.501453</td>\n",
       "      <td>0.500467</td>\n",
       "      <td>0.361759</td>\n",
       "      <td>0.379845</td>\n",
       "      <td>0.385086</td>\n",
       "      <td>0.677792</td>\n",
       "      <td>0.364662</td>\n",
       "    </tr>\n",
       "    <tr>\n",
       "      <th>3</th>\n",
       "      <td>319</td>\n",
       "      <td>CC(=O)n1cc(CCO)c2ccccc21</td>\n",
       "      <td>12375983</td>\n",
       "      <td>CC(=O)N1C=C(C2=CC=CC=C21)CCO</td>\n",
       "      <td>0.388738</td>\n",
       "      <td>0.732782</td>\n",
       "      <td>0.399209</td>\n",
       "      <td>0.360989</td>\n",
       "      <td>0.374893</td>\n",
       "      <td>0.502180</td>\n",
       "      <td>...</td>\n",
       "      <td>0.389957</td>\n",
       "      <td>0.395923</td>\n",
       "      <td>0.386243</td>\n",
       "      <td>0.397668</td>\n",
       "      <td>0.529140</td>\n",
       "      <td>0.345095</td>\n",
       "      <td>0.361433</td>\n",
       "      <td>0.370930</td>\n",
       "      <td>0.672435</td>\n",
       "      <td>0.359347</td>\n",
       "    </tr>\n",
       "    <tr>\n",
       "      <th>4</th>\n",
       "      <td>454</td>\n",
       "      <td>c1ccc2c(c1)c1cn2CCCCOC1</td>\n",
       "      <td>0</td>\n",
       "      <td>0</td>\n",
       "      <td>0.366667</td>\n",
       "      <td>0.728155</td>\n",
       "      <td>0.632970</td>\n",
       "      <td>0.380866</td>\n",
       "      <td>0.436199</td>\n",
       "      <td>0.530411</td>\n",
       "      <td>...</td>\n",
       "      <td>0.392009</td>\n",
       "      <td>0.514689</td>\n",
       "      <td>0.514586</td>\n",
       "      <td>0.641538</td>\n",
       "      <td>0.532213</td>\n",
       "      <td>0.355769</td>\n",
       "      <td>0.368984</td>\n",
       "      <td>0.379433</td>\n",
       "      <td>0.776159</td>\n",
       "      <td>0.364555</td>\n",
       "    </tr>\n",
       "  </tbody>\n",
       "</table>\n",
       "<p>5 rows × 48 columns</p>\n",
       "</div>"
      ],
      "text/plain": [
       "   num                       new_SMILES       CID  \\\n",
       "0  800        CCOCc1cn(C(C)=O)c2ccccc12         0   \n",
       "1  194  CC(=O)n1cc(COc2ccccc2)c2ccccc21         0   \n",
       "2  130          C=C(C)n1cc(CO)c2ccccc21         0   \n",
       "3  319         CC(=O)n1cc(CCO)c2ccccc21  12375983   \n",
       "4  454          c1ccc2c(c1)c1cn2CCCCOC1         0   \n",
       "\n",
       "                 PUBCHEM_SMILES  S=C1N(CC2=CNC3=CC=CC=C32)C(C=CC=C4)=C4S1  \\\n",
       "0                             0                                  0.377460   \n",
       "1                             0                                  0.383609   \n",
       "2                             0                                  0.364305   \n",
       "3  CC(=O)N1C=C(C2=CC=CC=C21)CCO                                  0.388738   \n",
       "4                             0                                  0.366667   \n",
       "\n",
       "   OCC1=CN(C(C)=O)C2=CC=CC=C21  CCCOCC1=CNC2=CC=CC=C21  \\\n",
       "0                     0.905405                0.580265   \n",
       "1                     0.845722                0.447028   \n",
       "2                     0.756522                0.507418   \n",
       "3                     0.732782                0.399209   \n",
       "4                     0.728155                0.632970   \n",
       "\n",
       "   S=C1N(CC2=CNC3=CC=CC=C32)C(C=CC=C4)=C4O1  \\\n",
       "0                                  0.371908   \n",
       "1                                  0.378122   \n",
       "2                                  0.373737   \n",
       "3                                  0.360989   \n",
       "4                                  0.380866   \n",
       "\n",
       "   O=C(C(C=CC=C1)=C1C2=O)N2CCCCCCCCN3N=NC(COCC4=CNC5=C4C=CC=C5)=C3  \\\n",
       "0                                           0.423519                 \n",
       "1                                           0.392437                 \n",
       "2                                           0.390331                 \n",
       "3                                           0.374893                 \n",
       "4                                           0.436199                 \n",
       "\n",
       "   O=C(C)N(C1=C2C=CC=C1)C=C2CN3N=NC(CN4C=C(COCC)C5=C4C=CC=C5)=C3  ...  \\\n",
       "0                                           0.608534              ...   \n",
       "1                                           0.541991              ...   \n",
       "2                                           0.497321              ...   \n",
       "3                                           0.502180              ...   \n",
       "4                                           0.530411              ...   \n",
       "\n",
       "   C12=CC=CC=C1C(CN3C(C=CC=C4)=C4N=C3)=CN2  \\\n",
       "0                                 0.392781   \n",
       "1                                 0.385321   \n",
       "2                                 0.402235   \n",
       "3                                 0.389957   \n",
       "4                                 0.392009   \n",
       "\n",
       "   C12=CC=CC=C1NC=C2COCC3=CN(CCCN4N=NC(COCC5=CNC6=C5C=CC=C6)=C4)N=N3  \\\n",
       "0                                           0.499429                   \n",
       "1                                           0.427521                   \n",
       "2                                           0.461001                   \n",
       "3                                           0.395923                   \n",
       "4                                           0.514689                   \n",
       "\n",
       "   C12=CC=CC=C1NC=C2COCC3=CN(CCCCCCCCN4N=NC(COCC5=CNC6=C5C=CC=C6)=C4)N=N3  \\\n",
       "0                                           0.484270                        \n",
       "1                                           0.420561                        \n",
       "2                                           0.442922                        \n",
       "3                                           0.386243                        \n",
       "4                                           0.514586                        \n",
       "\n",
       "   CC(C)CCOCC1=CNC2=CC=CC=C21  \\\n",
       "0                    0.575145   \n",
       "1                    0.442893   \n",
       "2                    0.501453   \n",
       "3                    0.397668   \n",
       "4                    0.641538   \n",
       "\n",
       "   O=C(C)N(C1=C2C=CC=C1)C=C2CN3N=NC(COCC4=CNC5=C4C=CC=C5)=C3  \\\n",
       "0                                           0.609284           \n",
       "1                                           0.558288           \n",
       "2                                           0.500467           \n",
       "3                                           0.529140           \n",
       "4                                           0.532213           \n",
       "\n",
       "   O=C(C=C1C)N(CC2=CNC3=C2C=CC=C3)C(N1CC4=CNC5=CC=CC=C54)=O  \\\n",
       "0                                           0.360415          \n",
       "1                                           0.359899          \n",
       "2                                           0.361759          \n",
       "3                                           0.345095          \n",
       "4                                           0.355769          \n",
       "\n",
       "   CC(C)C1=NC=CN1CC2=CNC3=CC=CC=C32  S=C(N1CCCC1)SCC2=CNC3=CC=CC=C32  \\\n",
       "0                          0.365828                         0.364679   \n",
       "1                          0.358149                         0.360836   \n",
       "2                          0.379845                         0.385086   \n",
       "3                          0.361433                         0.370930   \n",
       "4                          0.368984                         0.379433   \n",
       "\n",
       "   O=C(C)OCC1=CN(C(C)=O)C2=CC=CC=C21  \\\n",
       "0                           0.954155   \n",
       "1                           0.761548   \n",
       "2                           0.677792   \n",
       "3                           0.672435   \n",
       "4                           0.776159   \n",
       "\n",
       "   O=C(C(C)=C1)N(CC2=CNC3=C2C=CC=C3)C(N1CC4=CNC5=CC=CC=C54)=O  \n",
       "0                                           0.368087           \n",
       "1                                           0.367311           \n",
       "2                                           0.364662           \n",
       "3                                           0.359347           \n",
       "4                                           0.364555           \n",
       "\n",
       "[5 rows x 48 columns]"
      ]
     },
     "execution_count": 9,
     "metadata": {},
     "output_type": "execute_result"
    }
   ],
   "source": [
    "generated_structures.head()"
   ]
  },
  {
   "cell_type": "code",
   "execution_count": 10,
   "id": "2f3dc2e6",
   "metadata": {},
   "outputs": [],
   "source": [
    "generated_structures = generated_structures['new_SMILES']"
   ]
  },
  {
   "cell_type": "code",
   "execution_count": 11,
   "id": "63f205ce",
   "metadata": {},
   "outputs": [
    {
     "data": {
      "text/plain": [
       "0          CCOCc1cn(C(C)=O)c2ccccc12\n",
       "1    CC(=O)n1cc(COc2ccccc2)c2ccccc21\n",
       "2            C=C(C)n1cc(CO)c2ccccc21\n",
       "Name: new_SMILES, dtype: object"
      ]
     },
     "execution_count": 11,
     "metadata": {},
     "output_type": "execute_result"
    }
   ],
   "source": [
    "generated_structures[:3]"
   ]
  },
  {
   "cell_type": "code",
   "execution_count": 12,
   "id": "037acc0f",
   "metadata": {},
   "outputs": [],
   "source": [
    "df = pd.DataFrame(data=list(generated_structures), columns=['Generated_SMILES'])\n",
    "df['Noise_0.1'] = 0\n",
    "df['Noise_0.2'] = 0\n",
    "df['Related_SMILES_from_raw_generation'] = 0\n",
    "df['Tanimoto_sim_structures_from_raw_data'] = 0"
   ]
  },
  {
   "cell_type": "code",
   "execution_count": 13,
   "id": "6b04b946",
   "metadata": {},
   "outputs": [
    {
     "name": "stderr",
     "output_type": "stream",
     "text": [
      "C:\\Users\\aleks\\AppData\\Local\\Temp\\ipykernel_6452\\1740226095.py:16: SettingWithCopyWarning: \n",
      "A value is trying to be set on a copy of a slice from a DataFrame\n",
      "\n",
      "See the caveats in the documentation: https://pandas.pydata.org/pandas-docs/stable/user_guide/indexing.html#returning-a-view-versus-a-copy\n",
      "  df['Noise_0.2'][r] = 1\n",
      "C:\\Users\\aleks\\AppData\\Local\\Temp\\ipykernel_6452\\1740226095.py:17: SettingWithCopyWarning: \n",
      "A value is trying to be set on a copy of a slice from a DataFrame\n",
      "\n",
      "See the caveats in the documentation: https://pandas.pydata.org/pandas-docs/stable/user_guide/indexing.html#returning-a-view-versus-a-copy\n",
      "  df['Related_SMILES_from_raw_generation'][r] = element\n",
      "C:\\Users\\aleks\\AppData\\Local\\Temp\\ipykernel_6452\\1740226095.py:7: SettingWithCopyWarning: \n",
      "A value is trying to be set on a copy of a slice from a DataFrame\n",
      "\n",
      "See the caveats in the documentation: https://pandas.pydata.org/pandas-docs/stable/user_guide/indexing.html#returning-a-view-versus-a-copy\n",
      "  df['Noise_0.1'][r] = 1\n"
     ]
    }
   ],
   "source": [
    "for r, m in enumerate(df['Generated_SMILES']):\n",
    "    #fingerprint_ = Chem.RDKFingerprint(Chem.MolFromSmiles(m))\n",
    "    for i, element in enumerate(tensero_noise_0_1_new_smils):\n",
    "        #fingerprint_gen_str = Chem.RDKFingerprint(Chem.MolFromSmiles(element))\n",
    "        #sim = TanimotoSimilarity(fingerprint_, fingerprint_gen_str)\n",
    "        if element == m:\n",
    "            df['Noise_0.1'][r] = 1\n",
    "            df['Related_SMILES_from_raw_generation'][r] = element\n",
    "            #df['Tanimoto_sim'][r] = sim\n",
    "        else:\n",
    "            pass\n",
    "    for i, element in enumerate(tensero_noise_0_2_new_smils):\n",
    "        #fingerprint_gen_str = Chem.RDKFingerprint(Chem.MolFromSmiles(element))\n",
    "        #sim = TanimotoSimilarity(fingerprint_, fingerprint_gen_str)\n",
    "        if element == m:\n",
    "            df['Noise_0.2'][r] = 1\n",
    "            df['Related_SMILES_from_raw_generation'][r] = element\n",
    "            #df['Tanimoto_sim'][r] = sim\n",
    "        else:\n",
    "            pass"
   ]
  },
  {
   "cell_type": "code",
   "execution_count": 14,
   "id": "88befb8e",
   "metadata": {},
   "outputs": [
    {
     "data": {
      "text/html": [
       "<div>\n",
       "<style scoped>\n",
       "    .dataframe tbody tr th:only-of-type {\n",
       "        vertical-align: middle;\n",
       "    }\n",
       "\n",
       "    .dataframe tbody tr th {\n",
       "        vertical-align: top;\n",
       "    }\n",
       "\n",
       "    .dataframe thead th {\n",
       "        text-align: right;\n",
       "    }\n",
       "</style>\n",
       "<table border=\"1\" class=\"dataframe\">\n",
       "  <thead>\n",
       "    <tr style=\"text-align: right;\">\n",
       "      <th></th>\n",
       "      <th>Generated_SMILES</th>\n",
       "      <th>Noise_0.1</th>\n",
       "      <th>Noise_0.2</th>\n",
       "      <th>Related_SMILES_from_raw_generation</th>\n",
       "      <th>Tanimoto_sim_structures_from_raw_data</th>\n",
       "    </tr>\n",
       "  </thead>\n",
       "  <tbody>\n",
       "    <tr>\n",
       "      <th>0</th>\n",
       "      <td>CCOCc1cn(C(C)=O)c2ccccc12</td>\n",
       "      <td>0</td>\n",
       "      <td>1</td>\n",
       "      <td>CCOCc1cn(C(C)=O)c2ccccc12</td>\n",
       "      <td>0</td>\n",
       "    </tr>\n",
       "    <tr>\n",
       "      <th>1</th>\n",
       "      <td>CC(=O)n1cc(COc2ccccc2)c2ccccc21</td>\n",
       "      <td>0</td>\n",
       "      <td>1</td>\n",
       "      <td>CC(=O)n1cc(COc2ccccc2)c2ccccc21</td>\n",
       "      <td>0</td>\n",
       "    </tr>\n",
       "    <tr>\n",
       "      <th>2</th>\n",
       "      <td>C=C(C)n1cc(CO)c2ccccc21</td>\n",
       "      <td>1</td>\n",
       "      <td>1</td>\n",
       "      <td>C=C(C)n1cc(CO)c2ccccc21</td>\n",
       "      <td>0</td>\n",
       "    </tr>\n",
       "    <tr>\n",
       "      <th>3</th>\n",
       "      <td>CC(=O)n1cc(CCO)c2ccccc21</td>\n",
       "      <td>0</td>\n",
       "      <td>1</td>\n",
       "      <td>CC(=O)n1cc(CCO)c2ccccc21</td>\n",
       "      <td>0</td>\n",
       "    </tr>\n",
       "    <tr>\n",
       "      <th>4</th>\n",
       "      <td>c1ccc2c(c1)c1cn2CCCCOC1</td>\n",
       "      <td>1</td>\n",
       "      <td>0</td>\n",
       "      <td>c1ccc2c(c1)c1cn2CCCCOC1</td>\n",
       "      <td>0</td>\n",
       "    </tr>\n",
       "  </tbody>\n",
       "</table>\n",
       "</div>"
      ],
      "text/plain": [
       "                  Generated_SMILES  Noise_0.1  Noise_0.2  \\\n",
       "0        CCOCc1cn(C(C)=O)c2ccccc12          0          1   \n",
       "1  CC(=O)n1cc(COc2ccccc2)c2ccccc21          0          1   \n",
       "2          C=C(C)n1cc(CO)c2ccccc21          1          1   \n",
       "3         CC(=O)n1cc(CCO)c2ccccc21          0          1   \n",
       "4          c1ccc2c(c1)c1cn2CCCCOC1          1          0   \n",
       "\n",
       "  Related_SMILES_from_raw_generation  Tanimoto_sim_structures_from_raw_data  \n",
       "0          CCOCc1cn(C(C)=O)c2ccccc12                                      0  \n",
       "1    CC(=O)n1cc(COc2ccccc2)c2ccccc21                                      0  \n",
       "2            C=C(C)n1cc(CO)c2ccccc21                                      0  \n",
       "3           CC(=O)n1cc(CCO)c2ccccc21                                      0  \n",
       "4            c1ccc2c(c1)c1cn2CCCCOC1                                      0  "
      ]
     },
     "execution_count": 14,
     "metadata": {},
     "output_type": "execute_result"
    }
   ],
   "source": [
    "df.head()"
   ]
  },
  {
   "cell_type": "code",
   "execution_count": 15,
   "id": "cec33a88",
   "metadata": {},
   "outputs": [
    {
     "name": "stderr",
     "output_type": "stream",
     "text": [
      "C:\\Users\\aleks\\AppData\\Local\\Temp\\ipykernel_6452\\2574084956.py:14: SettingWithCopyWarning: \n",
      "A value is trying to be set on a copy of a slice from a DataFrame\n",
      "\n",
      "See the caveats in the documentation: https://pandas.pydata.org/pandas-docs/stable/user_guide/indexing.html#returning-a-view-versus-a-copy\n",
      "  df['Tanimoto_sim_structures_from_raw_data'][i] = element\n"
     ]
    }
   ],
   "source": [
    "for i, smile in enumerate(df['Related_SMILES_from_raw_generation']):\n",
    "    fingerprint_ = Chem.RDKFingerprint(Chem.MolFromSmiles(smile))\n",
    "    for element in tensero_noise_0_1:\n",
    "        fingerprint_gen_str = Chem.RDKFingerprint(Chem.MolFromSmiles(element))\n",
    "        sim = TanimotoSimilarity(fingerprint_, fingerprint_gen_str)\n",
    "        if sim > 0.98:\n",
    "            df['Tanimoto_sim_structures_from_raw_data'][i] = element\n",
    "        else:\n",
    "            pass\n",
    "    for element in tensero_noise_0_2:\n",
    "        fingerprint_gen_str = Chem.RDKFingerprint(Chem.MolFromSmiles(element))\n",
    "        sim = TanimotoSimilarity(fingerprint_, fingerprint_gen_str)\n",
    "        if sim > 0.98:\n",
    "            df['Tanimoto_sim_structures_from_raw_data'][i] = element\n",
    "        else:\n",
    "            pass"
   ]
  },
  {
   "cell_type": "code",
   "execution_count": 16,
   "id": "0a2e5a70",
   "metadata": {},
   "outputs": [
    {
     "data": {
      "text/html": [
       "<div>\n",
       "<style scoped>\n",
       "    .dataframe tbody tr th:only-of-type {\n",
       "        vertical-align: middle;\n",
       "    }\n",
       "\n",
       "    .dataframe tbody tr th {\n",
       "        vertical-align: top;\n",
       "    }\n",
       "\n",
       "    .dataframe thead th {\n",
       "        text-align: right;\n",
       "    }\n",
       "</style>\n",
       "<table border=\"1\" class=\"dataframe\">\n",
       "  <thead>\n",
       "    <tr style=\"text-align: right;\">\n",
       "      <th></th>\n",
       "      <th>Generated_SMILES</th>\n",
       "      <th>Noise_0.1</th>\n",
       "      <th>Noise_0.2</th>\n",
       "      <th>Related_SMILES_from_raw_generation</th>\n",
       "      <th>Tanimoto_sim_structures_from_raw_data</th>\n",
       "    </tr>\n",
       "  </thead>\n",
       "  <tbody>\n",
       "    <tr>\n",
       "      <th>0</th>\n",
       "      <td>CCOCc1cn(C(C)=O)c2ccccc12</td>\n",
       "      <td>0</td>\n",
       "      <td>1</td>\n",
       "      <td>CCOCc1cn(C(C)=O)c2ccccc12</td>\n",
       "      <td>CCOCC1=CN(C2=CC=CC=C21)C(=O)C</td>\n",
       "    </tr>\n",
       "    <tr>\n",
       "      <th>1</th>\n",
       "      <td>CC(=O)n1cc(COc2ccccc2)c2ccccc21</td>\n",
       "      <td>0</td>\n",
       "      <td>1</td>\n",
       "      <td>CC(=O)n1cc(COc2ccccc2)c2ccccc21</td>\n",
       "      <td>C=12N(C(C)=O)C=C(C=1C=CC=C2)COC3=CC=CC=C3</td>\n",
       "    </tr>\n",
       "    <tr>\n",
       "      <th>2</th>\n",
       "      <td>C=C(C)n1cc(CO)c2ccccc21</td>\n",
       "      <td>1</td>\n",
       "      <td>1</td>\n",
       "      <td>C=C(C)n1cc(CO)c2ccccc21</td>\n",
       "      <td>OCC1=CN(C(C)=C)C2=C1C=CC=C2</td>\n",
       "    </tr>\n",
       "    <tr>\n",
       "      <th>3</th>\n",
       "      <td>CC(=O)n1cc(CCO)c2ccccc21</td>\n",
       "      <td>0</td>\n",
       "      <td>1</td>\n",
       "      <td>CC(=O)n1cc(CCO)c2ccccc21</td>\n",
       "      <td>OCCC1=CN(C(C)=O)C2=CC=CC=C21</td>\n",
       "    </tr>\n",
       "    <tr>\n",
       "      <th>4</th>\n",
       "      <td>c1ccc2c(c1)c1cn2CCCCOC1</td>\n",
       "      <td>1</td>\n",
       "      <td>0</td>\n",
       "      <td>c1ccc2c(c1)c1cn2CCCCOC1</td>\n",
       "      <td>C1CCOCC2=CN(C3=CC=CC=C32)C1</td>\n",
       "    </tr>\n",
       "  </tbody>\n",
       "</table>\n",
       "</div>"
      ],
      "text/plain": [
       "                  Generated_SMILES  Noise_0.1  Noise_0.2  \\\n",
       "0        CCOCc1cn(C(C)=O)c2ccccc12          0          1   \n",
       "1  CC(=O)n1cc(COc2ccccc2)c2ccccc21          0          1   \n",
       "2          C=C(C)n1cc(CO)c2ccccc21          1          1   \n",
       "3         CC(=O)n1cc(CCO)c2ccccc21          0          1   \n",
       "4          c1ccc2c(c1)c1cn2CCCCOC1          1          0   \n",
       "\n",
       "  Related_SMILES_from_raw_generation  \\\n",
       "0          CCOCc1cn(C(C)=O)c2ccccc12   \n",
       "1    CC(=O)n1cc(COc2ccccc2)c2ccccc21   \n",
       "2            C=C(C)n1cc(CO)c2ccccc21   \n",
       "3           CC(=O)n1cc(CCO)c2ccccc21   \n",
       "4            c1ccc2c(c1)c1cn2CCCCOC1   \n",
       "\n",
       "       Tanimoto_sim_structures_from_raw_data  \n",
       "0              CCOCC1=CN(C2=CC=CC=C21)C(=O)C  \n",
       "1  C=12N(C(C)=O)C=C(C=1C=CC=C2)COC3=CC=CC=C3  \n",
       "2                OCC1=CN(C(C)=C)C2=C1C=CC=C2  \n",
       "3               OCCC1=CN(C(C)=O)C2=CC=CC=C21  \n",
       "4                C1CCOCC2=CN(C3=CC=CC=C32)C1  "
      ]
     },
     "execution_count": 16,
     "metadata": {},
     "output_type": "execute_result"
    }
   ],
   "source": [
    "df.head()"
   ]
  },
  {
   "cell_type": "code",
   "execution_count": null,
   "id": "0d4557a8",
   "metadata": {},
   "outputs": [],
   "source": []
  },
  {
   "cell_type": "code",
   "execution_count": 17,
   "id": "7dd0198d",
   "metadata": {},
   "outputs": [],
   "source": [
    "df.to_excel('../Data/Assignment of generation mode.xlsx')"
   ]
  },
  {
   "cell_type": "code",
   "execution_count": null,
   "id": "044530d9",
   "metadata": {},
   "outputs": [],
   "source": [
    "break"
   ]
  },
  {
   "cell_type": "markdown",
   "id": "3befbc7c",
   "metadata": {},
   "source": [
    "## Handle one problematic structure => CC(=O)N1C=CC=CC2(CN3C(=O)c4ccccc4C3=O)c3ccc1c2c3, it is from the 0.1 noise"
   ]
  },
  {
   "cell_type": "code",
   "execution_count": 18,
   "id": "5f0cd7d0",
   "metadata": {},
   "outputs": [],
   "source": [
    "problematic_structure = 'CC(=O)N1C=CC=CC2(CN3C(=O)c4ccccc4C3=O)c3ccc1c2c3'"
   ]
  },
  {
   "cell_type": "code",
   "execution_count": 19,
   "id": "f07dc9e0",
   "metadata": {},
   "outputs": [],
   "source": [
    "fingerprint_ = Chem.RDKFingerprint(Chem.MolFromSmiles(problematic_structure))"
   ]
  },
  {
   "cell_type": "code",
   "execution_count": 23,
   "id": "e79376d4",
   "metadata": {},
   "outputs": [
    {
     "name": "stderr",
     "output_type": "stream",
     "text": [
      "C:\\Users\\aleks\\AppData\\Local\\Temp\\ipykernel_6452\\742001208.py:7: SettingWithCopyWarning: \n",
      "A value is trying to be set on a copy of a slice from a DataFrame\n",
      "\n",
      "See the caveats in the documentation: https://pandas.pydata.org/pandas-docs/stable/user_guide/indexing.html#returning-a-view-versus-a-copy\n",
      "  df_z['Similarity_to_problematic_structure'][i] = sim\n"
     ]
    }
   ],
   "source": [
    "df_z = pd.DataFrame(data=list(tensero_noise_0_1), columns=['SMILES'])\n",
    "df_z['Similarity_to_problematic_structure'] = 0\n",
    "zxc = []\n",
    "for i, smile in enumerate(df_z['SMILES']):\n",
    "    finger = Chem.RDKFingerprint(Chem.MolFromSmiles(smile))\n",
    "    sim = TanimotoSimilarity(fingerprint_, finger)\n",
    "    df_z['Similarity_to_problematic_structure'][i] = sim"
   ]
  },
  {
   "cell_type": "code",
   "execution_count": 39,
   "id": "fbbce617",
   "metadata": {},
   "outputs": [
    {
     "data": {
      "text/html": [
       "<div>\n",
       "<style scoped>\n",
       "    .dataframe tbody tr th:only-of-type {\n",
       "        vertical-align: middle;\n",
       "    }\n",
       "\n",
       "    .dataframe tbody tr th {\n",
       "        vertical-align: top;\n",
       "    }\n",
       "\n",
       "    .dataframe thead th {\n",
       "        text-align: right;\n",
       "    }\n",
       "</style>\n",
       "<table border=\"1\" class=\"dataframe\">\n",
       "  <thead>\n",
       "    <tr style=\"text-align: right;\">\n",
       "      <th></th>\n",
       "      <th>SMILES</th>\n",
       "      <th>Similarity_to_problematic_structure</th>\n",
       "    </tr>\n",
       "  </thead>\n",
       "  <tbody>\n",
       "    <tr>\n",
       "      <th>0</th>\n",
       "      <td>CCCOCC=1C2=C(C=CC=C2)[NH1]C=1</td>\n",
       "      <td>0.190184</td>\n",
       "    </tr>\n",
       "    <tr>\n",
       "      <th>1</th>\n",
       "      <td>CCCOCC=1C2=CC=CC=C2[NH1]C=1</td>\n",
       "      <td>0.190184</td>\n",
       "    </tr>\n",
       "    <tr>\n",
       "      <th>2</th>\n",
       "      <td>CCC(C)CCOCC1=C[NH1]C2=CC=CC=C12</td>\n",
       "      <td>0.202744</td>\n",
       "    </tr>\n",
       "    <tr>\n",
       "      <th>3</th>\n",
       "      <td>CC(C)C=1N(C=CN=1)C2C=C[NH1]C3=CC=CC=C32</td>\n",
       "      <td>0.342876</td>\n",
       "    </tr>\n",
       "    <tr>\n",
       "      <th>4</th>\n",
       "      <td>CCCOCCC1=CC=CC=C1N=[N+1]=[N-1]</td>\n",
       "      <td>0.140934</td>\n",
       "    </tr>\n",
       "  </tbody>\n",
       "</table>\n",
       "</div>"
      ],
      "text/plain": [
       "                                    SMILES  \\\n",
       "0            CCCOCC=1C2=C(C=CC=C2)[NH1]C=1   \n",
       "1              CCCOCC=1C2=CC=CC=C2[NH1]C=1   \n",
       "2          CCC(C)CCOCC1=C[NH1]C2=CC=CC=C12   \n",
       "3  CC(C)C=1N(C=CN=1)C2C=C[NH1]C3=CC=CC=C32   \n",
       "4           CCCOCCC1=CC=CC=C1N=[N+1]=[N-1]   \n",
       "\n",
       "   Similarity_to_problematic_structure  \n",
       "0                             0.190184  \n",
       "1                             0.190184  \n",
       "2                             0.202744  \n",
       "3                             0.342876  \n",
       "4                             0.140934  "
      ]
     },
     "execution_count": 39,
     "metadata": {},
     "output_type": "execute_result"
    }
   ],
   "source": [
    "df_z.head()"
   ]
  },
  {
   "cell_type": "code",
   "execution_count": 40,
   "id": "dd1b6075",
   "metadata": {},
   "outputs": [],
   "source": [
    "closest_val = min(df_z['Similarity_to_problematic_structure'], key=lambda x:abs(x-0.95))"
   ]
  },
  {
   "cell_type": "code",
   "execution_count": 41,
   "id": "2e02b17e",
   "metadata": {},
   "outputs": [
    {
     "data": {
      "text/plain": [
       "0.5221295702373316"
      ]
     },
     "execution_count": 41,
     "metadata": {},
     "output_type": "execute_result"
    }
   ],
   "source": [
    "closest_val"
   ]
  },
  {
   "cell_type": "code",
   "execution_count": 42,
   "id": "337ea850",
   "metadata": {},
   "outputs": [
    {
     "data": {
      "text/plain": [
       "0.5221295702373316"
      ]
     },
     "execution_count": 42,
     "metadata": {},
     "output_type": "execute_result"
    }
   ],
   "source": [
    "df_z['Similarity_to_problematic_structure'].max()"
   ]
  },
  {
   "cell_type": "code",
   "execution_count": 43,
   "id": "9be72a82",
   "metadata": {},
   "outputs": [],
   "source": [
    "zz = df_z.loc[df_z['Similarity_to_problematic_structure'] == df_z['Similarity_to_problematic_structure'].max()]"
   ]
  },
  {
   "cell_type": "code",
   "execution_count": 44,
   "id": "48f14144",
   "metadata": {},
   "outputs": [
    {
     "data": {
      "text/html": [
       "<div>\n",
       "<style scoped>\n",
       "    .dataframe tbody tr th:only-of-type {\n",
       "        vertical-align: middle;\n",
       "    }\n",
       "\n",
       "    .dataframe tbody tr th {\n",
       "        vertical-align: top;\n",
       "    }\n",
       "\n",
       "    .dataframe thead th {\n",
       "        text-align: right;\n",
       "    }\n",
       "</style>\n",
       "<table border=\"1\" class=\"dataframe\">\n",
       "  <thead>\n",
       "    <tr style=\"text-align: right;\">\n",
       "      <th></th>\n",
       "      <th>SMILES</th>\n",
       "      <th>Similarity_to_problematic_structure</th>\n",
       "    </tr>\n",
       "  </thead>\n",
       "  <tbody>\n",
       "    <tr>\n",
       "      <th>449</th>\n",
       "      <td>O=C(C)N1C2=C(C=C3C=C2)C3(CN4C(C5=CC=CC=C5C4=O)...</td>\n",
       "      <td>0.52213</td>\n",
       "    </tr>\n",
       "  </tbody>\n",
       "</table>\n",
       "</div>"
      ],
      "text/plain": [
       "                                                SMILES  \\\n",
       "449  O=C(C)N1C2=C(C=C3C=C2)C3(CN4C(C5=CC=CC=C5C4=O)...   \n",
       "\n",
       "     Similarity_to_problematic_structure  \n",
       "449                              0.52213  "
      ]
     },
     "execution_count": 44,
     "metadata": {},
     "output_type": "execute_result"
    }
   ],
   "source": [
    "zz"
   ]
  },
  {
   "cell_type": "code",
   "execution_count": 45,
   "id": "0c7f5eaa",
   "metadata": {},
   "outputs": [
    {
     "data": {
      "text/plain": [
       "449"
      ]
     },
     "execution_count": 45,
     "metadata": {},
     "output_type": "execute_result"
    }
   ],
   "source": [
    "zz.index[0]"
   ]
  },
  {
   "cell_type": "code",
   "execution_count": 46,
   "id": "46667ddc",
   "metadata": {},
   "outputs": [
    {
     "name": "stdout",
     "output_type": "stream",
     "text": [
      "O=C(C)N1C2=C(C=C3C=C2)C3(CN4C(C5=CC=CC=C5C4=O)=O)C=CC=C1\n"
     ]
    }
   ],
   "source": [
    "print(zz['SMILES'][zz.index[0]]) #that is the problematic structure... "
   ]
  },
  {
   "cell_type": "markdown",
   "id": "a9d20696",
   "metadata": {},
   "source": [
    "## Check_with_the_second"
   ]
  },
  {
   "cell_type": "code",
   "execution_count": 47,
   "id": "016d48bc",
   "metadata": {},
   "outputs": [
    {
     "name": "stderr",
     "output_type": "stream",
     "text": [
      "C:\\Users\\aleks\\AppData\\Local\\Temp\\ipykernel_6452\\1139345280.py:7: SettingWithCopyWarning: \n",
      "A value is trying to be set on a copy of a slice from a DataFrame\n",
      "\n",
      "See the caveats in the documentation: https://pandas.pydata.org/pandas-docs/stable/user_guide/indexing.html#returning-a-view-versus-a-copy\n",
      "  df_z['Similarity_to_problematic_structure'][i] = sim\n"
     ]
    }
   ],
   "source": [
    "df_z = pd.DataFrame(data=list(tensero_noise_0_2), columns=['SMILES'])\n",
    "df_z['Similarity_to_problematic_structure'] = 0\n",
    "zxc = []\n",
    "for i, smile in enumerate(df_z['SMILES']):\n",
    "    finger = Chem.RDKFingerprint(Chem.MolFromSmiles(smile))\n",
    "    sim = TanimotoSimilarity(fingerprint_, finger)\n",
    "    df_z['Similarity_to_problematic_structure'][i] = sim"
   ]
  },
  {
   "cell_type": "code",
   "execution_count": 48,
   "id": "b88b01f3",
   "metadata": {},
   "outputs": [
    {
     "data": {
      "text/html": [
       "<div>\n",
       "<style scoped>\n",
       "    .dataframe tbody tr th:only-of-type {\n",
       "        vertical-align: middle;\n",
       "    }\n",
       "\n",
       "    .dataframe tbody tr th {\n",
       "        vertical-align: top;\n",
       "    }\n",
       "\n",
       "    .dataframe thead th {\n",
       "        text-align: right;\n",
       "    }\n",
       "</style>\n",
       "<table border=\"1\" class=\"dataframe\">\n",
       "  <thead>\n",
       "    <tr style=\"text-align: right;\">\n",
       "      <th></th>\n",
       "      <th>SMILES</th>\n",
       "      <th>Similarity_to_problematic_structure</th>\n",
       "    </tr>\n",
       "  </thead>\n",
       "  <tbody>\n",
       "    <tr>\n",
       "      <th>0</th>\n",
       "      <td>C1[NH1]C=CN1CC2=C[NH1]C3=CC=CC=C32</td>\n",
       "      <td>0.238095</td>\n",
       "    </tr>\n",
       "    <tr>\n",
       "      <th>1</th>\n",
       "      <td>CC1(CN2C=C(N=C2CC)C[NH1]C3=C)C=CC=C31</td>\n",
       "      <td>0.409029</td>\n",
       "    </tr>\n",
       "    <tr>\n",
       "      <th>2</th>\n",
       "      <td>C12C(CNC(C)=CC([NH1]C1)=C)C=C2</td>\n",
       "      <td>0.184122</td>\n",
       "    </tr>\n",
       "    <tr>\n",
       "      <th>3</th>\n",
       "      <td>C=C1CN(C=N1)CC2=C[NH1]C3=CC=CC=C32</td>\n",
       "      <td>0.269001</td>\n",
       "    </tr>\n",
       "    <tr>\n",
       "      <th>4</th>\n",
       "      <td>C12C(CN3C(C)=NC=C3C[NH1]C1)=CC=C2</td>\n",
       "      <td>0.340336</td>\n",
       "    </tr>\n",
       "  </tbody>\n",
       "</table>\n",
       "</div>"
      ],
      "text/plain": [
       "                                  SMILES  Similarity_to_problematic_structure\n",
       "0     C1[NH1]C=CN1CC2=C[NH1]C3=CC=CC=C32                             0.238095\n",
       "1  CC1(CN2C=C(N=C2CC)C[NH1]C3=C)C=CC=C31                             0.409029\n",
       "2         C12C(CNC(C)=CC([NH1]C1)=C)C=C2                             0.184122\n",
       "3     C=C1CN(C=N1)CC2=C[NH1]C3=CC=CC=C32                             0.269001\n",
       "4      C12C(CN3C(C)=NC=C3C[NH1]C1)=CC=C2                             0.340336"
      ]
     },
     "execution_count": 48,
     "metadata": {},
     "output_type": "execute_result"
    }
   ],
   "source": [
    "df_z.head()"
   ]
  },
  {
   "cell_type": "code",
   "execution_count": 49,
   "id": "dd373403",
   "metadata": {},
   "outputs": [],
   "source": [
    "closest_val = min(df_z['Similarity_to_problematic_structure'], key=lambda x:abs(x-0.95))"
   ]
  },
  {
   "cell_type": "code",
   "execution_count": 52,
   "id": "beb952b7",
   "metadata": {},
   "outputs": [
    {
     "data": {
      "text/plain": [
       "0.587012987012987"
      ]
     },
     "execution_count": 52,
     "metadata": {},
     "output_type": "execute_result"
    }
   ],
   "source": [
    "closest_val"
   ]
  },
  {
   "cell_type": "code",
   "execution_count": 50,
   "id": "55ef5fe9",
   "metadata": {},
   "outputs": [],
   "source": [
    "zz = df_z.loc[df_z['Similarity_to_problematic_structure'] == df_z['Similarity_to_problematic_structure'].max()]"
   ]
  },
  {
   "cell_type": "code",
   "execution_count": 51,
   "id": "307ae094",
   "metadata": {},
   "outputs": [
    {
     "name": "stdout",
     "output_type": "stream",
     "text": [
      "C1=CC2=CC=C1C2CN3C(C4=CC=CC=C4C3=O)=O\n"
     ]
    }
   ],
   "source": [
    "print(zz['SMILES'][zz.index[0]])"
   ]
  },
  {
   "cell_type": "code",
   "execution_count": null,
   "id": "93ff6054",
   "metadata": {},
   "outputs": [],
   "source": []
  }
 ],
 "metadata": {
  "kernelspec": {
   "display_name": "Python 3 (ipykernel)",
   "language": "python",
   "name": "python3"
  },
  "language_info": {
   "codemirror_mode": {
    "name": "ipython",
    "version": 3
   },
   "file_extension": ".py",
   "mimetype": "text/x-python",
   "name": "python",
   "nbconvert_exporter": "python",
   "pygments_lexer": "ipython3",
   "version": "3.9.15"
  }
 },
 "nbformat": 4,
 "nbformat_minor": 5
}
