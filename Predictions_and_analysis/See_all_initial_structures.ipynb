{
 "cells": [
  {
   "cell_type": "code",
   "execution_count": 1,
   "id": "3b3fae84",
   "metadata": {},
   "outputs": [],
   "source": [
    "import pandas as pd\n",
    "from rdkit import Chem\n",
    "from rdkit.Chem import PandasTools"
   ]
  },
  {
   "cell_type": "code",
   "execution_count": 2,
   "id": "a1af5796",
   "metadata": {},
   "outputs": [],
   "source": [
    "smifile = \"../Data/initial_caffeine.xlsx\"\n",
    "data = pd.read_excel(smifile)\n",
    "\n",
    "initial_structures_new = data['SMILES']"
   ]
  },
  {
   "cell_type": "code",
   "execution_count": 3,
   "id": "a9ff2b61",
   "metadata": {},
   "outputs": [],
   "source": [
    "resultsDF = pd.DataFrame(data=initial_structures_new, columns=['SMILES'])"
   ]
  },
  {
   "cell_type": "code",
   "execution_count": 4,
   "id": "10eb856a",
   "metadata": {},
   "outputs": [],
   "source": [
    "#Add column with image of each docked molecule\n",
    "resultsDF['Mol Image'] = [Chem.MolFromSmiles(s) for s in initial_structures_new]\n",
    "PandasTools.SaveXlsxFromFrame(resultsDF, '../Data/initial_caffeines_with_pictures.xlsx', molCol='Mol Image')"
   ]
  }
 ],
 "metadata": {
  "kernelspec": {
   "display_name": "Python 3 (ipykernel)",
   "language": "python",
   "name": "python3"
  },
  "language_info": {
   "codemirror_mode": {
    "name": "ipython",
    "version": 3
   },
   "file_extension": ".py",
   "mimetype": "text/x-python",
   "name": "python",
   "nbconvert_exporter": "python",
   "pygments_lexer": "ipython3",
   "version": "3.9.15"
  }
 },
 "nbformat": 4,
 "nbformat_minor": 5
}
