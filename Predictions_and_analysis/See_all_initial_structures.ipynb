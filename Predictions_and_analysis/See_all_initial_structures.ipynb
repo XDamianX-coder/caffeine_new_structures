{
 "cells": [
  {
   "cell_type": "code",
   "execution_count": 1,
   "id": "3b3fae84",
   "metadata": {},
   "outputs": [],
   "source": [
    "import pandas as pd\n",
    "from rdkit import Chem\n",
    "from rdkit.Chem import PandasTools"
   ]
  },
  {
   "cell_type": "code",
   "execution_count": 2,
   "id": "a1af5796",
   "metadata": {},
   "outputs": [],
   "source": [
    "smifile = \"../Data/Indole_-_cytoprotekcja_NEW_improved_smiles.xlsx\"\n",
    "data = pd.read_excel(smifile)\n",
    "data = data['SMILES'][:45]\n",
    "\n",
    "initial_structures_new = list(set(data))"
   ]
  },
  {
   "cell_type": "code",
   "execution_count": 3,
   "id": "a9ff2b61",
   "metadata": {},
   "outputs": [],
   "source": [
    "resultsDF = pd.DataFrame(data=initial_structures_new, columns=['SMILES'])"
   ]
  },
  {
   "cell_type": "code",
   "execution_count": null,
   "id": "cf34ddf1",
   "metadata": {},
   "outputs": [],
   "source": []
  },
  {
   "cell_type": "code",
   "execution_count": 4,
   "id": "10eb856a",
   "metadata": {},
   "outputs": [],
   "source": [
    "#Add column with image of each docked molecule\n",
    "smilesCleaned = [Chem.MolToSmiles(Chem.MolFromSmiles(smiles)) for smiles in initial_structures_new]\n",
    "resultsDF['Mol Image'] = [Chem.MolFromSmiles(s) for s in smilesCleaned]\n",
    "PandasTools.SaveXlsxFromFrame(resultsDF, '../Data/initial_indols_with_pictures.xlsx', molCol='Mol Image')"
   ]
  },
  {
   "cell_type": "code",
   "execution_count": null,
   "id": "8e38137c",
   "metadata": {},
   "outputs": [],
   "source": []
  }
 ],
 "metadata": {
  "kernelspec": {
   "display_name": "Python 3 (ipykernel)",
   "language": "python",
   "name": "python3"
  },
  "language_info": {
   "codemirror_mode": {
    "name": "ipython",
    "version": 3
   },
   "file_extension": ".py",
   "mimetype": "text/x-python",
   "name": "python",
   "nbconvert_exporter": "python",
   "pygments_lexer": "ipython3",
   "version": "3.9.15"
  }
 },
 "nbformat": 4,
 "nbformat_minor": 5
}
