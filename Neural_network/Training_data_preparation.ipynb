{
 "cells": [
  {
   "cell_type": "code",
   "execution_count": 1,
   "id": "184d7556",
   "metadata": {},
   "outputs": [],
   "source": [
    "from rdkit import Chem\n",
    "import sys\n",
    "from pathlib import Path\n",
    "SELFIES_coder_path = Path(\"../SELFIES_coder\")\n",
    "sys.path.append(SELFIES_coder_path.as_posix())\n",
    "import SELFIES_coder as SELFIES_coder\n",
    "import pandas as pd"
   ]
  },
  {
   "cell_type": "code",
   "execution_count": 2,
   "id": "76180dfc",
   "metadata": {},
   "outputs": [],
   "source": [
    "smifile = \"../Data/caffeine_initials.xlsx\"\n",
    "data = pd.read_excel(smifile)\n",
    "#data = data['SMILES']"
   ]
  },
  {
   "cell_type": "code",
   "execution_count": 3,
   "id": "880798be",
   "metadata": {},
   "outputs": [],
   "source": [
    "data['SELFIES'] = [SELFIES_coder.SMILES_to_SELFIES(smi) for smi in data['SMILES']]\n",
    "length_selfies = []\n",
    "try:\n",
    "    for SELFIE_ in data['SELFIES']:\n",
    "        length_selfies.append(SELFIE_.count('['))\n",
    "except:\n",
    "    print('Something went wrong, check source code...')\n",
    "data['SELFIES_length'] = length_selfies"
   ]
  },
  {
   "cell_type": "code",
   "execution_count": 4,
   "id": "c2bd3381",
   "metadata": {},
   "outputs": [
    {
     "data": {
      "text/plain": [
       "<AxesSubplot: >"
      ]
     },
     "execution_count": 4,
     "metadata": {},
     "output_type": "execute_result"
    },
    {
     "data": {
      "image/png": "[encoded data removed]",
      "text/plain": [
       "<Figure size 640x480 with 1 Axes>"
      ]
     },
     "metadata": {},
     "output_type": "display_data"
    }
   ],
   "source": [
    "data['SELFIES_length'].hist()"
   ]
  },
  {
   "cell_type": "code",
   "execution_count": 5,
   "id": "393dce10",
   "metadata": {},
   "outputs": [
    {
     "data": {
      "text/plain": [
       "184"
      ]
     },
     "execution_count": 5,
     "metadata": {},
     "output_type": "execute_result"
    }
   ],
   "source": [
    "data['SELFIES_length'].max()"
   ]
  },
  {
   "cell_type": "code",
   "execution_count": 6,
   "id": "cb8ed51d",
   "metadata": {},
   "outputs": [
    {
     "data": {
      "text/plain": [
       "26"
      ]
     },
     "execution_count": 6,
     "metadata": {},
     "output_type": "execute_result"
    }
   ],
   "source": [
    "data['SELFIES_length'].min()"
   ]
  },
  {
   "cell_type": "code",
   "execution_count": 7,
   "id": "def780bc",
   "metadata": {},
   "outputs": [
    {
     "data": {
      "text/plain": [
       "1"
      ]
     },
     "execution_count": 7,
     "metadata": {},
     "output_type": "execute_result"
    }
   ],
   "source": [
    "len(data[data['SELFIES_length'] > 160])"
   ]
  },
  {
   "cell_type": "code",
   "execution_count": 8,
   "id": "6c310b40",
   "metadata": {},
   "outputs": [
    {
     "data": {
      "text/plain": [
       "5"
      ]
     },
     "execution_count": 8,
     "metadata": {},
     "output_type": "execute_result"
    }
   ],
   "source": [
    "len(data[data['SELFIES_length'] > 90])"
   ]
  },
  {
   "cell_type": "code",
   "execution_count": 9,
   "id": "a9619731",
   "metadata": {},
   "outputs": [
    {
     "data": {
      "text/plain": [
       "11"
      ]
     },
     "execution_count": 9,
     "metadata": {},
     "output_type": "execute_result"
    }
   ],
   "source": [
    "len(data[data['SELFIES_length'] > 80])"
   ]
  },
  {
   "cell_type": "code",
   "execution_count": 10,
   "id": "31152bca",
   "metadata": {},
   "outputs": [],
   "source": [
    "mols = [Chem.MolFromSmiles(smi) for smi in data['SMILES']]"
   ]
  },
  {
   "cell_type": "code",
   "execution_count": 11,
   "id": "18132709",
   "metadata": {},
   "outputs": [],
   "source": [
    "smiles_generic = [Chem.MolToSmiles(mol, isomericSmiles=False, canonical=True) for mol in mols]"
   ]
  },
  {
   "cell_type": "code",
   "execution_count": 12,
   "id": "f69d5bec",
   "metadata": {},
   "outputs": [
    {
     "data": {
      "text/plain": [
       "175"
      ]
     },
     "execution_count": 12,
     "metadata": {},
     "output_type": "execute_result"
    }
   ],
   "source": [
    "len(smiles_generic[62]) #the longest element"
   ]
  },
  {
   "cell_type": "code",
   "execution_count": 13,
   "id": "2eb50987",
   "metadata": {},
   "outputs": [],
   "source": [
    "data['generic_smiles'] = smiles_generic"
   ]
  },
  {
   "cell_type": "code",
   "execution_count": 14,
   "id": "ab7f0af8",
   "metadata": {},
   "outputs": [],
   "source": [
    "data['SELFIES_generic'] = [SELFIES_coder.SMILES_to_SELFIES(smi) for smi in data['generic_smiles']]\n",
    "length_selfies = []\n",
    "try:\n",
    "    for SELFIE_ in data['SELFIES_generic']:\n",
    "        length_selfies.append(SELFIE_.count('['))\n",
    "except:\n",
    "    print('Something went wrong, check source code...')\n",
    "data['SELFIES_length_generic'] = length_selfies"
   ]
  },
  {
   "cell_type": "code",
   "execution_count": 15,
   "id": "895e10b2",
   "metadata": {},
   "outputs": [
    {
     "data": {
      "text/plain": [
       "<AxesSubplot: >"
      ]
     },
     "execution_count": 15,
     "metadata": {},
     "output_type": "execute_result"
    },
    {
     "data": {
      "image/png": "[encoded data removed]",
      "text/plain": [
       "<Figure size 640x480 with 1 Axes>"
      ]
     },
     "metadata": {},
     "output_type": "display_data"
    }
   ],
   "source": [
    "data['SELFIES_length_generic'].hist()"
   ]
  },
  {
   "cell_type": "code",
   "execution_count": null,
   "id": "53408458",
   "metadata": {},
   "outputs": [],
   "source": []
  },
  {
   "cell_type": "code",
   "execution_count": 16,
   "id": "33ffb50e",
   "metadata": {},
   "outputs": [
    {
     "data": {
      "text/plain": [
       "58"
      ]
     },
     "execution_count": 16,
     "metadata": {},
     "output_type": "execute_result"
    }
   ],
   "source": [
    "len(data[data['SELFIES_length'] < 80]) # maybe these should be our initial structures"
   ]
  },
  {
   "cell_type": "code",
   "execution_count": 17,
   "id": "448f4e9f",
   "metadata": {},
   "outputs": [],
   "source": [
    "data = data[data['SELFIES_length'] < 80]"
   ]
  },
  {
   "cell_type": "code",
   "execution_count": 18,
   "id": "1108729a",
   "metadata": {},
   "outputs": [
    {
     "data": {
      "text/html": [
       "<div>\n",
       "<style scoped>\n",
       "    .dataframe tbody tr th:only-of-type {\n",
       "        vertical-align: middle;\n",
       "    }\n",
       "\n",
       "    .dataframe tbody tr th {\n",
       "        vertical-align: top;\n",
       "    }\n",
       "\n",
       "    .dataframe thead th {\n",
       "        text-align: right;\n",
       "    }\n",
       "</style>\n",
       "<table border=\"1\" class=\"dataframe\">\n",
       "  <thead>\n",
       "    <tr style=\"text-align: right;\">\n",
       "      <th></th>\n",
       "      <th>SMILES</th>\n",
       "      <th>Aktywność cytoprotekcyjna (%) - initial</th>\n",
       "      <th>Aktywność cytoprotekcyjna (%)</th>\n",
       "      <th>SELFIES</th>\n",
       "      <th>SELFIES_length</th>\n",
       "      <th>generic_smiles</th>\n",
       "      <th>SELFIES_generic</th>\n",
       "      <th>SELFIES_length_generic</th>\n",
       "    </tr>\n",
       "  </thead>\n",
       "  <tbody>\n",
       "    <tr>\n",
       "      <th>0</th>\n",
       "      <td>CN(C(N1C)=O)C2=C(N(C)C=N2)C1=O</td>\n",
       "      <td>12</td>\n",
       "      <td>12</td>\n",
       "      <td>[C][N][Branch1][#Branch1][C][Branch1][Ring1][N...</td>\n",
       "      <td>26</td>\n",
       "      <td>Cn1c(=O)c2c(ncn2C)n(C)c1=O</td>\n",
       "      <td>[C][N][C][=Branch1][C][=O][C][=C][Branch1][#Br...</td>\n",
       "      <td>24</td>\n",
       "    </tr>\n",
       "    <tr>\n",
       "      <th>1</th>\n",
       "      <td>CN(C(N1C)=S)C2=C(N(C)C=N2)C1=S</td>\n",
       "      <td>45</td>\n",
       "      <td>45</td>\n",
       "      <td>[C][N][Branch1][#Branch1][C][Branch1][Ring1][N...</td>\n",
       "      <td>26</td>\n",
       "      <td>Cn1c(=S)c2c(ncn2C)n(C)c1=S</td>\n",
       "      <td>[C][N][C][=Branch1][C][=S][C][=C][Branch1][#Br...</td>\n",
       "      <td>24</td>\n",
       "    </tr>\n",
       "    <tr>\n",
       "      <th>2</th>\n",
       "      <td>CN(C(N1C)=O)C2=C(N(C)C=N2)C1=S</td>\n",
       "      <td>65</td>\n",
       "      <td>65</td>\n",
       "      <td>[C][N][Branch1][#Branch1][C][Branch1][Ring1][N...</td>\n",
       "      <td>26</td>\n",
       "      <td>Cn1c(=S)c2c(ncn2C)n(C)c1=O</td>\n",
       "      <td>[C][N][C][=Branch1][C][=S][C][=C][Branch1][#Br...</td>\n",
       "      <td>24</td>\n",
       "    </tr>\n",
       "    <tr>\n",
       "      <th>3</th>\n",
       "      <td>CN(C(N1C)=O)C2=C(N(C)C(SC)=N2)C1=O</td>\n",
       "      <td>15</td>\n",
       "      <td>15</td>\n",
       "      <td>[C][N][Branch1][#Branch1][C][Branch1][Ring1][N...</td>\n",
       "      <td>30</td>\n",
       "      <td>CSc1nc2c(c(=O)n(C)c(=O)n2C)n1C</td>\n",
       "      <td>[C][S][C][=N][C][=C][Branch1][P][C][=Branch1][...</td>\n",
       "      <td>28</td>\n",
       "    </tr>\n",
       "    <tr>\n",
       "      <th>4</th>\n",
       "      <td>CN(C(N1C)=O)C2=C(N(C)C(SCC)=N2)C1=O</td>\n",
       "      <td>10</td>\n",
       "      <td>10</td>\n",
       "      <td>[C][N][Branch1][#Branch1][C][Branch1][Ring1][N...</td>\n",
       "      <td>31</td>\n",
       "      <td>CCSc1nc2c(c(=O)n(C)c(=O)n2C)n1C</td>\n",
       "      <td>[C][C][S][C][=N][C][=C][Branch1][P][C][=Branch...</td>\n",
       "      <td>29</td>\n",
       "    </tr>\n",
       "  </tbody>\n",
       "</table>\n",
       "</div>"
      ],
      "text/plain": [
       "                                SMILES  \\\n",
       "0       CN(C(N1C)=O)C2=C(N(C)C=N2)C1=O   \n",
       "1       CN(C(N1C)=S)C2=C(N(C)C=N2)C1=S   \n",
       "2       CN(C(N1C)=O)C2=C(N(C)C=N2)C1=S   \n",
       "3   CN(C(N1C)=O)C2=C(N(C)C(SC)=N2)C1=O   \n",
       "4  CN(C(N1C)=O)C2=C(N(C)C(SCC)=N2)C1=O   \n",
       "\n",
       "   Aktywność cytoprotekcyjna (%) - initial  Aktywność cytoprotekcyjna (%)  \\\n",
       "0                                       12                             12   \n",
       "1                                       45                             45   \n",
       "2                                       65                             65   \n",
       "3                                       15                             15   \n",
       "4                                       10                             10   \n",
       "\n",
       "                                             SELFIES  SELFIES_length  \\\n",
       "0  [C][N][Branch1][#Branch1][C][Branch1][Ring1][N...              26   \n",
       "1  [C][N][Branch1][#Branch1][C][Branch1][Ring1][N...              26   \n",
       "2  [C][N][Branch1][#Branch1][C][Branch1][Ring1][N...              26   \n",
       "3  [C][N][Branch1][#Branch1][C][Branch1][Ring1][N...              30   \n",
       "4  [C][N][Branch1][#Branch1][C][Branch1][Ring1][N...              31   \n",
       "\n",
       "                    generic_smiles  \\\n",
       "0       Cn1c(=O)c2c(ncn2C)n(C)c1=O   \n",
       "1       Cn1c(=S)c2c(ncn2C)n(C)c1=S   \n",
       "2       Cn1c(=S)c2c(ncn2C)n(C)c1=O   \n",
       "3   CSc1nc2c(c(=O)n(C)c(=O)n2C)n1C   \n",
       "4  CCSc1nc2c(c(=O)n(C)c(=O)n2C)n1C   \n",
       "\n",
       "                                     SELFIES_generic  SELFIES_length_generic  \n",
       "0  [C][N][C][=Branch1][C][=O][C][=C][Branch1][#Br...                      24  \n",
       "1  [C][N][C][=Branch1][C][=S][C][=C][Branch1][#Br...                      24  \n",
       "2  [C][N][C][=Branch1][C][=S][C][=C][Branch1][#Br...                      24  \n",
       "3  [C][S][C][=N][C][=C][Branch1][P][C][=Branch1][...                      28  \n",
       "4  [C][C][S][C][=N][C][=C][Branch1][P][C][=Branch...                      29  "
      ]
     },
     "execution_count": 18,
     "metadata": {},
     "output_type": "execute_result"
    }
   ],
   "source": [
    "data.head()"
   ]
  },
  {
   "cell_type": "markdown",
   "id": "be40e6c4",
   "metadata": {},
   "source": [
    "## Training_data_from_initials, maybe scaling will be more worth it"
   ]
  },
  {
   "cell_type": "code",
   "execution_count": 19,
   "id": "f3441be6",
   "metadata": {},
   "outputs": [
    {
     "data": {
      "text/plain": [
       "SMILES                                            CN(C(N1C)=O)C2=C(N(C)C(SCC(C)(C)C)=N2)C1=O\n",
       "Aktywność cytoprotekcyjna (%) - initial                                                    0\n",
       "Aktywność cytoprotekcyjna (%)                                                              0\n",
       "SELFIES                                    [C][N][Branch1][#Branch1][C][Branch1][Ring1][N...\n",
       "SELFIES_length                                                                            39\n",
       "generic_smiles                                        Cn1c(=O)c2c(nc(SCC(C)(C)C)n2C)n(C)c1=O\n",
       "SELFIES_generic                            [C][N][C][=Branch1][C][=O][C][=C][Branch2][Rin...\n",
       "SELFIES_length_generic                                                                    38\n",
       "Name: 7, dtype: object"
      ]
     },
     "execution_count": 19,
     "metadata": {},
     "output_type": "execute_result"
    }
   ],
   "source": [
    "data.iloc[7]"
   ]
  },
  {
   "cell_type": "code",
   "execution_count": 20,
   "id": "fc43cb79",
   "metadata": {},
   "outputs": [],
   "source": [
    "mols = [Chem.MolFromSmiles(smi) for smi in data['SMILES']]"
   ]
  },
  {
   "cell_type": "code",
   "execution_count": 21,
   "id": "e308269f",
   "metadata": {},
   "outputs": [
    {
     "data": {
      "text/plain": [
       "336206"
      ]
     },
     "execution_count": 21,
     "metadata": {},
     "output_type": "execute_result"
    }
   ],
   "source": [
    "smiles_training = []\n",
    "\n",
    "for i in range(10000):\n",
    "    for smi in mols:\n",
    "        try:\n",
    "            new_smi = Chem.MolToSmiles(smi, doRandom=True)\n",
    "            smiles_training.append(new_smi)\n",
    "        except:\n",
    "            print(\"Error when processing\", i, smi)\n",
    "drop_duplicates_smi_train = list(set(smiles_training))\n",
    "len(drop_duplicates_smi_train)"
   ]
  },
  {
   "cell_type": "markdown",
   "id": "1c514bce",
   "metadata": {},
   "source": [
    "## convert to SELFIES and check if there are repetitions"
   ]
  },
  {
   "cell_type": "code",
   "execution_count": 22,
   "id": "7784e21e",
   "metadata": {},
   "outputs": [
    {
     "data": {
      "text/plain": [
       "328851"
      ]
     },
     "execution_count": 22,
     "metadata": {},
     "output_type": "execute_result"
    }
   ],
   "source": [
    "selfies_training = [SELFIES_coder.SMILES_to_SELFIES(smi) for smi in smiles_training]\n",
    "drop_duplicates_self_train = list(set(selfies_training))\n",
    "len(drop_duplicates_self_train)"
   ]
  },
  {
   "cell_type": "code",
   "execution_count": 23,
   "id": "f683ccc9",
   "metadata": {},
   "outputs": [],
   "source": [
    "to_be_tested = pd.DataFrame(data=drop_duplicates_self_train, columns=['SELFIES'])"
   ]
  },
  {
   "cell_type": "code",
   "execution_count": 24,
   "id": "b34eec40",
   "metadata": {},
   "outputs": [
    {
     "data": {
      "text/plain": [
       "328851"
      ]
     },
     "execution_count": 24,
     "metadata": {},
     "output_type": "execute_result"
    }
   ],
   "source": [
    "to_be_tested__ = [SELFIES_coder.SELFIES_to_SMILES(self) for self in drop_duplicates_self_train]\n",
    "drop_duplicates_smmi_train = list(set(to_be_tested__))\n",
    "len(drop_duplicates_smmi_train)"
   ]
  },
  {
   "cell_type": "code",
   "execution_count": 25,
   "id": "551898db",
   "metadata": {},
   "outputs": [],
   "source": [
    "training_smiles = pd.DataFrame(data=drop_duplicates_smmi_train, columns=['SMILES'])"
   ]
  },
  {
   "cell_type": "code",
   "execution_count": 26,
   "id": "c3a2a578",
   "metadata": {},
   "outputs": [],
   "source": [
    "training_smiles.to_parquet('../Data/training_data_smiles_caffeine.parquet')"
   ]
  },
  {
   "cell_type": "code",
   "execution_count": null,
   "id": "b4b969aa",
   "metadata": {},
   "outputs": [],
   "source": []
  },
  {
   "cell_type": "code",
   "execution_count": 27,
   "id": "5ea55be0",
   "metadata": {},
   "outputs": [],
   "source": [
    "to_be_saved = data[['SMILES', 'Aktywność cytoprotekcyjna [%]']]\n",
    "to_be_saved.to_excel('../Data/initial_caffeine.xlsx')"
   ]
  },
  {
   "cell_type": "code",
   "execution_count": null,
   "id": "73fb464e",
   "metadata": {},
   "outputs": [],
   "source": []
  }
 ],
 "metadata": {
  "kernelspec": {
   "display_name": "Python 3 (ipykernel)",
   "language": "python",
   "name": "python3"
  },
  "language_info": {
   "codemirror_mode": {
    "name": "ipython",
    "version": 3
   },
   "file_extension": ".py",
   "mimetype": "text/x-python",
   "name": "python",
   "nbconvert_exporter": "python",
   "pygments_lexer": "ipython3",
   "version": "3.9.15"
  }
 },
 "nbformat": 4,
 "nbformat_minor": 5
}
